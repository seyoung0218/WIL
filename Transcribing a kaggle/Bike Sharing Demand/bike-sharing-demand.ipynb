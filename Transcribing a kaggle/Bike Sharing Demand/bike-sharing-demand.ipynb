{
 "cells": [
  {
   "cell_type": "markdown",
   "id": "72bef50d",
   "metadata": {
    "papermill": {
     "duration": 0.03023,
     "end_time": "2022-07-16T10:16:28.500577",
     "exception": false,
     "start_time": "2022-07-16T10:16:28.470347",
     "status": "completed"
    },
    "tags": []
   },
   "source": [
    "# 1.자전거 대여 수요 예측 경진대회 탐색적 데이터 분석\n",
    "## 1.1데이터 둘러보기"
   ]
  },
  {
   "cell_type": "code",
   "execution_count": 1,
   "id": "48b9d8e5",
   "metadata": {
    "execution": {
     "iopub.execute_input": "2022-07-16T10:16:28.557775Z",
     "iopub.status.busy": "2022-07-16T10:16:28.557167Z",
     "iopub.status.idle": "2022-07-16T10:16:28.642869Z",
     "shell.execute_reply": "2022-07-16T10:16:28.641852Z"
    },
    "papermill": {
     "duration": 0.118045,
     "end_time": "2022-07-16T10:16:28.645887",
     "exception": false,
     "start_time": "2022-07-16T10:16:28.527842",
     "status": "completed"
    },
    "tags": []
   },
   "outputs": [],
   "source": [
    "import numpy as np\n",
    "import pandas as pd\n",
    "\n",
    "train = pd.read_csv('../input/bike-sharing-demand/train.csv')\n",
    "test = pd.read_csv('../input/bike-sharing-demand/test.csv')\n",
    "submission = pd.read_csv('../input/bike-sharing-demand/sampleSubmission.csv')"
   ]
  },
  {
   "cell_type": "code",
   "execution_count": 2,
   "id": "7b57134e",
   "metadata": {
    "execution": {
     "iopub.execute_input": "2022-07-16T10:16:28.701692Z",
     "iopub.status.busy": "2022-07-16T10:16:28.701238Z",
     "iopub.status.idle": "2022-07-16T10:16:28.709714Z",
     "shell.execute_reply": "2022-07-16T10:16:28.708654Z"
    },
    "papermill": {
     "duration": 0.038502,
     "end_time": "2022-07-16T10:16:28.711457",
     "exception": false,
     "start_time": "2022-07-16T10:16:28.672955",
     "status": "completed"
    },
    "tags": []
   },
   "outputs": [
    {
     "data": {
      "text/plain": [
       "((10886, 12), (6493, 9))"
      ]
     },
     "execution_count": 2,
     "metadata": {},
     "output_type": "execute_result"
    }
   ],
   "source": [
    "train.shape, test.shape"
   ]
  },
  {
   "cell_type": "code",
   "execution_count": 3,
   "id": "54360dce",
   "metadata": {
    "execution": {
     "iopub.execute_input": "2022-07-16T10:16:28.745750Z",
     "iopub.status.busy": "2022-07-16T10:16:28.744980Z",
     "iopub.status.idle": "2022-07-16T10:16:28.768140Z",
     "shell.execute_reply": "2022-07-16T10:16:28.767123Z"
    },
    "papermill": {
     "duration": 0.042905,
     "end_time": "2022-07-16T10:16:28.770663",
     "exception": false,
     "start_time": "2022-07-16T10:16:28.727758",
     "status": "completed"
    },
    "tags": []
   },
   "outputs": [
    {
     "data": {
      "text/html": [
       "<div>\n",
       "<style scoped>\n",
       "    .dataframe tbody tr th:only-of-type {\n",
       "        vertical-align: middle;\n",
       "    }\n",
       "\n",
       "    .dataframe tbody tr th {\n",
       "        vertical-align: top;\n",
       "    }\n",
       "\n",
       "    .dataframe thead th {\n",
       "        text-align: right;\n",
       "    }\n",
       "</style>\n",
       "<table border=\"1\" class=\"dataframe\">\n",
       "  <thead>\n",
       "    <tr style=\"text-align: right;\">\n",
       "      <th></th>\n",
       "      <th>datetime</th>\n",
       "      <th>season</th>\n",
       "      <th>holiday</th>\n",
       "      <th>workingday</th>\n",
       "      <th>weather</th>\n",
       "      <th>temp</th>\n",
       "      <th>atemp</th>\n",
       "      <th>humidity</th>\n",
       "      <th>windspeed</th>\n",
       "      <th>casual</th>\n",
       "      <th>registered</th>\n",
       "      <th>count</th>\n",
       "    </tr>\n",
       "  </thead>\n",
       "  <tbody>\n",
       "    <tr>\n",
       "      <th>0</th>\n",
       "      <td>2011-01-01 00:00:00</td>\n",
       "      <td>1</td>\n",
       "      <td>0</td>\n",
       "      <td>0</td>\n",
       "      <td>1</td>\n",
       "      <td>9.84</td>\n",
       "      <td>14.395</td>\n",
       "      <td>81</td>\n",
       "      <td>0.0</td>\n",
       "      <td>3</td>\n",
       "      <td>13</td>\n",
       "      <td>16</td>\n",
       "    </tr>\n",
       "    <tr>\n",
       "      <th>1</th>\n",
       "      <td>2011-01-01 01:00:00</td>\n",
       "      <td>1</td>\n",
       "      <td>0</td>\n",
       "      <td>0</td>\n",
       "      <td>1</td>\n",
       "      <td>9.02</td>\n",
       "      <td>13.635</td>\n",
       "      <td>80</td>\n",
       "      <td>0.0</td>\n",
       "      <td>8</td>\n",
       "      <td>32</td>\n",
       "      <td>40</td>\n",
       "    </tr>\n",
       "    <tr>\n",
       "      <th>2</th>\n",
       "      <td>2011-01-01 02:00:00</td>\n",
       "      <td>1</td>\n",
       "      <td>0</td>\n",
       "      <td>0</td>\n",
       "      <td>1</td>\n",
       "      <td>9.02</td>\n",
       "      <td>13.635</td>\n",
       "      <td>80</td>\n",
       "      <td>0.0</td>\n",
       "      <td>5</td>\n",
       "      <td>27</td>\n",
       "      <td>32</td>\n",
       "    </tr>\n",
       "    <tr>\n",
       "      <th>3</th>\n",
       "      <td>2011-01-01 03:00:00</td>\n",
       "      <td>1</td>\n",
       "      <td>0</td>\n",
       "      <td>0</td>\n",
       "      <td>1</td>\n",
       "      <td>9.84</td>\n",
       "      <td>14.395</td>\n",
       "      <td>75</td>\n",
       "      <td>0.0</td>\n",
       "      <td>3</td>\n",
       "      <td>10</td>\n",
       "      <td>13</td>\n",
       "    </tr>\n",
       "    <tr>\n",
       "      <th>4</th>\n",
       "      <td>2011-01-01 04:00:00</td>\n",
       "      <td>1</td>\n",
       "      <td>0</td>\n",
       "      <td>0</td>\n",
       "      <td>1</td>\n",
       "      <td>9.84</td>\n",
       "      <td>14.395</td>\n",
       "      <td>75</td>\n",
       "      <td>0.0</td>\n",
       "      <td>0</td>\n",
       "      <td>1</td>\n",
       "      <td>1</td>\n",
       "    </tr>\n",
       "  </tbody>\n",
       "</table>\n",
       "</div>"
      ],
      "text/plain": [
       "              datetime  season  holiday  workingday  weather  temp   atemp  \\\n",
       "0  2011-01-01 00:00:00       1        0           0        1  9.84  14.395   \n",
       "1  2011-01-01 01:00:00       1        0           0        1  9.02  13.635   \n",
       "2  2011-01-01 02:00:00       1        0           0        1  9.02  13.635   \n",
       "3  2011-01-01 03:00:00       1        0           0        1  9.84  14.395   \n",
       "4  2011-01-01 04:00:00       1        0           0        1  9.84  14.395   \n",
       "\n",
       "   humidity  windspeed  casual  registered  count  \n",
       "0        81        0.0       3          13     16  \n",
       "1        80        0.0       8          32     40  \n",
       "2        80        0.0       5          27     32  \n",
       "3        75        0.0       3          10     13  \n",
       "4        75        0.0       0           1      1  "
      ]
     },
     "execution_count": 3,
     "metadata": {},
     "output_type": "execute_result"
    }
   ],
   "source": [
    "train.head()"
   ]
  },
  {
   "cell_type": "code",
   "execution_count": 4,
   "id": "f356a002",
   "metadata": {
    "execution": {
     "iopub.execute_input": "2022-07-16T10:16:28.827284Z",
     "iopub.status.busy": "2022-07-16T10:16:28.826305Z",
     "iopub.status.idle": "2022-07-16T10:16:28.842545Z",
     "shell.execute_reply": "2022-07-16T10:16:28.841657Z"
    },
    "papermill": {
     "duration": 0.047354,
     "end_time": "2022-07-16T10:16:28.845258",
     "exception": false,
     "start_time": "2022-07-16T10:16:28.797904",
     "status": "completed"
    },
    "tags": []
   },
   "outputs": [
    {
     "data": {
      "text/html": [
       "<div>\n",
       "<style scoped>\n",
       "    .dataframe tbody tr th:only-of-type {\n",
       "        vertical-align: middle;\n",
       "    }\n",
       "\n",
       "    .dataframe tbody tr th {\n",
       "        vertical-align: top;\n",
       "    }\n",
       "\n",
       "    .dataframe thead th {\n",
       "        text-align: right;\n",
       "    }\n",
       "</style>\n",
       "<table border=\"1\" class=\"dataframe\">\n",
       "  <thead>\n",
       "    <tr style=\"text-align: right;\">\n",
       "      <th></th>\n",
       "      <th>datetime</th>\n",
       "      <th>season</th>\n",
       "      <th>holiday</th>\n",
       "      <th>workingday</th>\n",
       "      <th>weather</th>\n",
       "      <th>temp</th>\n",
       "      <th>atemp</th>\n",
       "      <th>humidity</th>\n",
       "      <th>windspeed</th>\n",
       "    </tr>\n",
       "  </thead>\n",
       "  <tbody>\n",
       "    <tr>\n",
       "      <th>0</th>\n",
       "      <td>2011-01-20 00:00:00</td>\n",
       "      <td>1</td>\n",
       "      <td>0</td>\n",
       "      <td>1</td>\n",
       "      <td>1</td>\n",
       "      <td>10.66</td>\n",
       "      <td>11.365</td>\n",
       "      <td>56</td>\n",
       "      <td>26.0027</td>\n",
       "    </tr>\n",
       "    <tr>\n",
       "      <th>1</th>\n",
       "      <td>2011-01-20 01:00:00</td>\n",
       "      <td>1</td>\n",
       "      <td>0</td>\n",
       "      <td>1</td>\n",
       "      <td>1</td>\n",
       "      <td>10.66</td>\n",
       "      <td>13.635</td>\n",
       "      <td>56</td>\n",
       "      <td>0.0000</td>\n",
       "    </tr>\n",
       "    <tr>\n",
       "      <th>2</th>\n",
       "      <td>2011-01-20 02:00:00</td>\n",
       "      <td>1</td>\n",
       "      <td>0</td>\n",
       "      <td>1</td>\n",
       "      <td>1</td>\n",
       "      <td>10.66</td>\n",
       "      <td>13.635</td>\n",
       "      <td>56</td>\n",
       "      <td>0.0000</td>\n",
       "    </tr>\n",
       "    <tr>\n",
       "      <th>3</th>\n",
       "      <td>2011-01-20 03:00:00</td>\n",
       "      <td>1</td>\n",
       "      <td>0</td>\n",
       "      <td>1</td>\n",
       "      <td>1</td>\n",
       "      <td>10.66</td>\n",
       "      <td>12.880</td>\n",
       "      <td>56</td>\n",
       "      <td>11.0014</td>\n",
       "    </tr>\n",
       "    <tr>\n",
       "      <th>4</th>\n",
       "      <td>2011-01-20 04:00:00</td>\n",
       "      <td>1</td>\n",
       "      <td>0</td>\n",
       "      <td>1</td>\n",
       "      <td>1</td>\n",
       "      <td>10.66</td>\n",
       "      <td>12.880</td>\n",
       "      <td>56</td>\n",
       "      <td>11.0014</td>\n",
       "    </tr>\n",
       "  </tbody>\n",
       "</table>\n",
       "</div>"
      ],
      "text/plain": [
       "              datetime  season  holiday  workingday  weather   temp   atemp  \\\n",
       "0  2011-01-20 00:00:00       1        0           1        1  10.66  11.365   \n",
       "1  2011-01-20 01:00:00       1        0           1        1  10.66  13.635   \n",
       "2  2011-01-20 02:00:00       1        0           1        1  10.66  13.635   \n",
       "3  2011-01-20 03:00:00       1        0           1        1  10.66  12.880   \n",
       "4  2011-01-20 04:00:00       1        0           1        1  10.66  12.880   \n",
       "\n",
       "   humidity  windspeed  \n",
       "0        56    26.0027  \n",
       "1        56     0.0000  \n",
       "2        56     0.0000  \n",
       "3        56    11.0014  \n",
       "4        56    11.0014  "
      ]
     },
     "execution_count": 4,
     "metadata": {},
     "output_type": "execute_result"
    }
   ],
   "source": [
    "test.head()"
   ]
  },
  {
   "cell_type": "code",
   "execution_count": 5,
   "id": "735e0845",
   "metadata": {
    "execution": {
     "iopub.execute_input": "2022-07-16T10:16:28.901798Z",
     "iopub.status.busy": "2022-07-16T10:16:28.901062Z",
     "iopub.status.idle": "2022-07-16T10:16:28.910608Z",
     "shell.execute_reply": "2022-07-16T10:16:28.909674Z"
    },
    "papermill": {
     "duration": 0.039605,
     "end_time": "2022-07-16T10:16:28.912224",
     "exception": false,
     "start_time": "2022-07-16T10:16:28.872619",
     "status": "completed"
    },
    "tags": []
   },
   "outputs": [
    {
     "data": {
      "text/html": [
       "<div>\n",
       "<style scoped>\n",
       "    .dataframe tbody tr th:only-of-type {\n",
       "        vertical-align: middle;\n",
       "    }\n",
       "\n",
       "    .dataframe tbody tr th {\n",
       "        vertical-align: top;\n",
       "    }\n",
       "\n",
       "    .dataframe thead th {\n",
       "        text-align: right;\n",
       "    }\n",
       "</style>\n",
       "<table border=\"1\" class=\"dataframe\">\n",
       "  <thead>\n",
       "    <tr style=\"text-align: right;\">\n",
       "      <th></th>\n",
       "      <th>datetime</th>\n",
       "      <th>count</th>\n",
       "    </tr>\n",
       "  </thead>\n",
       "  <tbody>\n",
       "    <tr>\n",
       "      <th>0</th>\n",
       "      <td>2011-01-20 00:00:00</td>\n",
       "      <td>0</td>\n",
       "    </tr>\n",
       "    <tr>\n",
       "      <th>1</th>\n",
       "      <td>2011-01-20 01:00:00</td>\n",
       "      <td>0</td>\n",
       "    </tr>\n",
       "    <tr>\n",
       "      <th>2</th>\n",
       "      <td>2011-01-20 02:00:00</td>\n",
       "      <td>0</td>\n",
       "    </tr>\n",
       "    <tr>\n",
       "      <th>3</th>\n",
       "      <td>2011-01-20 03:00:00</td>\n",
       "      <td>0</td>\n",
       "    </tr>\n",
       "    <tr>\n",
       "      <th>4</th>\n",
       "      <td>2011-01-20 04:00:00</td>\n",
       "      <td>0</td>\n",
       "    </tr>\n",
       "  </tbody>\n",
       "</table>\n",
       "</div>"
      ],
      "text/plain": [
       "              datetime  count\n",
       "0  2011-01-20 00:00:00      0\n",
       "1  2011-01-20 01:00:00      0\n",
       "2  2011-01-20 02:00:00      0\n",
       "3  2011-01-20 03:00:00      0\n",
       "4  2011-01-20 04:00:00      0"
      ]
     },
     "execution_count": 5,
     "metadata": {},
     "output_type": "execute_result"
    }
   ],
   "source": [
    "submission.head()"
   ]
  },
  {
   "cell_type": "code",
   "execution_count": 6,
   "id": "30f89c17",
   "metadata": {
    "execution": {
     "iopub.execute_input": "2022-07-16T10:16:28.945979Z",
     "iopub.status.busy": "2022-07-16T10:16:28.945383Z",
     "iopub.status.idle": "2022-07-16T10:16:28.970191Z",
     "shell.execute_reply": "2022-07-16T10:16:28.968812Z"
    },
    "papermill": {
     "duration": 0.043938,
     "end_time": "2022-07-16T10:16:28.972200",
     "exception": false,
     "start_time": "2022-07-16T10:16:28.928262",
     "status": "completed"
    },
    "tags": []
   },
   "outputs": [
    {
     "name": "stdout",
     "output_type": "stream",
     "text": [
      "<class 'pandas.core.frame.DataFrame'>\n",
      "RangeIndex: 10886 entries, 0 to 10885\n",
      "Data columns (total 12 columns):\n",
      " #   Column      Non-Null Count  Dtype  \n",
      "---  ------      --------------  -----  \n",
      " 0   datetime    10886 non-null  object \n",
      " 1   season      10886 non-null  int64  \n",
      " 2   holiday     10886 non-null  int64  \n",
      " 3   workingday  10886 non-null  int64  \n",
      " 4   weather     10886 non-null  int64  \n",
      " 5   temp        10886 non-null  float64\n",
      " 6   atemp       10886 non-null  float64\n",
      " 7   humidity    10886 non-null  int64  \n",
      " 8   windspeed   10886 non-null  float64\n",
      " 9   casual      10886 non-null  int64  \n",
      " 10  registered  10886 non-null  int64  \n",
      " 11  count       10886 non-null  int64  \n",
      "dtypes: float64(3), int64(8), object(1)\n",
      "memory usage: 1020.7+ KB\n"
     ]
    }
   ],
   "source": [
    "train.info()"
   ]
  },
  {
   "cell_type": "code",
   "execution_count": 7,
   "id": "71638c60",
   "metadata": {
    "execution": {
     "iopub.execute_input": "2022-07-16T10:16:29.007141Z",
     "iopub.status.busy": "2022-07-16T10:16:29.006782Z",
     "iopub.status.idle": "2022-07-16T10:16:29.022682Z",
     "shell.execute_reply": "2022-07-16T10:16:29.021852Z"
    },
    "papermill": {
     "duration": 0.037793,
     "end_time": "2022-07-16T10:16:29.026604",
     "exception": false,
     "start_time": "2022-07-16T10:16:28.988811",
     "status": "completed"
    },
    "tags": []
   },
   "outputs": [
    {
     "name": "stdout",
     "output_type": "stream",
     "text": [
      "<class 'pandas.core.frame.DataFrame'>\n",
      "RangeIndex: 6493 entries, 0 to 6492\n",
      "Data columns (total 9 columns):\n",
      " #   Column      Non-Null Count  Dtype  \n",
      "---  ------      --------------  -----  \n",
      " 0   datetime    6493 non-null   object \n",
      " 1   season      6493 non-null   int64  \n",
      " 2   holiday     6493 non-null   int64  \n",
      " 3   workingday  6493 non-null   int64  \n",
      " 4   weather     6493 non-null   int64  \n",
      " 5   temp        6493 non-null   float64\n",
      " 6   atemp       6493 non-null   float64\n",
      " 7   humidity    6493 non-null   int64  \n",
      " 8   windspeed   6493 non-null   float64\n",
      "dtypes: float64(3), int64(5), object(1)\n",
      "memory usage: 456.7+ KB\n"
     ]
    }
   ],
   "source": [
    "test.info()"
   ]
  },
  {
   "cell_type": "markdown",
   "id": "c6f18f9a",
   "metadata": {
    "papermill": {
     "duration": 0.028757,
     "end_time": "2022-07-16T10:16:29.085632",
     "exception": false,
     "start_time": "2022-07-16T10:16:29.056875",
     "status": "completed"
    },
    "tags": []
   },
   "source": [
    "## 1.2 더 효과적인 분석을 위한 피처 엔지니어링"
   ]
  },
  {
   "cell_type": "code",
   "execution_count": 8,
   "id": "f289f32e",
   "metadata": {
    "execution": {
     "iopub.execute_input": "2022-07-16T10:16:29.145276Z",
     "iopub.status.busy": "2022-07-16T10:16:29.144804Z",
     "iopub.status.idle": "2022-07-16T10:16:29.152757Z",
     "shell.execute_reply": "2022-07-16T10:16:29.151034Z"
    },
    "papermill": {
     "duration": 0.040812,
     "end_time": "2022-07-16T10:16:29.155537",
     "exception": false,
     "start_time": "2022-07-16T10:16:29.114725",
     "status": "completed"
    },
    "tags": []
   },
   "outputs": [
    {
     "name": "stdout",
     "output_type": "stream",
     "text": [
      "2011-01-05 09:00:00\n",
      "['2011-01-05', '09:00:00']\n",
      "2011-01-05\n",
      "09:00:00\n"
     ]
    }
   ],
   "source": [
    "print(train['datetime'][100])\n",
    "print(train['datetime'][100].split()) # 공백을 기준으로 문자열 나누기\n",
    "print(train['datetime'][100].split()[0]) # 날짜\n",
    "print(train['datetime'][100].split()[1]) # 시간"
   ]
  },
  {
   "cell_type": "code",
   "execution_count": 9,
   "id": "2a9ae731",
   "metadata": {
    "execution": {
     "iopub.execute_input": "2022-07-16T10:16:29.216560Z",
     "iopub.status.busy": "2022-07-16T10:16:29.215991Z",
     "iopub.status.idle": "2022-07-16T10:16:29.223128Z",
     "shell.execute_reply": "2022-07-16T10:16:29.221719Z"
    },
    "papermill": {
     "duration": 0.040566,
     "end_time": "2022-07-16T10:16:29.226045",
     "exception": false,
     "start_time": "2022-07-16T10:16:29.185479",
     "status": "completed"
    },
    "tags": []
   },
   "outputs": [
    {
     "name": "stdout",
     "output_type": "stream",
     "text": [
      "2011-01-05\n",
      "['2011', '01', '05']\n",
      "2011\n",
      "01\n",
      "05\n"
     ]
    }
   ],
   "source": [
    "print(train['datetime'][100].split()[0])\n",
    "print(train['datetime'][100].split()[0].split('-')) # -을 기준으로 문자열 나누기\n",
    "print(train['datetime'][100].split()[0].split('-')[0]) # 연도\n",
    "print(train['datetime'][100].split()[0].split('-')[1]) # 월\n",
    "print(train['datetime'][100].split()[0].split('-')[2]) # 일"
   ]
  },
  {
   "cell_type": "code",
   "execution_count": 10,
   "id": "3ff2aa3a",
   "metadata": {
    "execution": {
     "iopub.execute_input": "2022-07-16T10:16:29.285619Z",
     "iopub.status.busy": "2022-07-16T10:16:29.285140Z",
     "iopub.status.idle": "2022-07-16T10:16:29.294331Z",
     "shell.execute_reply": "2022-07-16T10:16:29.293519Z"
    },
    "papermill": {
     "duration": 0.042184,
     "end_time": "2022-07-16T10:16:29.297008",
     "exception": false,
     "start_time": "2022-07-16T10:16:29.254824",
     "status": "completed"
    },
    "tags": []
   },
   "outputs": [
    {
     "name": "stdout",
     "output_type": "stream",
     "text": [
      "09:00:00\n",
      "['09', '00', '00']\n",
      "09\n",
      "00\n",
      "00\n"
     ]
    }
   ],
   "source": [
    "print(train['datetime'][100].split()[1]) # 시간\n",
    "print(train['datetime'][100].split()[1].split(':')) # :을 기준으로 나누기\n",
    "print(train['datetime'][100].split()[1].split(':')[0]) # 시간\n",
    "print(train['datetime'][100].split()[1].split(':')[1]) # 분\n",
    "print(train['datetime'][100].split()[1].split(':')[2]) # 초"
   ]
  },
  {
   "cell_type": "code",
   "execution_count": 11,
   "id": "33ec4622",
   "metadata": {
    "execution": {
     "iopub.execute_input": "2022-07-16T10:16:29.355570Z",
     "iopub.status.busy": "2022-07-16T10:16:29.354703Z",
     "iopub.status.idle": "2022-07-16T10:16:29.437878Z",
     "shell.execute_reply": "2022-07-16T10:16:29.436907Z"
    },
    "papermill": {
     "duration": 0.115276,
     "end_time": "2022-07-16T10:16:29.440717",
     "exception": false,
     "start_time": "2022-07-16T10:16:29.325441",
     "status": "completed"
    },
    "tags": []
   },
   "outputs": [],
   "source": [
    "train['date'] = train['datetime'].apply(lambda x:x.split()[0]) # 날짜 피처 생성\n",
    "train['year'] = train['datetime'].apply(lambda x:x.split()[0].split('-')[0])\n",
    "train['month'] = train['datetime'].apply(lambda x:x.split()[0].split('-')[1])\n",
    "train['day'] = train['datetime'].apply(lambda x:x.split()[0].split('-')[2])\n",
    "train['hour'] = train['datetime'].apply(lambda x:x.split()[1].split(':')[0])\n",
    "train['minute'] = train['datetime'].apply(lambda x:x.split()[1].split(':')[1])\n",
    "train['second'] = train['datetime'].apply(lambda x:x.split()[1].split(':')[2])"
   ]
  },
  {
   "cell_type": "code",
   "execution_count": 12,
   "id": "1dfb3c9a",
   "metadata": {
    "execution": {
     "iopub.execute_input": "2022-07-16T10:16:29.499317Z",
     "iopub.status.busy": "2022-07-16T10:16:29.498702Z",
     "iopub.status.idle": "2022-07-16T10:16:29.507401Z",
     "shell.execute_reply": "2022-07-16T10:16:29.506631Z"
    },
    "papermill": {
     "duration": 0.041035,
     "end_time": "2022-07-16T10:16:29.510131",
     "exception": false,
     "start_time": "2022-07-16T10:16:29.469096",
     "status": "completed"
    },
    "tags": []
   },
   "outputs": [
    {
     "name": "stdout",
     "output_type": "stream",
     "text": [
      "2011-01-05\n",
      "2011-01-05 00:00:00\n",
      "2\n",
      "Wednesday\n"
     ]
    }
   ],
   "source": [
    "from datetime import datetime #datetime 라이브러리 임포트\n",
    "import calendar\n",
    "\n",
    "print(train['date'][100]) # 날짜\n",
    "print(datetime.strptime(train['date'][100], '%Y-%m-%d')) # datetime타입으로변경,strptime : 문자열을 datetime타입으로 바꿔준다\n",
    "print(datetime.strptime(train['date'][100], '%Y-%m-%d').weekday()) # 정수로 요일 반환\n",
    "print(calendar.day_name[datetime.strptime(train['date'][100], '%Y-%m-%d').weekday()]) # 문자열로 요일 반환"
   ]
  },
  {
   "cell_type": "code",
   "execution_count": 13,
   "id": "d07f48f1",
   "metadata": {
    "execution": {
     "iopub.execute_input": "2022-07-16T10:16:29.571077Z",
     "iopub.status.busy": "2022-07-16T10:16:29.568934Z",
     "iopub.status.idle": "2022-07-16T10:16:29.796728Z",
     "shell.execute_reply": "2022-07-16T10:16:29.795354Z"
    },
    "papermill": {
     "duration": 0.259718,
     "end_time": "2022-07-16T10:16:29.799183",
     "exception": false,
     "start_time": "2022-07-16T10:16:29.539465",
     "status": "completed"
    },
    "tags": []
   },
   "outputs": [],
   "source": [
    "train['weekday'] = train['date'].apply(lambda dateString:calendar.day_name[datetime.strptime(dateString, \"%Y-%m-%d\").weekday()])"
   ]
  },
  {
   "cell_type": "code",
   "execution_count": 14,
   "id": "fdab4dbf",
   "metadata": {
    "execution": {
     "iopub.execute_input": "2022-07-16T10:16:29.833876Z",
     "iopub.status.busy": "2022-07-16T10:16:29.833500Z",
     "iopub.status.idle": "2022-07-16T10:16:29.841634Z",
     "shell.execute_reply": "2022-07-16T10:16:29.840770Z"
    },
    "papermill": {
     "duration": 0.027917,
     "end_time": "2022-07-16T10:16:29.843969",
     "exception": false,
     "start_time": "2022-07-16T10:16:29.816052",
     "status": "completed"
    },
    "tags": []
   },
   "outputs": [],
   "source": [
    "train['season'] = train['season'].map({1: 'Spring', 2:'summer', 3:'Fall', 4:'Winter'})\n",
    "train['weather'] = train['weather'].map({1:'Clear', 2:'Mist,Few clouds', 3:'Light Snow, Rain, Thunder', 4:'Heavy Snow, Rain, Thunder'})"
   ]
  },
  {
   "cell_type": "code",
   "execution_count": 15,
   "id": "361d6f94",
   "metadata": {
    "execution": {
     "iopub.execute_input": "2022-07-16T10:16:29.901230Z",
     "iopub.status.busy": "2022-07-16T10:16:29.900253Z",
     "iopub.status.idle": "2022-07-16T10:16:29.923900Z",
     "shell.execute_reply": "2022-07-16T10:16:29.922729Z"
    },
    "papermill": {
     "duration": 0.054584,
     "end_time": "2022-07-16T10:16:29.926209",
     "exception": false,
     "start_time": "2022-07-16T10:16:29.871625",
     "status": "completed"
    },
    "tags": []
   },
   "outputs": [
    {
     "data": {
      "text/html": [
       "<div>\n",
       "<style scoped>\n",
       "    .dataframe tbody tr th:only-of-type {\n",
       "        vertical-align: middle;\n",
       "    }\n",
       "\n",
       "    .dataframe tbody tr th {\n",
       "        vertical-align: top;\n",
       "    }\n",
       "\n",
       "    .dataframe thead th {\n",
       "        text-align: right;\n",
       "    }\n",
       "</style>\n",
       "<table border=\"1\" class=\"dataframe\">\n",
       "  <thead>\n",
       "    <tr style=\"text-align: right;\">\n",
       "      <th></th>\n",
       "      <th>datetime</th>\n",
       "      <th>season</th>\n",
       "      <th>holiday</th>\n",
       "      <th>workingday</th>\n",
       "      <th>weather</th>\n",
       "      <th>temp</th>\n",
       "      <th>atemp</th>\n",
       "      <th>humidity</th>\n",
       "      <th>windspeed</th>\n",
       "      <th>casual</th>\n",
       "      <th>registered</th>\n",
       "      <th>count</th>\n",
       "      <th>date</th>\n",
       "      <th>year</th>\n",
       "      <th>month</th>\n",
       "      <th>day</th>\n",
       "      <th>hour</th>\n",
       "      <th>minute</th>\n",
       "      <th>second</th>\n",
       "      <th>weekday</th>\n",
       "    </tr>\n",
       "  </thead>\n",
       "  <tbody>\n",
       "    <tr>\n",
       "      <th>0</th>\n",
       "      <td>2011-01-01 00:00:00</td>\n",
       "      <td>Spring</td>\n",
       "      <td>0</td>\n",
       "      <td>0</td>\n",
       "      <td>Clear</td>\n",
       "      <td>9.84</td>\n",
       "      <td>14.395</td>\n",
       "      <td>81</td>\n",
       "      <td>0.0</td>\n",
       "      <td>3</td>\n",
       "      <td>13</td>\n",
       "      <td>16</td>\n",
       "      <td>2011-01-01</td>\n",
       "      <td>2011</td>\n",
       "      <td>01</td>\n",
       "      <td>01</td>\n",
       "      <td>00</td>\n",
       "      <td>00</td>\n",
       "      <td>00</td>\n",
       "      <td>Saturday</td>\n",
       "    </tr>\n",
       "    <tr>\n",
       "      <th>1</th>\n",
       "      <td>2011-01-01 01:00:00</td>\n",
       "      <td>Spring</td>\n",
       "      <td>0</td>\n",
       "      <td>0</td>\n",
       "      <td>Clear</td>\n",
       "      <td>9.02</td>\n",
       "      <td>13.635</td>\n",
       "      <td>80</td>\n",
       "      <td>0.0</td>\n",
       "      <td>8</td>\n",
       "      <td>32</td>\n",
       "      <td>40</td>\n",
       "      <td>2011-01-01</td>\n",
       "      <td>2011</td>\n",
       "      <td>01</td>\n",
       "      <td>01</td>\n",
       "      <td>01</td>\n",
       "      <td>00</td>\n",
       "      <td>00</td>\n",
       "      <td>Saturday</td>\n",
       "    </tr>\n",
       "    <tr>\n",
       "      <th>2</th>\n",
       "      <td>2011-01-01 02:00:00</td>\n",
       "      <td>Spring</td>\n",
       "      <td>0</td>\n",
       "      <td>0</td>\n",
       "      <td>Clear</td>\n",
       "      <td>9.02</td>\n",
       "      <td>13.635</td>\n",
       "      <td>80</td>\n",
       "      <td>0.0</td>\n",
       "      <td>5</td>\n",
       "      <td>27</td>\n",
       "      <td>32</td>\n",
       "      <td>2011-01-01</td>\n",
       "      <td>2011</td>\n",
       "      <td>01</td>\n",
       "      <td>01</td>\n",
       "      <td>02</td>\n",
       "      <td>00</td>\n",
       "      <td>00</td>\n",
       "      <td>Saturday</td>\n",
       "    </tr>\n",
       "    <tr>\n",
       "      <th>3</th>\n",
       "      <td>2011-01-01 03:00:00</td>\n",
       "      <td>Spring</td>\n",
       "      <td>0</td>\n",
       "      <td>0</td>\n",
       "      <td>Clear</td>\n",
       "      <td>9.84</td>\n",
       "      <td>14.395</td>\n",
       "      <td>75</td>\n",
       "      <td>0.0</td>\n",
       "      <td>3</td>\n",
       "      <td>10</td>\n",
       "      <td>13</td>\n",
       "      <td>2011-01-01</td>\n",
       "      <td>2011</td>\n",
       "      <td>01</td>\n",
       "      <td>01</td>\n",
       "      <td>03</td>\n",
       "      <td>00</td>\n",
       "      <td>00</td>\n",
       "      <td>Saturday</td>\n",
       "    </tr>\n",
       "    <tr>\n",
       "      <th>4</th>\n",
       "      <td>2011-01-01 04:00:00</td>\n",
       "      <td>Spring</td>\n",
       "      <td>0</td>\n",
       "      <td>0</td>\n",
       "      <td>Clear</td>\n",
       "      <td>9.84</td>\n",
       "      <td>14.395</td>\n",
       "      <td>75</td>\n",
       "      <td>0.0</td>\n",
       "      <td>0</td>\n",
       "      <td>1</td>\n",
       "      <td>1</td>\n",
       "      <td>2011-01-01</td>\n",
       "      <td>2011</td>\n",
       "      <td>01</td>\n",
       "      <td>01</td>\n",
       "      <td>04</td>\n",
       "      <td>00</td>\n",
       "      <td>00</td>\n",
       "      <td>Saturday</td>\n",
       "    </tr>\n",
       "  </tbody>\n",
       "</table>\n",
       "</div>"
      ],
      "text/plain": [
       "              datetime  season  holiday  workingday weather  temp   atemp  \\\n",
       "0  2011-01-01 00:00:00  Spring        0           0   Clear  9.84  14.395   \n",
       "1  2011-01-01 01:00:00  Spring        0           0   Clear  9.02  13.635   \n",
       "2  2011-01-01 02:00:00  Spring        0           0   Clear  9.02  13.635   \n",
       "3  2011-01-01 03:00:00  Spring        0           0   Clear  9.84  14.395   \n",
       "4  2011-01-01 04:00:00  Spring        0           0   Clear  9.84  14.395   \n",
       "\n",
       "   humidity  windspeed  casual  registered  count        date  year month day  \\\n",
       "0        81        0.0       3          13     16  2011-01-01  2011    01  01   \n",
       "1        80        0.0       8          32     40  2011-01-01  2011    01  01   \n",
       "2        80        0.0       5          27     32  2011-01-01  2011    01  01   \n",
       "3        75        0.0       3          10     13  2011-01-01  2011    01  01   \n",
       "4        75        0.0       0           1      1  2011-01-01  2011    01  01   \n",
       "\n",
       "  hour minute second   weekday  \n",
       "0   00     00     00  Saturday  \n",
       "1   01     00     00  Saturday  \n",
       "2   02     00     00  Saturday  \n",
       "3   03     00     00  Saturday  \n",
       "4   04     00     00  Saturday  "
      ]
     },
     "execution_count": 15,
     "metadata": {},
     "output_type": "execute_result"
    }
   ],
   "source": [
    "train.head()"
   ]
  },
  {
   "cell_type": "markdown",
   "id": "30322de9",
   "metadata": {
    "papermill": {
     "duration": 0.029017,
     "end_time": "2022-07-16T10:16:29.984895",
     "exception": false,
     "start_time": "2022-07-16T10:16:29.955878",
     "status": "completed"
    },
    "tags": []
   },
   "source": [
    "## 1.3 데이터 시각화"
   ]
  },
  {
   "cell_type": "code",
   "execution_count": 16,
   "id": "c1ed9103",
   "metadata": {
    "execution": {
     "iopub.execute_input": "2022-07-16T10:16:30.045024Z",
     "iopub.status.busy": "2022-07-16T10:16:30.044335Z",
     "iopub.status.idle": "2022-07-16T10:16:31.095872Z",
     "shell.execute_reply": "2022-07-16T10:16:31.094832Z"
    },
    "papermill": {
     "duration": 1.084854,
     "end_time": "2022-07-16T10:16:31.098692",
     "exception": false,
     "start_time": "2022-07-16T10:16:30.013838",
     "status": "completed"
    },
    "tags": []
   },
   "outputs": [],
   "source": [
    "import seaborn as sns\n",
    "import matplotlib as mpl\n",
    "import matplotlib.pyplot as plt\n",
    "%matplotlib inline"
   ]
  },
  {
   "cell_type": "markdown",
   "id": "c39c62fa",
   "metadata": {
    "papermill": {
     "duration": 0.029139,
     "end_time": "2022-07-16T10:16:31.158125",
     "exception": false,
     "start_time": "2022-07-16T10:16:31.128986",
     "status": "completed"
    },
    "tags": []
   },
   "source": [
    "### 분포도"
   ]
  },
  {
   "cell_type": "code",
   "execution_count": 17,
   "id": "8f767ea1",
   "metadata": {
    "execution": {
     "iopub.execute_input": "2022-07-16T10:16:31.219233Z",
     "iopub.status.busy": "2022-07-16T10:16:31.218561Z",
     "iopub.status.idle": "2022-07-16T10:16:31.599125Z",
     "shell.execute_reply": "2022-07-16T10:16:31.598232Z"
    },
    "papermill": {
     "duration": 0.413687,
     "end_time": "2022-07-16T10:16:31.601487",
     "exception": false,
     "start_time": "2022-07-16T10:16:31.187800",
     "status": "completed"
    },
    "tags": []
   },
   "outputs": [
    {
     "data": {
      "image/png": "[encoded data removed]",
      "text/plain": [
       "<Figure size 360x360 with 1 Axes>"
      ]
     },
     "metadata": {
      "needs_background": "light"
     },
     "output_type": "display_data"
    }
   ],
   "source": [
    "mpl.rc('font', size=15) # 폰트크기 15로 설정\n",
    "sns.displot(train['count']); # 분포도 출력"
   ]
  },
  {
   "cell_type": "code",
   "execution_count": 18,
   "id": "f9d4f528",
   "metadata": {
    "execution": {
     "iopub.execute_input": "2022-07-16T10:16:31.661056Z",
     "iopub.status.busy": "2022-07-16T10:16:31.660415Z",
     "iopub.status.idle": "2022-07-16T10:16:31.973323Z",
     "shell.execute_reply": "2022-07-16T10:16:31.972289Z"
    },
    "papermill": {
     "duration": 0.345305,
     "end_time": "2022-07-16T10:16:31.975734",
     "exception": false,
     "start_time": "2022-07-16T10:16:31.630429",
     "status": "completed"
    },
    "tags": []
   },
   "outputs": [
    {
     "data": {
      "image/png": "[encoded data removed]",
      "text/plain": [
       "<Figure size 360x360 with 1 Axes>"
      ]
     },
     "metadata": {
      "needs_background": "light"
     },
     "output_type": "display_data"
    }
   ],
   "source": [
    "sns.displot(np.log(train['count']));"
   ]
  },
  {
   "cell_type": "markdown",
   "id": "d5e39f11",
   "metadata": {
    "papermill": {
     "duration": 0.016834,
     "end_time": "2022-07-16T10:16:32.010609",
     "exception": false,
     "start_time": "2022-07-16T10:16:31.993775",
     "status": "completed"
    },
    "tags": []
   },
   "source": [
    "### 막대 그래프"
   ]
  },
  {
   "cell_type": "code",
   "execution_count": 19,
   "id": "d8c32d53",
   "metadata": {
    "execution": {
     "iopub.execute_input": "2022-07-16T10:16:32.046915Z",
     "iopub.status.busy": "2022-07-16T10:16:32.046478Z",
     "iopub.status.idle": "2022-07-16T10:16:36.822000Z",
     "shell.execute_reply": "2022-07-16T10:16:36.820892Z"
    },
    "papermill": {
     "duration": 4.796123,
     "end_time": "2022-07-16T10:16:36.823878",
     "exception": false,
     "start_time": "2022-07-16T10:16:32.027755",
     "status": "completed"
    },
    "tags": []
   },
   "outputs": [
    {
     "data": {
      "image/png": "[encoded data removed]",
      "text/plain": [
       "<Figure size 720x648 with 6 Axes>"
      ]
     },
     "metadata": {
      "needs_background": "light"
     },
     "output_type": "display_data"
    }
   ],
   "source": [
    "mpl.rc('font',size=4)\n",
    "mpl.rc('axes', titlesize=15)\n",
    "figure, axes = plt.subplots(nrows=3, ncols=2)\n",
    "plt.tight_layout() # 그래프 사이에 여백 확보\n",
    "figure.set_size_inches(10,9) # 전체 Figure 크기를 10*9인치로 설정\n",
    "\n",
    "sns.barplot(x='year', y='count', data=train, ax=axes[0, 0])\n",
    "sns.barplot(x='month', y='count', data=train, ax=axes[0, 1])\n",
    "sns.barplot(x='day', y='count', data=train, ax=axes[1, 0])\n",
    "sns.barplot(x='hour', y='count', data=train, ax=axes[1, 1])\n",
    "sns.barplot(x='minute', y='count', data=train, ax=axes[2, 0])\n",
    "sns.barplot(x='second', y='count', data=train, ax=axes[2, 1])\n",
    "\n",
    "axes[0, 0].set(title = 'Rental amounts by year')\n",
    "axes[0, 1].set(title = 'Rental amounts by month')\n",
    "axes[1, 0].set(title = 'Rental amounts by day')\n",
    "axes[1, 1].set(title = 'Rental amounts by hour')\n",
    "axes[2, 0].set(title = 'Rental amounts by minute')\n",
    "axes[2, 1].set(title = 'Rental amounts by second')\n",
    "\n",
    "axes[1, 0].tick_params(axis='x', labelrotation=90)\n",
    "axes[1, 1].tick_params(axis='x', labelrotation=90)"
   ]
  },
  {
   "cell_type": "markdown",
   "id": "557dc91a",
   "metadata": {
    "papermill": {
     "duration": 0.018673,
     "end_time": "2022-07-16T10:16:36.861484",
     "exception": false,
     "start_time": "2022-07-16T10:16:36.842811",
     "status": "completed"
    },
    "tags": []
   },
   "source": [
    "### 박스 플롯"
   ]
  },
  {
   "cell_type": "code",
   "execution_count": 20,
   "id": "95137cfd",
   "metadata": {
    "execution": {
     "iopub.execute_input": "2022-07-16T10:16:36.901074Z",
     "iopub.status.busy": "2022-07-16T10:16:36.900120Z",
     "iopub.status.idle": "2022-07-16T10:16:37.578185Z",
     "shell.execute_reply": "2022-07-16T10:16:37.577093Z"
    },
    "papermill": {
     "duration": 0.700112,
     "end_time": "2022-07-16T10:16:37.580195",
     "exception": false,
     "start_time": "2022-07-16T10:16:36.880083",
     "status": "completed"
    },
    "tags": []
   },
   "outputs": [
    {
     "data": {
      "image/png": "[encoded data removed]",
      "text/plain": [
       "<Figure size 720x720 with 4 Axes>"
      ]
     },
     "metadata": {
      "needs_background": "light"
     },
     "output_type": "display_data"
    }
   ],
   "source": [
    "figure, axes = plt.subplots(2,2)\n",
    "plt.tight_layout()\n",
    "figure.set_size_inches(10,10)\n",
    "\n",
    "sns.boxplot(x='season', y='count', data=train, ax=axes[0, 0])\n",
    "sns.boxplot(x='weather', y='count', data=train, ax=axes[0, 1])\n",
    "sns.boxplot(x='holiday', y='count', data=train, ax=axes[1, 0])\n",
    "sns.boxplot(x='workingday', y='count', data=train, ax=axes[1, 1])\n",
    "\n",
    "axes[0, 0].set(title='Box Plot On Count Across Season')\n",
    "axes[0, 1].set(title='Box Plot On Count Across Weather')\n",
    "axes[1, 0].set(title='Box Plot On Count Across Holiday')\n",
    "axes[1, 1].set(title='Box Plot On Count Across Working Day')\n",
    "\n",
    "axes[0, 1].tick_params('x', labelrotation=10)"
   ]
  },
  {
   "cell_type": "markdown",
   "id": "040d2a71",
   "metadata": {
    "papermill": {
     "duration": 0.018647,
     "end_time": "2022-07-16T10:16:37.618348",
     "exception": false,
     "start_time": "2022-07-16T10:16:37.599701",
     "status": "completed"
    },
    "tags": []
   },
   "source": [
    "### 포인트플롯"
   ]
  },
  {
   "cell_type": "code",
   "execution_count": 21,
   "id": "96bb38a2",
   "metadata": {
    "execution": {
     "iopub.execute_input": "2022-07-16T10:16:37.657947Z",
     "iopub.status.busy": "2022-07-16T10:16:37.657541Z",
     "iopub.status.idle": "2022-07-16T10:16:55.170521Z",
     "shell.execute_reply": "2022-07-16T10:16:55.169294Z"
    },
    "papermill": {
     "duration": 17.535917,
     "end_time": "2022-07-16T10:16:55.173051",
     "exception": false,
     "start_time": "2022-07-16T10:16:37.637134",
     "status": "completed"
    },
    "tags": []
   },
   "outputs": [
    {
     "data": {
      "text/plain": [
       "<AxesSubplot:xlabel='hour', ylabel='count'>"
      ]
     },
     "execution_count": 21,
     "metadata": {},
     "output_type": "execute_result"
    },
    {
     "data": {
      "image/png": "[encoded data removed]",
      "text/plain": [
       "<Figure size 864x1296 with 5 Axes>"
      ]
     },
     "metadata": {
      "needs_background": "light"
     },
     "output_type": "display_data"
    }
   ],
   "source": [
    "mpl.rc('font', size=11)\n",
    "figure, axes = plt.subplots(nrows=5)\n",
    "figure.set_size_inches(12, 18)\n",
    "\n",
    "sns.pointplot(x='hour', y='count', data=train, hue='workingday', ax=axes[0])\n",
    "sns.pointplot(x='hour', y='count', data=train, hue='holiday', ax=axes[1])\n",
    "sns.pointplot(x='hour', y='count', data=train, hue='weekday', ax=axes[2])\n",
    "sns.pointplot(x='hour', y='count', data=train, hue='season', ax=axes[3])\n",
    "sns.pointplot(x='hour', y='count', data=train, hue='weather', ax=axes[4])"
   ]
  },
  {
   "cell_type": "markdown",
   "id": "eb98bc4d",
   "metadata": {
    "papermill": {
     "duration": 0.020337,
     "end_time": "2022-07-16T10:16:55.215244",
     "exception": false,
     "start_time": "2022-07-16T10:16:55.194907",
     "status": "completed"
    },
    "tags": []
   },
   "source": [
    "### 회귀선을 포함한 산점도 그래프"
   ]
  },
  {
   "cell_type": "code",
   "execution_count": 22,
   "id": "11c8a4f4",
   "metadata": {
    "execution": {
     "iopub.execute_input": "2022-07-16T10:16:55.273023Z",
     "iopub.status.busy": "2022-07-16T10:16:55.272450Z",
     "iopub.status.idle": "2022-07-16T10:17:01.273389Z",
     "shell.execute_reply": "2022-07-16T10:17:01.272420Z"
    },
    "papermill": {
     "duration": 6.038766,
     "end_time": "2022-07-16T10:17:01.276696",
     "exception": false,
     "start_time": "2022-07-16T10:16:55.237930",
     "status": "completed"
    },
    "tags": []
   },
   "outputs": [
    {
     "data": {
      "text/plain": [
       "<AxesSubplot:xlabel='humidity', ylabel='count'>"
      ]
     },
     "execution_count": 22,
     "metadata": {},
     "output_type": "execute_result"
    },
    {
     "data": {
      "image/png": "[encoded data removed]",
      "text/plain": [
       "<Figure size 504x432 with 4 Axes>"
      ]
     },
     "metadata": {
      "needs_background": "light"
     },
     "output_type": "display_data"
    }
   ],
   "source": [
    "mpl.rc('font', size=15)\n",
    "figure, axes = plt.subplots(2,2)\n",
    "plt.tight_layout()\n",
    "figure.set_size_inches(7, 6)\n",
    "\n",
    "sns.regplot(x='temp', y='count', data=train, ax=axes[0,0], scatter_kws={'alpha':0.2}, line_kws={'color':'blue'})\n",
    "sns.regplot(x='atemp', y='count', data=train, ax=axes[0,1], scatter_kws={'alpha':0.2}, line_kws={'color':'blue'})\n",
    "sns.regplot(x='windspeed', y='count', data=train, ax=axes[1,0], scatter_kws={'alpha':0.2}, line_kws={'color': 'blue'})\n",
    "sns.regplot(x='humidity', y='count', data=train, ax=axes[1,1], scatter_kws={'alpha':0.2}, line_kws={'color':'blue'})"
   ]
  },
  {
   "cell_type": "markdown",
   "id": "8555e6b9",
   "metadata": {
    "papermill": {
     "duration": 0.022676,
     "end_time": "2022-07-16T10:17:01.334753",
     "exception": false,
     "start_time": "2022-07-16T10:17:01.312077",
     "status": "completed"
    },
    "tags": []
   },
   "source": [
    "## 히트맵"
   ]
  },
  {
   "cell_type": "code",
   "execution_count": 23,
   "id": "aff83af5",
   "metadata": {
    "execution": {
     "iopub.execute_input": "2022-07-16T10:17:01.385284Z",
     "iopub.status.busy": "2022-07-16T10:17:01.384125Z",
     "iopub.status.idle": "2022-07-16T10:17:01.404380Z",
     "shell.execute_reply": "2022-07-16T10:17:01.403444Z"
    },
    "papermill": {
     "duration": 0.047807,
     "end_time": "2022-07-16T10:17:01.406719",
     "exception": false,
     "start_time": "2022-07-16T10:17:01.358912",
     "status": "completed"
    },
    "tags": []
   },
   "outputs": [
    {
     "data": {
      "text/html": [
       "<div>\n",
       "<style scoped>\n",
       "    .dataframe tbody tr th:only-of-type {\n",
       "        vertical-align: middle;\n",
       "    }\n",
       "\n",
       "    .dataframe tbody tr th {\n",
       "        vertical-align: top;\n",
       "    }\n",
       "\n",
       "    .dataframe thead th {\n",
       "        text-align: right;\n",
       "    }\n",
       "</style>\n",
       "<table border=\"1\" class=\"dataframe\">\n",
       "  <thead>\n",
       "    <tr style=\"text-align: right;\">\n",
       "      <th></th>\n",
       "      <th>temp</th>\n",
       "      <th>atemp</th>\n",
       "      <th>humidity</th>\n",
       "      <th>windspeed</th>\n",
       "      <th>count</th>\n",
       "    </tr>\n",
       "  </thead>\n",
       "  <tbody>\n",
       "    <tr>\n",
       "      <th>temp</th>\n",
       "      <td>1.000000</td>\n",
       "      <td>0.984948</td>\n",
       "      <td>-0.064949</td>\n",
       "      <td>-0.017852</td>\n",
       "      <td>0.394454</td>\n",
       "    </tr>\n",
       "    <tr>\n",
       "      <th>atemp</th>\n",
       "      <td>0.984948</td>\n",
       "      <td>1.000000</td>\n",
       "      <td>-0.043536</td>\n",
       "      <td>-0.057473</td>\n",
       "      <td>0.389784</td>\n",
       "    </tr>\n",
       "    <tr>\n",
       "      <th>humidity</th>\n",
       "      <td>-0.064949</td>\n",
       "      <td>-0.043536</td>\n",
       "      <td>1.000000</td>\n",
       "      <td>-0.318607</td>\n",
       "      <td>-0.317371</td>\n",
       "    </tr>\n",
       "    <tr>\n",
       "      <th>windspeed</th>\n",
       "      <td>-0.017852</td>\n",
       "      <td>-0.057473</td>\n",
       "      <td>-0.318607</td>\n",
       "      <td>1.000000</td>\n",
       "      <td>0.101369</td>\n",
       "    </tr>\n",
       "    <tr>\n",
       "      <th>count</th>\n",
       "      <td>0.394454</td>\n",
       "      <td>0.389784</td>\n",
       "      <td>-0.317371</td>\n",
       "      <td>0.101369</td>\n",
       "      <td>1.000000</td>\n",
       "    </tr>\n",
       "  </tbody>\n",
       "</table>\n",
       "</div>"
      ],
      "text/plain": [
       "               temp     atemp  humidity  windspeed     count\n",
       "temp       1.000000  0.984948 -0.064949  -0.017852  0.394454\n",
       "atemp      0.984948  1.000000 -0.043536  -0.057473  0.389784\n",
       "humidity  -0.064949 -0.043536  1.000000  -0.318607 -0.317371\n",
       "windspeed -0.017852 -0.057473 -0.318607   1.000000  0.101369\n",
       "count      0.394454  0.389784 -0.317371   0.101369  1.000000"
      ]
     },
     "execution_count": 23,
     "metadata": {},
     "output_type": "execute_result"
    }
   ],
   "source": [
    "train[['temp', 'atemp', 'humidity', 'windspeed', 'count']].corr()"
   ]
  },
  {
   "cell_type": "code",
   "execution_count": 24,
   "id": "f96f69c0",
   "metadata": {
    "execution": {
     "iopub.execute_input": "2022-07-16T10:17:01.457960Z",
     "iopub.status.busy": "2022-07-16T10:17:01.457080Z",
     "iopub.status.idle": "2022-07-16T10:17:01.982801Z",
     "shell.execute_reply": "2022-07-16T10:17:01.981756Z"
    },
    "papermill": {
     "duration": 0.553845,
     "end_time": "2022-07-16T10:17:01.985095",
     "exception": false,
     "start_time": "2022-07-16T10:17:01.431250",
     "status": "completed"
    },
    "tags": []
   },
   "outputs": [
    {
     "data": {
      "image/png": "[encoded data removed]",
      "text/plain": [
       "<Figure size 720x720 with 2 Axes>"
      ]
     },
     "metadata": {
      "needs_background": "light"
     },
     "output_type": "display_data"
    }
   ],
   "source": [
    "corrMat = train[['temp', 'atemp', 'humidity', 'windspeed', 'count']].corr()\n",
    "fig, ax = plt.subplots()\n",
    "fig.set_size_inches(10, 10)\n",
    "sns.heatmap(corrMat, annot=True)\n",
    "ax.set(title='Heatmap of Numerical Data');"
   ]
  },
  {
   "cell_type": "markdown",
   "id": "7e3d16ab",
   "metadata": {
    "papermill": {
     "duration": 0.036164,
     "end_time": "2022-07-16T10:17:02.058101",
     "exception": false,
     "start_time": "2022-07-16T10:17:02.021937",
     "status": "completed"
    },
    "tags": []
   },
   "source": [
    "## 2. 자전거 대여 수요 예측 경진대회 베이스라인 모델\n",
    "### 메뉴 : [Run] -> [Stop Session]후 여기서부터 실행 권장"
   ]
  },
  {
   "cell_type": "code",
   "execution_count": 25,
   "id": "305acc24",
   "metadata": {
    "execution": {
     "iopub.execute_input": "2022-07-16T10:17:02.135300Z",
     "iopub.status.busy": "2022-07-16T10:17:02.134320Z",
     "iopub.status.idle": "2022-07-16T10:17:02.180219Z",
     "shell.execute_reply": "2022-07-16T10:17:02.179310Z"
    },
    "papermill": {
     "duration": 0.087192,
     "end_time": "2022-07-16T10:17:02.182973",
     "exception": false,
     "start_time": "2022-07-16T10:17:02.095781",
     "status": "completed"
    },
    "tags": []
   },
   "outputs": [],
   "source": [
    "import pandas as pd\n",
    "data_path = '../input/bike-sharing-demand/'\n",
    "train = pd.read_csv(data_path + 'train.csv')\n",
    "test = pd.read_csv(data_path + 'test.csv')\n",
    "submission = pd.read_csv(data_path + 'sampleSubmission.csv')"
   ]
  },
  {
   "cell_type": "markdown",
   "id": "5a3e6abe",
   "metadata": {
    "papermill": {
     "duration": 0.036298,
     "end_time": "2022-07-16T10:17:02.256345",
     "exception": false,
     "start_time": "2022-07-16T10:17:02.220047",
     "status": "completed"
    },
    "tags": []
   },
   "source": [
    "### 2.1피처 엔지니어링\n",
    "\n",
    "### 이상치 제거"
   ]
  },
  {
   "cell_type": "code",
   "execution_count": 26,
   "id": "a3e595aa",
   "metadata": {
    "execution": {
     "iopub.execute_input": "2022-07-16T10:17:02.329059Z",
     "iopub.status.busy": "2022-07-16T10:17:02.328718Z",
     "iopub.status.idle": "2022-07-16T10:17:02.335319Z",
     "shell.execute_reply": "2022-07-16T10:17:02.334336Z"
    },
    "papermill": {
     "duration": 0.045181,
     "end_time": "2022-07-16T10:17:02.337533",
     "exception": false,
     "start_time": "2022-07-16T10:17:02.292352",
     "status": "completed"
    },
    "tags": []
   },
   "outputs": [],
   "source": [
    "train = train[train['weather'] != 4] # 4가 아닌 데이터만 추출"
   ]
  },
  {
   "cell_type": "markdown",
   "id": "1dffa7c0",
   "metadata": {
    "papermill": {
     "duration": 0.035544,
     "end_time": "2022-07-16T10:17:02.408849",
     "exception": false,
     "start_time": "2022-07-16T10:17:02.373305",
     "status": "completed"
    },
    "tags": []
   },
   "source": [
    "### 데이터 합치기"
   ]
  },
  {
   "cell_type": "code",
   "execution_count": 27,
   "id": "5cbdc5c5",
   "metadata": {
    "execution": {
     "iopub.execute_input": "2022-07-16T10:17:02.484578Z",
     "iopub.status.busy": "2022-07-16T10:17:02.484106Z",
     "iopub.status.idle": "2022-07-16T10:17:02.513184Z",
     "shell.execute_reply": "2022-07-16T10:17:02.512338Z"
    },
    "papermill": {
     "duration": 0.069862,
     "end_time": "2022-07-16T10:17:02.515434",
     "exception": false,
     "start_time": "2022-07-16T10:17:02.445572",
     "status": "completed"
    },
    "tags": []
   },
   "outputs": [
    {
     "data": {
      "text/html": [
       "<div>\n",
       "<style scoped>\n",
       "    .dataframe tbody tr th:only-of-type {\n",
       "        vertical-align: middle;\n",
       "    }\n",
       "\n",
       "    .dataframe tbody tr th {\n",
       "        vertical-align: top;\n",
       "    }\n",
       "\n",
       "    .dataframe thead th {\n",
       "        text-align: right;\n",
       "    }\n",
       "</style>\n",
       "<table border=\"1\" class=\"dataframe\">\n",
       "  <thead>\n",
       "    <tr style=\"text-align: right;\">\n",
       "      <th></th>\n",
       "      <th>datetime</th>\n",
       "      <th>season</th>\n",
       "      <th>holiday</th>\n",
       "      <th>workingday</th>\n",
       "      <th>weather</th>\n",
       "      <th>temp</th>\n",
       "      <th>atemp</th>\n",
       "      <th>humidity</th>\n",
       "      <th>windspeed</th>\n",
       "      <th>casual</th>\n",
       "      <th>registered</th>\n",
       "      <th>count</th>\n",
       "    </tr>\n",
       "  </thead>\n",
       "  <tbody>\n",
       "    <tr>\n",
       "      <th>0</th>\n",
       "      <td>2011-01-01 00:00:00</td>\n",
       "      <td>1</td>\n",
       "      <td>0</td>\n",
       "      <td>0</td>\n",
       "      <td>1</td>\n",
       "      <td>9.84</td>\n",
       "      <td>14.395</td>\n",
       "      <td>81</td>\n",
       "      <td>0.0000</td>\n",
       "      <td>3.0</td>\n",
       "      <td>13.0</td>\n",
       "      <td>16.0</td>\n",
       "    </tr>\n",
       "    <tr>\n",
       "      <th>1</th>\n",
       "      <td>2011-01-01 01:00:00</td>\n",
       "      <td>1</td>\n",
       "      <td>0</td>\n",
       "      <td>0</td>\n",
       "      <td>1</td>\n",
       "      <td>9.02</td>\n",
       "      <td>13.635</td>\n",
       "      <td>80</td>\n",
       "      <td>0.0000</td>\n",
       "      <td>8.0</td>\n",
       "      <td>32.0</td>\n",
       "      <td>40.0</td>\n",
       "    </tr>\n",
       "    <tr>\n",
       "      <th>2</th>\n",
       "      <td>2011-01-01 02:00:00</td>\n",
       "      <td>1</td>\n",
       "      <td>0</td>\n",
       "      <td>0</td>\n",
       "      <td>1</td>\n",
       "      <td>9.02</td>\n",
       "      <td>13.635</td>\n",
       "      <td>80</td>\n",
       "      <td>0.0000</td>\n",
       "      <td>5.0</td>\n",
       "      <td>27.0</td>\n",
       "      <td>32.0</td>\n",
       "    </tr>\n",
       "    <tr>\n",
       "      <th>3</th>\n",
       "      <td>2011-01-01 03:00:00</td>\n",
       "      <td>1</td>\n",
       "      <td>0</td>\n",
       "      <td>0</td>\n",
       "      <td>1</td>\n",
       "      <td>9.84</td>\n",
       "      <td>14.395</td>\n",
       "      <td>75</td>\n",
       "      <td>0.0000</td>\n",
       "      <td>3.0</td>\n",
       "      <td>10.0</td>\n",
       "      <td>13.0</td>\n",
       "    </tr>\n",
       "    <tr>\n",
       "      <th>4</th>\n",
       "      <td>2011-01-01 04:00:00</td>\n",
       "      <td>1</td>\n",
       "      <td>0</td>\n",
       "      <td>0</td>\n",
       "      <td>1</td>\n",
       "      <td>9.84</td>\n",
       "      <td>14.395</td>\n",
       "      <td>75</td>\n",
       "      <td>0.0000</td>\n",
       "      <td>0.0</td>\n",
       "      <td>1.0</td>\n",
       "      <td>1.0</td>\n",
       "    </tr>\n",
       "    <tr>\n",
       "      <th>...</th>\n",
       "      <td>...</td>\n",
       "      <td>...</td>\n",
       "      <td>...</td>\n",
       "      <td>...</td>\n",
       "      <td>...</td>\n",
       "      <td>...</td>\n",
       "      <td>...</td>\n",
       "      <td>...</td>\n",
       "      <td>...</td>\n",
       "      <td>...</td>\n",
       "      <td>...</td>\n",
       "      <td>...</td>\n",
       "    </tr>\n",
       "    <tr>\n",
       "      <th>6488</th>\n",
       "      <td>2012-12-31 19:00:00</td>\n",
       "      <td>1</td>\n",
       "      <td>0</td>\n",
       "      <td>1</td>\n",
       "      <td>2</td>\n",
       "      <td>10.66</td>\n",
       "      <td>12.880</td>\n",
       "      <td>60</td>\n",
       "      <td>11.0014</td>\n",
       "      <td>NaN</td>\n",
       "      <td>NaN</td>\n",
       "      <td>NaN</td>\n",
       "    </tr>\n",
       "    <tr>\n",
       "      <th>6489</th>\n",
       "      <td>2012-12-31 20:00:00</td>\n",
       "      <td>1</td>\n",
       "      <td>0</td>\n",
       "      <td>1</td>\n",
       "      <td>2</td>\n",
       "      <td>10.66</td>\n",
       "      <td>12.880</td>\n",
       "      <td>60</td>\n",
       "      <td>11.0014</td>\n",
       "      <td>NaN</td>\n",
       "      <td>NaN</td>\n",
       "      <td>NaN</td>\n",
       "    </tr>\n",
       "    <tr>\n",
       "      <th>6490</th>\n",
       "      <td>2012-12-31 21:00:00</td>\n",
       "      <td>1</td>\n",
       "      <td>0</td>\n",
       "      <td>1</td>\n",
       "      <td>1</td>\n",
       "      <td>10.66</td>\n",
       "      <td>12.880</td>\n",
       "      <td>60</td>\n",
       "      <td>11.0014</td>\n",
       "      <td>NaN</td>\n",
       "      <td>NaN</td>\n",
       "      <td>NaN</td>\n",
       "    </tr>\n",
       "    <tr>\n",
       "      <th>6491</th>\n",
       "      <td>2012-12-31 22:00:00</td>\n",
       "      <td>1</td>\n",
       "      <td>0</td>\n",
       "      <td>1</td>\n",
       "      <td>1</td>\n",
       "      <td>10.66</td>\n",
       "      <td>13.635</td>\n",
       "      <td>56</td>\n",
       "      <td>8.9981</td>\n",
       "      <td>NaN</td>\n",
       "      <td>NaN</td>\n",
       "      <td>NaN</td>\n",
       "    </tr>\n",
       "    <tr>\n",
       "      <th>6492</th>\n",
       "      <td>2012-12-31 23:00:00</td>\n",
       "      <td>1</td>\n",
       "      <td>0</td>\n",
       "      <td>1</td>\n",
       "      <td>1</td>\n",
       "      <td>10.66</td>\n",
       "      <td>13.635</td>\n",
       "      <td>65</td>\n",
       "      <td>8.9981</td>\n",
       "      <td>NaN</td>\n",
       "      <td>NaN</td>\n",
       "      <td>NaN</td>\n",
       "    </tr>\n",
       "  </tbody>\n",
       "</table>\n",
       "<p>17378 rows × 12 columns</p>\n",
       "</div>"
      ],
      "text/plain": [
       "                 datetime  season  holiday  workingday  weather   temp  \\\n",
       "0     2011-01-01 00:00:00       1        0           0        1   9.84   \n",
       "1     2011-01-01 01:00:00       1        0           0        1   9.02   \n",
       "2     2011-01-01 02:00:00       1        0           0        1   9.02   \n",
       "3     2011-01-01 03:00:00       1        0           0        1   9.84   \n",
       "4     2011-01-01 04:00:00       1        0           0        1   9.84   \n",
       "...                   ...     ...      ...         ...      ...    ...   \n",
       "6488  2012-12-31 19:00:00       1        0           1        2  10.66   \n",
       "6489  2012-12-31 20:00:00       1        0           1        2  10.66   \n",
       "6490  2012-12-31 21:00:00       1        0           1        1  10.66   \n",
       "6491  2012-12-31 22:00:00       1        0           1        1  10.66   \n",
       "6492  2012-12-31 23:00:00       1        0           1        1  10.66   \n",
       "\n",
       "       atemp  humidity  windspeed  casual  registered  count  \n",
       "0     14.395        81     0.0000     3.0        13.0   16.0  \n",
       "1     13.635        80     0.0000     8.0        32.0   40.0  \n",
       "2     13.635        80     0.0000     5.0        27.0   32.0  \n",
       "3     14.395        75     0.0000     3.0        10.0   13.0  \n",
       "4     14.395        75     0.0000     0.0         1.0    1.0  \n",
       "...      ...       ...        ...     ...         ...    ...  \n",
       "6488  12.880        60    11.0014     NaN         NaN    NaN  \n",
       "6489  12.880        60    11.0014     NaN         NaN    NaN  \n",
       "6490  12.880        60    11.0014     NaN         NaN    NaN  \n",
       "6491  13.635        56     8.9981     NaN         NaN    NaN  \n",
       "6492  13.635        65     8.9981     NaN         NaN    NaN  \n",
       "\n",
       "[17378 rows x 12 columns]"
      ]
     },
     "execution_count": 27,
     "metadata": {},
     "output_type": "execute_result"
    }
   ],
   "source": [
    "all_data_temp = pd.concat([train, test])\n",
    "all_data_temp"
   ]
  },
  {
   "cell_type": "code",
   "execution_count": 28,
   "id": "086db55e",
   "metadata": {
    "execution": {
     "iopub.execute_input": "2022-07-16T10:17:02.588739Z",
     "iopub.status.busy": "2022-07-16T10:17:02.587737Z",
     "iopub.status.idle": "2022-07-16T10:17:02.615895Z",
     "shell.execute_reply": "2022-07-16T10:17:02.614937Z"
    },
    "papermill": {
     "duration": 0.06696,
     "end_time": "2022-07-16T10:17:02.618097",
     "exception": false,
     "start_time": "2022-07-16T10:17:02.551137",
     "status": "completed"
    },
    "tags": []
   },
   "outputs": [
    {
     "data": {
      "text/html": [
       "<div>\n",
       "<style scoped>\n",
       "    .dataframe tbody tr th:only-of-type {\n",
       "        vertical-align: middle;\n",
       "    }\n",
       "\n",
       "    .dataframe tbody tr th {\n",
       "        vertical-align: top;\n",
       "    }\n",
       "\n",
       "    .dataframe thead th {\n",
       "        text-align: right;\n",
       "    }\n",
       "</style>\n",
       "<table border=\"1\" class=\"dataframe\">\n",
       "  <thead>\n",
       "    <tr style=\"text-align: right;\">\n",
       "      <th></th>\n",
       "      <th>datetime</th>\n",
       "      <th>season</th>\n",
       "      <th>holiday</th>\n",
       "      <th>workingday</th>\n",
       "      <th>weather</th>\n",
       "      <th>temp</th>\n",
       "      <th>atemp</th>\n",
       "      <th>humidity</th>\n",
       "      <th>windspeed</th>\n",
       "      <th>casual</th>\n",
       "      <th>registered</th>\n",
       "      <th>count</th>\n",
       "    </tr>\n",
       "  </thead>\n",
       "  <tbody>\n",
       "    <tr>\n",
       "      <th>0</th>\n",
       "      <td>2011-01-01 00:00:00</td>\n",
       "      <td>1</td>\n",
       "      <td>0</td>\n",
       "      <td>0</td>\n",
       "      <td>1</td>\n",
       "      <td>9.84</td>\n",
       "      <td>14.395</td>\n",
       "      <td>81</td>\n",
       "      <td>0.0000</td>\n",
       "      <td>3.0</td>\n",
       "      <td>13.0</td>\n",
       "      <td>16.0</td>\n",
       "    </tr>\n",
       "    <tr>\n",
       "      <th>1</th>\n",
       "      <td>2011-01-01 01:00:00</td>\n",
       "      <td>1</td>\n",
       "      <td>0</td>\n",
       "      <td>0</td>\n",
       "      <td>1</td>\n",
       "      <td>9.02</td>\n",
       "      <td>13.635</td>\n",
       "      <td>80</td>\n",
       "      <td>0.0000</td>\n",
       "      <td>8.0</td>\n",
       "      <td>32.0</td>\n",
       "      <td>40.0</td>\n",
       "    </tr>\n",
       "    <tr>\n",
       "      <th>2</th>\n",
       "      <td>2011-01-01 02:00:00</td>\n",
       "      <td>1</td>\n",
       "      <td>0</td>\n",
       "      <td>0</td>\n",
       "      <td>1</td>\n",
       "      <td>9.02</td>\n",
       "      <td>13.635</td>\n",
       "      <td>80</td>\n",
       "      <td>0.0000</td>\n",
       "      <td>5.0</td>\n",
       "      <td>27.0</td>\n",
       "      <td>32.0</td>\n",
       "    </tr>\n",
       "    <tr>\n",
       "      <th>3</th>\n",
       "      <td>2011-01-01 03:00:00</td>\n",
       "      <td>1</td>\n",
       "      <td>0</td>\n",
       "      <td>0</td>\n",
       "      <td>1</td>\n",
       "      <td>9.84</td>\n",
       "      <td>14.395</td>\n",
       "      <td>75</td>\n",
       "      <td>0.0000</td>\n",
       "      <td>3.0</td>\n",
       "      <td>10.0</td>\n",
       "      <td>13.0</td>\n",
       "    </tr>\n",
       "    <tr>\n",
       "      <th>4</th>\n",
       "      <td>2011-01-01 04:00:00</td>\n",
       "      <td>1</td>\n",
       "      <td>0</td>\n",
       "      <td>0</td>\n",
       "      <td>1</td>\n",
       "      <td>9.84</td>\n",
       "      <td>14.395</td>\n",
       "      <td>75</td>\n",
       "      <td>0.0000</td>\n",
       "      <td>0.0</td>\n",
       "      <td>1.0</td>\n",
       "      <td>1.0</td>\n",
       "    </tr>\n",
       "    <tr>\n",
       "      <th>...</th>\n",
       "      <td>...</td>\n",
       "      <td>...</td>\n",
       "      <td>...</td>\n",
       "      <td>...</td>\n",
       "      <td>...</td>\n",
       "      <td>...</td>\n",
       "      <td>...</td>\n",
       "      <td>...</td>\n",
       "      <td>...</td>\n",
       "      <td>...</td>\n",
       "      <td>...</td>\n",
       "      <td>...</td>\n",
       "    </tr>\n",
       "    <tr>\n",
       "      <th>17373</th>\n",
       "      <td>2012-12-31 19:00:00</td>\n",
       "      <td>1</td>\n",
       "      <td>0</td>\n",
       "      <td>1</td>\n",
       "      <td>2</td>\n",
       "      <td>10.66</td>\n",
       "      <td>12.880</td>\n",
       "      <td>60</td>\n",
       "      <td>11.0014</td>\n",
       "      <td>NaN</td>\n",
       "      <td>NaN</td>\n",
       "      <td>NaN</td>\n",
       "    </tr>\n",
       "    <tr>\n",
       "      <th>17374</th>\n",
       "      <td>2012-12-31 20:00:00</td>\n",
       "      <td>1</td>\n",
       "      <td>0</td>\n",
       "      <td>1</td>\n",
       "      <td>2</td>\n",
       "      <td>10.66</td>\n",
       "      <td>12.880</td>\n",
       "      <td>60</td>\n",
       "      <td>11.0014</td>\n",
       "      <td>NaN</td>\n",
       "      <td>NaN</td>\n",
       "      <td>NaN</td>\n",
       "    </tr>\n",
       "    <tr>\n",
       "      <th>17375</th>\n",
       "      <td>2012-12-31 21:00:00</td>\n",
       "      <td>1</td>\n",
       "      <td>0</td>\n",
       "      <td>1</td>\n",
       "      <td>1</td>\n",
       "      <td>10.66</td>\n",
       "      <td>12.880</td>\n",
       "      <td>60</td>\n",
       "      <td>11.0014</td>\n",
       "      <td>NaN</td>\n",
       "      <td>NaN</td>\n",
       "      <td>NaN</td>\n",
       "    </tr>\n",
       "    <tr>\n",
       "      <th>17376</th>\n",
       "      <td>2012-12-31 22:00:00</td>\n",
       "      <td>1</td>\n",
       "      <td>0</td>\n",
       "      <td>1</td>\n",
       "      <td>1</td>\n",
       "      <td>10.66</td>\n",
       "      <td>13.635</td>\n",
       "      <td>56</td>\n",
       "      <td>8.9981</td>\n",
       "      <td>NaN</td>\n",
       "      <td>NaN</td>\n",
       "      <td>NaN</td>\n",
       "    </tr>\n",
       "    <tr>\n",
       "      <th>17377</th>\n",
       "      <td>2012-12-31 23:00:00</td>\n",
       "      <td>1</td>\n",
       "      <td>0</td>\n",
       "      <td>1</td>\n",
       "      <td>1</td>\n",
       "      <td>10.66</td>\n",
       "      <td>13.635</td>\n",
       "      <td>65</td>\n",
       "      <td>8.9981</td>\n",
       "      <td>NaN</td>\n",
       "      <td>NaN</td>\n",
       "      <td>NaN</td>\n",
       "    </tr>\n",
       "  </tbody>\n",
       "</table>\n",
       "<p>17378 rows × 12 columns</p>\n",
       "</div>"
      ],
      "text/plain": [
       "                  datetime  season  holiday  workingday  weather   temp  \\\n",
       "0      2011-01-01 00:00:00       1        0           0        1   9.84   \n",
       "1      2011-01-01 01:00:00       1        0           0        1   9.02   \n",
       "2      2011-01-01 02:00:00       1        0           0        1   9.02   \n",
       "3      2011-01-01 03:00:00       1        0           0        1   9.84   \n",
       "4      2011-01-01 04:00:00       1        0           0        1   9.84   \n",
       "...                    ...     ...      ...         ...      ...    ...   \n",
       "17373  2012-12-31 19:00:00       1        0           1        2  10.66   \n",
       "17374  2012-12-31 20:00:00       1        0           1        2  10.66   \n",
       "17375  2012-12-31 21:00:00       1        0           1        1  10.66   \n",
       "17376  2012-12-31 22:00:00       1        0           1        1  10.66   \n",
       "17377  2012-12-31 23:00:00       1        0           1        1  10.66   \n",
       "\n",
       "        atemp  humidity  windspeed  casual  registered  count  \n",
       "0      14.395        81     0.0000     3.0        13.0   16.0  \n",
       "1      13.635        80     0.0000     8.0        32.0   40.0  \n",
       "2      13.635        80     0.0000     5.0        27.0   32.0  \n",
       "3      14.395        75     0.0000     3.0        10.0   13.0  \n",
       "4      14.395        75     0.0000     0.0         1.0    1.0  \n",
       "...       ...       ...        ...     ...         ...    ...  \n",
       "17373  12.880        60    11.0014     NaN         NaN    NaN  \n",
       "17374  12.880        60    11.0014     NaN         NaN    NaN  \n",
       "17375  12.880        60    11.0014     NaN         NaN    NaN  \n",
       "17376  13.635        56     8.9981     NaN         NaN    NaN  \n",
       "17377  13.635        65     8.9981     NaN         NaN    NaN  \n",
       "\n",
       "[17378 rows x 12 columns]"
      ]
     },
     "execution_count": 28,
     "metadata": {},
     "output_type": "execute_result"
    }
   ],
   "source": [
    "all_data = pd.concat([train, test], ignore_index=True)\n",
    "all_data"
   ]
  },
  {
   "cell_type": "markdown",
   "id": "2083b497",
   "metadata": {
    "papermill": {
     "duration": 0.036605,
     "end_time": "2022-07-16T10:17:02.691153",
     "exception": false,
     "start_time": "2022-07-16T10:17:02.654548",
     "status": "completed"
    },
    "tags": []
   },
   "source": [
    "### 파생 변수(피처)추가"
   ]
  },
  {
   "cell_type": "code",
   "execution_count": 29,
   "id": "a2301380",
   "metadata": {
    "execution": {
     "iopub.execute_input": "2022-07-16T10:17:02.767429Z",
     "iopub.status.busy": "2022-07-16T10:17:02.767058Z",
     "iopub.status.idle": "2022-07-16T10:17:03.100012Z",
     "shell.execute_reply": "2022-07-16T10:17:03.098932Z"
    },
    "papermill": {
     "duration": 0.374081,
     "end_time": "2022-07-16T10:17:03.102808",
     "exception": false,
     "start_time": "2022-07-16T10:17:02.728727",
     "status": "completed"
    },
    "tags": []
   },
   "outputs": [],
   "source": [
    "from datetime import datetime\n",
    "#날짜 피처 생성\n",
    "all_data['date'] = all_data['datetime'].apply(lambda x: x.split()[0])\n",
    "#연도 피처 생성\n",
    "all_data['year'] = all_data['datetime'].apply(lambda x: x.split()[0].split('-')[0])\n",
    "#월 피처 생성\n",
    "all_data['month'] = all_data['datetime'].apply(lambda x: x.split()[0].split('-')[1])\n",
    "#시 피처 생성\n",
    "all_data['hour'] = all_data['datetime'].apply(lambda x: x.split()[1].split(':')[0])\n",
    "#요일 피처 생성\n",
    "all_data[\"weekday\"] = all_data['date'].apply(lambda dateString : datetime.strptime(dateString,\"%Y-%m-%d\").weekday())"
   ]
  },
  {
   "cell_type": "markdown",
   "id": "96280fa4",
   "metadata": {
    "papermill": {
     "duration": 0.035214,
     "end_time": "2022-07-16T10:17:03.173947",
     "exception": false,
     "start_time": "2022-07-16T10:17:03.138733",
     "status": "completed"
    },
    "tags": []
   },
   "source": [
    "### 필요 없는 피처 제거"
   ]
  },
  {
   "cell_type": "code",
   "execution_count": 30,
   "id": "306a95f7",
   "metadata": {
    "execution": {
     "iopub.execute_input": "2022-07-16T10:17:03.246627Z",
     "iopub.status.busy": "2022-07-16T10:17:03.246230Z",
     "iopub.status.idle": "2022-07-16T10:17:03.256259Z",
     "shell.execute_reply": "2022-07-16T10:17:03.255054Z"
    },
    "papermill": {
     "duration": 0.049313,
     "end_time": "2022-07-16T10:17:03.258737",
     "exception": false,
     "start_time": "2022-07-16T10:17:03.209424",
     "status": "completed"
    },
    "tags": []
   },
   "outputs": [],
   "source": [
    "drop_features = ['casual', 'registered', 'datetime', 'date', 'windspeed', 'month']\n",
    "all_data = all_data.drop(drop_features, axis=1)"
   ]
  },
  {
   "cell_type": "markdown",
   "id": "1547407a",
   "metadata": {
    "papermill": {
     "duration": 0.037136,
     "end_time": "2022-07-16T10:17:03.331567",
     "exception": false,
     "start_time": "2022-07-16T10:17:03.294431",
     "status": "completed"
    },
    "tags": []
   },
   "source": [
    "### 데이터 나누기"
   ]
  },
  {
   "cell_type": "code",
   "execution_count": 31,
   "id": "fb174522",
   "metadata": {
    "execution": {
     "iopub.execute_input": "2022-07-16T10:17:03.408759Z",
     "iopub.status.busy": "2022-07-16T10:17:03.408103Z",
     "iopub.status.idle": "2022-07-16T10:17:03.426445Z",
     "shell.execute_reply": "2022-07-16T10:17:03.425551Z"
    },
    "papermill": {
     "duration": 0.059384,
     "end_time": "2022-07-16T10:17:03.429198",
     "exception": false,
     "start_time": "2022-07-16T10:17:03.369814",
     "status": "completed"
    },
    "tags": []
   },
   "outputs": [],
   "source": [
    "X_train = all_data[~pd.isnull(all_data['count'])]\n",
    "X_test = all_data[pd.isnull(all_data['count'])]\n",
    "\n",
    "X_train = X_train.drop(['count'], axis=1)\n",
    "X_test = X_test.drop(['count'], axis=1)\n",
    "y = train['count'].apply(lambda x:float(x))"
   ]
  },
  {
   "cell_type": "code",
   "execution_count": 32,
   "id": "fbc132a2",
   "metadata": {
    "execution": {
     "iopub.execute_input": "2022-07-16T10:17:03.504264Z",
     "iopub.status.busy": "2022-07-16T10:17:03.503815Z",
     "iopub.status.idle": "2022-07-16T10:17:03.518393Z",
     "shell.execute_reply": "2022-07-16T10:17:03.517405Z"
    },
    "papermill": {
     "duration": 0.055123,
     "end_time": "2022-07-16T10:17:03.520701",
     "exception": false,
     "start_time": "2022-07-16T10:17:03.465578",
     "status": "completed"
    },
    "tags": []
   },
   "outputs": [
    {
     "data": {
      "text/html": [
       "<div>\n",
       "<style scoped>\n",
       "    .dataframe tbody tr th:only-of-type {\n",
       "        vertical-align: middle;\n",
       "    }\n",
       "\n",
       "    .dataframe tbody tr th {\n",
       "        vertical-align: top;\n",
       "    }\n",
       "\n",
       "    .dataframe thead th {\n",
       "        text-align: right;\n",
       "    }\n",
       "</style>\n",
       "<table border=\"1\" class=\"dataframe\">\n",
       "  <thead>\n",
       "    <tr style=\"text-align: right;\">\n",
       "      <th></th>\n",
       "      <th>season</th>\n",
       "      <th>holiday</th>\n",
       "      <th>workingday</th>\n",
       "      <th>weather</th>\n",
       "      <th>temp</th>\n",
       "      <th>atemp</th>\n",
       "      <th>humidity</th>\n",
       "      <th>year</th>\n",
       "      <th>hour</th>\n",
       "      <th>weekday</th>\n",
       "    </tr>\n",
       "  </thead>\n",
       "  <tbody>\n",
       "    <tr>\n",
       "      <th>0</th>\n",
       "      <td>1</td>\n",
       "      <td>0</td>\n",
       "      <td>0</td>\n",
       "      <td>1</td>\n",
       "      <td>9.84</td>\n",
       "      <td>14.395</td>\n",
       "      <td>81</td>\n",
       "      <td>2011</td>\n",
       "      <td>00</td>\n",
       "      <td>5</td>\n",
       "    </tr>\n",
       "    <tr>\n",
       "      <th>1</th>\n",
       "      <td>1</td>\n",
       "      <td>0</td>\n",
       "      <td>0</td>\n",
       "      <td>1</td>\n",
       "      <td>9.02</td>\n",
       "      <td>13.635</td>\n",
       "      <td>80</td>\n",
       "      <td>2011</td>\n",
       "      <td>01</td>\n",
       "      <td>5</td>\n",
       "    </tr>\n",
       "    <tr>\n",
       "      <th>2</th>\n",
       "      <td>1</td>\n",
       "      <td>0</td>\n",
       "      <td>0</td>\n",
       "      <td>1</td>\n",
       "      <td>9.02</td>\n",
       "      <td>13.635</td>\n",
       "      <td>80</td>\n",
       "      <td>2011</td>\n",
       "      <td>02</td>\n",
       "      <td>5</td>\n",
       "    </tr>\n",
       "    <tr>\n",
       "      <th>3</th>\n",
       "      <td>1</td>\n",
       "      <td>0</td>\n",
       "      <td>0</td>\n",
       "      <td>1</td>\n",
       "      <td>9.84</td>\n",
       "      <td>14.395</td>\n",
       "      <td>75</td>\n",
       "      <td>2011</td>\n",
       "      <td>03</td>\n",
       "      <td>5</td>\n",
       "    </tr>\n",
       "    <tr>\n",
       "      <th>4</th>\n",
       "      <td>1</td>\n",
       "      <td>0</td>\n",
       "      <td>0</td>\n",
       "      <td>1</td>\n",
       "      <td>9.84</td>\n",
       "      <td>14.395</td>\n",
       "      <td>75</td>\n",
       "      <td>2011</td>\n",
       "      <td>04</td>\n",
       "      <td>5</td>\n",
       "    </tr>\n",
       "  </tbody>\n",
       "</table>\n",
       "</div>"
      ],
      "text/plain": [
       "   season  holiday  workingday  weather  temp   atemp  humidity  year hour  \\\n",
       "0       1        0           0        1  9.84  14.395        81  2011   00   \n",
       "1       1        0           0        1  9.02  13.635        80  2011   01   \n",
       "2       1        0           0        1  9.02  13.635        80  2011   02   \n",
       "3       1        0           0        1  9.84  14.395        75  2011   03   \n",
       "4       1        0           0        1  9.84  14.395        75  2011   04   \n",
       "\n",
       "   weekday  \n",
       "0        5  \n",
       "1        5  \n",
       "2        5  \n",
       "3        5  \n",
       "4        5  "
      ]
     },
     "execution_count": 32,
     "metadata": {},
     "output_type": "execute_result"
    }
   ],
   "source": [
    "X_train.head()"
   ]
  },
  {
   "cell_type": "code",
   "execution_count": 33,
   "id": "dfc3e91c",
   "metadata": {
    "execution": {
     "iopub.execute_input": "2022-07-16T10:17:03.597174Z",
     "iopub.status.busy": "2022-07-16T10:17:03.596600Z",
     "iopub.status.idle": "2022-07-16T10:17:03.602018Z",
     "shell.execute_reply": "2022-07-16T10:17:03.601180Z"
    },
    "papermill": {
     "duration": 0.046245,
     "end_time": "2022-07-16T10:17:03.604200",
     "exception": false,
     "start_time": "2022-07-16T10:17:03.557955",
     "status": "completed"
    },
    "tags": []
   },
   "outputs": [
    {
     "name": "stdout",
     "output_type": "stream",
     "text": [
      "(10885, 10)\n",
      "<class 'pandas.core.frame.DataFrame'>\n",
      "(10885,)\n"
     ]
    }
   ],
   "source": [
    "print(X_train.shape)\n",
    "print(type(X_train))\n",
    "print(y.shape)"
   ]
  },
  {
   "cell_type": "markdown",
   "id": "7e645d47",
   "metadata": {
    "papermill": {
     "duration": 0.037071,
     "end_time": "2022-07-16T10:17:03.678141",
     "exception": false,
     "start_time": "2022-07-16T10:17:03.641070",
     "status": "completed"
    },
    "tags": []
   },
   "source": [
    "## 2.2 평가지표 계산 함수 작성"
   ]
  },
  {
   "cell_type": "code",
   "execution_count": 34,
   "id": "570e9a31",
   "metadata": {
    "execution": {
     "iopub.execute_input": "2022-07-16T10:17:03.752965Z",
     "iopub.status.busy": "2022-07-16T10:17:03.752536Z",
     "iopub.status.idle": "2022-07-16T10:17:03.760153Z",
     "shell.execute_reply": "2022-07-16T10:17:03.759170Z"
    },
    "papermill": {
     "duration": 0.047054,
     "end_time": "2022-07-16T10:17:03.762336",
     "exception": false,
     "start_time": "2022-07-16T10:17:03.715282",
     "status": "completed"
    },
    "tags": []
   },
   "outputs": [],
   "source": [
    "import numpy as np\n",
    "\n",
    "def rmsle(y_true, y_pred, convertExp=True):\n",
    "    \n",
    "    if convertExp:\n",
    "        y_true = np.exp(y_true)\n",
    "        y_pred = np.exp(y_pred)\n",
    "        \n",
    "    log_true = np.nan_to_num(np.log(y_true+1))\n",
    "    log_pred = np.nan_to_num(np.log(y_pred+1))\n",
    "    \n",
    "    output = np.sqrt(np.mean((log_true - log_pred)**2))\n",
    "    \n",
    "    return output"
   ]
  },
  {
   "cell_type": "markdown",
   "id": "d9f1b40d",
   "metadata": {
    "papermill": {
     "duration": 0.035706,
     "end_time": "2022-07-16T10:17:03.834458",
     "exception": false,
     "start_time": "2022-07-16T10:17:03.798752",
     "status": "completed"
    },
    "tags": []
   },
   "source": [
    "### 2.3 모델 훈련"
   ]
  },
  {
   "cell_type": "code",
   "execution_count": 35,
   "id": "b1ae5e77",
   "metadata": {
    "execution": {
     "iopub.execute_input": "2022-07-16T10:17:03.908999Z",
     "iopub.status.busy": "2022-07-16T10:17:03.908565Z",
     "iopub.status.idle": "2022-07-16T10:17:04.150678Z",
     "shell.execute_reply": "2022-07-16T10:17:04.149738Z"
    },
    "papermill": {
     "duration": 0.282608,
     "end_time": "2022-07-16T10:17:04.153348",
     "exception": false,
     "start_time": "2022-07-16T10:17:03.870740",
     "status": "completed"
    },
    "tags": []
   },
   "outputs": [],
   "source": [
    "from sklearn.linear_model import LinearRegression\n",
    "linear_reg_model = LinearRegression()"
   ]
  },
  {
   "cell_type": "code",
   "execution_count": 36,
   "id": "abb15835",
   "metadata": {
    "execution": {
     "iopub.execute_input": "2022-07-16T10:17:04.228179Z",
     "iopub.status.busy": "2022-07-16T10:17:04.227783Z",
     "iopub.status.idle": "2022-07-16T10:17:04.273236Z",
     "shell.execute_reply": "2022-07-16T10:17:04.272512Z"
    },
    "papermill": {
     "duration": 0.08556,
     "end_time": "2022-07-16T10:17:04.275691",
     "exception": false,
     "start_time": "2022-07-16T10:17:04.190131",
     "status": "completed"
    },
    "tags": []
   },
   "outputs": [
    {
     "data": {
      "text/plain": [
       "LinearRegression()"
      ]
     },
     "execution_count": 36,
     "metadata": {},
     "output_type": "execute_result"
    }
   ],
   "source": [
    "log_y = np.log(y)\n",
    "linear_reg_model.fit(X_train, log_y)"
   ]
  },
  {
   "cell_type": "markdown",
   "id": "411abc80",
   "metadata": {
    "papermill": {
     "duration": 0.0444,
     "end_time": "2022-07-16T10:17:04.366235",
     "exception": false,
     "start_time": "2022-07-16T10:17:04.321835",
     "status": "completed"
    },
    "tags": []
   },
   "source": [
    "### 2.4 모델 성능 검증"
   ]
  },
  {
   "cell_type": "code",
   "execution_count": 37,
   "id": "b0175ec1",
   "metadata": {
    "execution": {
     "iopub.execute_input": "2022-07-16T10:17:04.444882Z",
     "iopub.status.busy": "2022-07-16T10:17:04.444300Z",
     "iopub.status.idle": "2022-07-16T10:17:04.459216Z",
     "shell.execute_reply": "2022-07-16T10:17:04.458378Z"
    },
    "papermill": {
     "duration": 0.057219,
     "end_time": "2022-07-16T10:17:04.461993",
     "exception": false,
     "start_time": "2022-07-16T10:17:04.404774",
     "status": "completed"
    },
    "tags": []
   },
   "outputs": [],
   "source": [
    "preds = linear_reg_model.predict(X_train)"
   ]
  },
  {
   "cell_type": "code",
   "execution_count": 38,
   "id": "569297b9",
   "metadata": {
    "execution": {
     "iopub.execute_input": "2022-07-16T10:17:04.557629Z",
     "iopub.status.busy": "2022-07-16T10:17:04.556625Z",
     "iopub.status.idle": "2022-07-16T10:17:04.564033Z",
     "shell.execute_reply": "2022-07-16T10:17:04.562893Z"
    },
    "papermill": {
     "duration": 0.057259,
     "end_time": "2022-07-16T10:17:04.566266",
     "exception": false,
     "start_time": "2022-07-16T10:17:04.509007",
     "status": "completed"
    },
    "tags": []
   },
   "outputs": [
    {
     "name": "stdout",
     "output_type": "stream",
     "text": [
      "선형회귀의 RMSLE 값 : 1.0205\n"
     ]
    }
   ],
   "source": [
    "print(f'선형회귀의 RMSLE 값 : {rmsle(log_y, preds, True):.4f}')"
   ]
  },
  {
   "cell_type": "markdown",
   "id": "fe0a535d",
   "metadata": {
    "papermill": {
     "duration": 0.037353,
     "end_time": "2022-07-16T10:17:04.641970",
     "exception": false,
     "start_time": "2022-07-16T10:17:04.604617",
     "status": "completed"
    },
    "tags": []
   },
   "source": [
    "### 2.5 예측 및 결과 제출"
   ]
  },
  {
   "cell_type": "code",
   "execution_count": 39,
   "id": "7b37c3f5",
   "metadata": {
    "execution": {
     "iopub.execute_input": "2022-07-16T10:17:04.718269Z",
     "iopub.status.busy": "2022-07-16T10:17:04.717942Z",
     "iopub.status.idle": "2022-07-16T10:17:04.749124Z",
     "shell.execute_reply": "2022-07-16T10:17:04.748092Z"
    },
    "papermill": {
     "duration": 0.072538,
     "end_time": "2022-07-16T10:17:04.752202",
     "exception": false,
     "start_time": "2022-07-16T10:17:04.679664",
     "status": "completed"
    },
    "tags": []
   },
   "outputs": [],
   "source": [
    "linearreg_preds = linear_reg_model.predict(X_test)\n",
    "submission['count'] = np.exp(linearreg_preds)\n",
    "submission.to_csv('first_submission.csv', index=False)"
   ]
  },
  {
   "cell_type": "markdown",
   "id": "f11b4fbf",
   "metadata": {
    "papermill": {
     "duration": 0.046364,
     "end_time": "2022-07-16T10:17:04.845015",
     "exception": false,
     "start_time": "2022-07-16T10:17:04.798651",
     "status": "completed"
    },
    "tags": []
   },
   "source": [
    "자, 여러분들이 여기까지 정상적으로 하셨다면 'Output/kaggle/working에 first_submission.csv이 생성되었을 겁니다.\n",
    "\n",
    "저 파일을 다운로드해서 직접 대회에 제출하고 평가 점수를 살펴보세요."
   ]
  },
  {
   "cell_type": "markdown",
   "id": "5c1b9e1d",
   "metadata": {
    "papermill": {
     "duration": 0.036783,
     "end_time": "2022-07-16T10:17:04.919206",
     "exception": false,
     "start_time": "2022-07-16T10:17:04.882423",
     "status": "completed"
    },
    "tags": []
   },
   "source": [
    "# 3. 자전거 대여 수요 예측 경진대회 모델 성능 개선"
   ]
  },
  {
   "cell_type": "code",
   "execution_count": 40,
   "id": "402e25f9",
   "metadata": {
    "execution": {
     "iopub.execute_input": "2022-07-16T10:17:04.995097Z",
     "iopub.status.busy": "2022-07-16T10:17:04.994741Z",
     "iopub.status.idle": "2022-07-16T10:17:05.025770Z",
     "shell.execute_reply": "2022-07-16T10:17:05.025064Z"
    },
    "papermill": {
     "duration": 0.072525,
     "end_time": "2022-07-16T10:17:05.028263",
     "exception": false,
     "start_time": "2022-07-16T10:17:04.955738",
     "status": "completed"
    },
    "tags": []
   },
   "outputs": [],
   "source": [
    "import pandas as pd\n",
    "data_path = '../input/bike-sharing-demand/'\n",
    "train = pd.read_csv(data_path + 'train.csv')\n",
    "test = pd.read_csv(data_path + 'test.csv')\n",
    "submission = pd.read_csv(data_path + 'sampleSubmission.csv')"
   ]
  },
  {
   "cell_type": "markdown",
   "id": "b3487428",
   "metadata": {
    "papermill": {
     "duration": 0.035859,
     "end_time": "2022-07-16T10:17:05.101317",
     "exception": false,
     "start_time": "2022-07-16T10:17:05.065458",
     "status": "completed"
    },
    "tags": []
   },
   "source": [
    "### 피처 엔지니어링\n",
    "\n",
    "### 이상치 제거"
   ]
  },
  {
   "cell_type": "code",
   "execution_count": 41,
   "id": "9c5e9b8f",
   "metadata": {
    "execution": {
     "iopub.execute_input": "2022-07-16T10:17:05.175945Z",
     "iopub.status.busy": "2022-07-16T10:17:05.175222Z",
     "iopub.status.idle": "2022-07-16T10:17:05.181445Z",
     "shell.execute_reply": "2022-07-16T10:17:05.180495Z"
    },
    "papermill": {
     "duration": 0.046103,
     "end_time": "2022-07-16T10:17:05.183700",
     "exception": false,
     "start_time": "2022-07-16T10:17:05.137597",
     "status": "completed"
    },
    "tags": []
   },
   "outputs": [],
   "source": [
    "train = train[train['weather'] !=4 ]"
   ]
  },
  {
   "cell_type": "markdown",
   "id": "81ed07f5",
   "metadata": {
    "papermill": {
     "duration": 0.037865,
     "end_time": "2022-07-16T10:17:05.258248",
     "exception": false,
     "start_time": "2022-07-16T10:17:05.220383",
     "status": "completed"
    },
    "tags": []
   },
   "source": [
    "### 데이터 합치기"
   ]
  },
  {
   "cell_type": "code",
   "execution_count": 42,
   "id": "8b816a16",
   "metadata": {
    "execution": {
     "iopub.execute_input": "2022-07-16T10:17:05.333491Z",
     "iopub.status.busy": "2022-07-16T10:17:05.333118Z",
     "iopub.status.idle": "2022-07-16T10:17:05.361027Z",
     "shell.execute_reply": "2022-07-16T10:17:05.360403Z"
    },
    "papermill": {
     "duration": 0.067978,
     "end_time": "2022-07-16T10:17:05.363171",
     "exception": false,
     "start_time": "2022-07-16T10:17:05.295193",
     "status": "completed"
    },
    "tags": []
   },
   "outputs": [
    {
     "data": {
      "text/html": [
       "<div>\n",
       "<style scoped>\n",
       "    .dataframe tbody tr th:only-of-type {\n",
       "        vertical-align: middle;\n",
       "    }\n",
       "\n",
       "    .dataframe tbody tr th {\n",
       "        vertical-align: top;\n",
       "    }\n",
       "\n",
       "    .dataframe thead th {\n",
       "        text-align: right;\n",
       "    }\n",
       "</style>\n",
       "<table border=\"1\" class=\"dataframe\">\n",
       "  <thead>\n",
       "    <tr style=\"text-align: right;\">\n",
       "      <th></th>\n",
       "      <th>datetime</th>\n",
       "      <th>season</th>\n",
       "      <th>holiday</th>\n",
       "      <th>workingday</th>\n",
       "      <th>weather</th>\n",
       "      <th>temp</th>\n",
       "      <th>atemp</th>\n",
       "      <th>humidity</th>\n",
       "      <th>windspeed</th>\n",
       "      <th>casual</th>\n",
       "      <th>registered</th>\n",
       "      <th>count</th>\n",
       "    </tr>\n",
       "  </thead>\n",
       "  <tbody>\n",
       "    <tr>\n",
       "      <th>0</th>\n",
       "      <td>2011-01-01 00:00:00</td>\n",
       "      <td>1</td>\n",
       "      <td>0</td>\n",
       "      <td>0</td>\n",
       "      <td>1</td>\n",
       "      <td>9.84</td>\n",
       "      <td>14.395</td>\n",
       "      <td>81</td>\n",
       "      <td>0.0000</td>\n",
       "      <td>3.0</td>\n",
       "      <td>13.0</td>\n",
       "      <td>16.0</td>\n",
       "    </tr>\n",
       "    <tr>\n",
       "      <th>1</th>\n",
       "      <td>2011-01-01 01:00:00</td>\n",
       "      <td>1</td>\n",
       "      <td>0</td>\n",
       "      <td>0</td>\n",
       "      <td>1</td>\n",
       "      <td>9.02</td>\n",
       "      <td>13.635</td>\n",
       "      <td>80</td>\n",
       "      <td>0.0000</td>\n",
       "      <td>8.0</td>\n",
       "      <td>32.0</td>\n",
       "      <td>40.0</td>\n",
       "    </tr>\n",
       "    <tr>\n",
       "      <th>2</th>\n",
       "      <td>2011-01-01 02:00:00</td>\n",
       "      <td>1</td>\n",
       "      <td>0</td>\n",
       "      <td>0</td>\n",
       "      <td>1</td>\n",
       "      <td>9.02</td>\n",
       "      <td>13.635</td>\n",
       "      <td>80</td>\n",
       "      <td>0.0000</td>\n",
       "      <td>5.0</td>\n",
       "      <td>27.0</td>\n",
       "      <td>32.0</td>\n",
       "    </tr>\n",
       "    <tr>\n",
       "      <th>3</th>\n",
       "      <td>2011-01-01 03:00:00</td>\n",
       "      <td>1</td>\n",
       "      <td>0</td>\n",
       "      <td>0</td>\n",
       "      <td>1</td>\n",
       "      <td>9.84</td>\n",
       "      <td>14.395</td>\n",
       "      <td>75</td>\n",
       "      <td>0.0000</td>\n",
       "      <td>3.0</td>\n",
       "      <td>10.0</td>\n",
       "      <td>13.0</td>\n",
       "    </tr>\n",
       "    <tr>\n",
       "      <th>4</th>\n",
       "      <td>2011-01-01 04:00:00</td>\n",
       "      <td>1</td>\n",
       "      <td>0</td>\n",
       "      <td>0</td>\n",
       "      <td>1</td>\n",
       "      <td>9.84</td>\n",
       "      <td>14.395</td>\n",
       "      <td>75</td>\n",
       "      <td>0.0000</td>\n",
       "      <td>0.0</td>\n",
       "      <td>1.0</td>\n",
       "      <td>1.0</td>\n",
       "    </tr>\n",
       "    <tr>\n",
       "      <th>...</th>\n",
       "      <td>...</td>\n",
       "      <td>...</td>\n",
       "      <td>...</td>\n",
       "      <td>...</td>\n",
       "      <td>...</td>\n",
       "      <td>...</td>\n",
       "      <td>...</td>\n",
       "      <td>...</td>\n",
       "      <td>...</td>\n",
       "      <td>...</td>\n",
       "      <td>...</td>\n",
       "      <td>...</td>\n",
       "    </tr>\n",
       "    <tr>\n",
       "      <th>17373</th>\n",
       "      <td>2012-12-31 19:00:00</td>\n",
       "      <td>1</td>\n",
       "      <td>0</td>\n",
       "      <td>1</td>\n",
       "      <td>2</td>\n",
       "      <td>10.66</td>\n",
       "      <td>12.880</td>\n",
       "      <td>60</td>\n",
       "      <td>11.0014</td>\n",
       "      <td>NaN</td>\n",
       "      <td>NaN</td>\n",
       "      <td>NaN</td>\n",
       "    </tr>\n",
       "    <tr>\n",
       "      <th>17374</th>\n",
       "      <td>2012-12-31 20:00:00</td>\n",
       "      <td>1</td>\n",
       "      <td>0</td>\n",
       "      <td>1</td>\n",
       "      <td>2</td>\n",
       "      <td>10.66</td>\n",
       "      <td>12.880</td>\n",
       "      <td>60</td>\n",
       "      <td>11.0014</td>\n",
       "      <td>NaN</td>\n",
       "      <td>NaN</td>\n",
       "      <td>NaN</td>\n",
       "    </tr>\n",
       "    <tr>\n",
       "      <th>17375</th>\n",
       "      <td>2012-12-31 21:00:00</td>\n",
       "      <td>1</td>\n",
       "      <td>0</td>\n",
       "      <td>1</td>\n",
       "      <td>1</td>\n",
       "      <td>10.66</td>\n",
       "      <td>12.880</td>\n",
       "      <td>60</td>\n",
       "      <td>11.0014</td>\n",
       "      <td>NaN</td>\n",
       "      <td>NaN</td>\n",
       "      <td>NaN</td>\n",
       "    </tr>\n",
       "    <tr>\n",
       "      <th>17376</th>\n",
       "      <td>2012-12-31 22:00:00</td>\n",
       "      <td>1</td>\n",
       "      <td>0</td>\n",
       "      <td>1</td>\n",
       "      <td>1</td>\n",
       "      <td>10.66</td>\n",
       "      <td>13.635</td>\n",
       "      <td>56</td>\n",
       "      <td>8.9981</td>\n",
       "      <td>NaN</td>\n",
       "      <td>NaN</td>\n",
       "      <td>NaN</td>\n",
       "    </tr>\n",
       "    <tr>\n",
       "      <th>17377</th>\n",
       "      <td>2012-12-31 23:00:00</td>\n",
       "      <td>1</td>\n",
       "      <td>0</td>\n",
       "      <td>1</td>\n",
       "      <td>1</td>\n",
       "      <td>10.66</td>\n",
       "      <td>13.635</td>\n",
       "      <td>65</td>\n",
       "      <td>8.9981</td>\n",
       "      <td>NaN</td>\n",
       "      <td>NaN</td>\n",
       "      <td>NaN</td>\n",
       "    </tr>\n",
       "  </tbody>\n",
       "</table>\n",
       "<p>17378 rows × 12 columns</p>\n",
       "</div>"
      ],
      "text/plain": [
       "                  datetime  season  holiday  workingday  weather   temp  \\\n",
       "0      2011-01-01 00:00:00       1        0           0        1   9.84   \n",
       "1      2011-01-01 01:00:00       1        0           0        1   9.02   \n",
       "2      2011-01-01 02:00:00       1        0           0        1   9.02   \n",
       "3      2011-01-01 03:00:00       1        0           0        1   9.84   \n",
       "4      2011-01-01 04:00:00       1        0           0        1   9.84   \n",
       "...                    ...     ...      ...         ...      ...    ...   \n",
       "17373  2012-12-31 19:00:00       1        0           1        2  10.66   \n",
       "17374  2012-12-31 20:00:00       1        0           1        2  10.66   \n",
       "17375  2012-12-31 21:00:00       1        0           1        1  10.66   \n",
       "17376  2012-12-31 22:00:00       1        0           1        1  10.66   \n",
       "17377  2012-12-31 23:00:00       1        0           1        1  10.66   \n",
       "\n",
       "        atemp  humidity  windspeed  casual  registered  count  \n",
       "0      14.395        81     0.0000     3.0        13.0   16.0  \n",
       "1      13.635        80     0.0000     8.0        32.0   40.0  \n",
       "2      13.635        80     0.0000     5.0        27.0   32.0  \n",
       "3      14.395        75     0.0000     3.0        10.0   13.0  \n",
       "4      14.395        75     0.0000     0.0         1.0    1.0  \n",
       "...       ...       ...        ...     ...         ...    ...  \n",
       "17373  12.880        60    11.0014     NaN         NaN    NaN  \n",
       "17374  12.880        60    11.0014     NaN         NaN    NaN  \n",
       "17375  12.880        60    11.0014     NaN         NaN    NaN  \n",
       "17376  13.635        56     8.9981     NaN         NaN    NaN  \n",
       "17377  13.635        65     8.9981     NaN         NaN    NaN  \n",
       "\n",
       "[17378 rows x 12 columns]"
      ]
     },
     "execution_count": 42,
     "metadata": {},
     "output_type": "execute_result"
    }
   ],
   "source": [
    "all_data = pd.concat([train, test], ignore_index=True)\n",
    "all_data"
   ]
  },
  {
   "cell_type": "markdown",
   "id": "2ab05e15",
   "metadata": {
    "papermill": {
     "duration": 0.037683,
     "end_time": "2022-07-16T10:17:05.438190",
     "exception": false,
     "start_time": "2022-07-16T10:17:05.400507",
     "status": "completed"
    },
    "tags": []
   },
   "source": [
    "### 파생변수(피처)추가"
   ]
  },
  {
   "cell_type": "code",
   "execution_count": 43,
   "id": "3df0db81",
   "metadata": {
    "execution": {
     "iopub.execute_input": "2022-07-16T10:17:05.516493Z",
     "iopub.status.busy": "2022-07-16T10:17:05.515909Z",
     "iopub.status.idle": "2022-07-16T10:17:05.855781Z",
     "shell.execute_reply": "2022-07-16T10:17:05.854745Z"
    },
    "papermill": {
     "duration": 0.382903,
     "end_time": "2022-07-16T10:17:05.858891",
     "exception": false,
     "start_time": "2022-07-16T10:17:05.475988",
     "status": "completed"
    },
    "tags": []
   },
   "outputs": [],
   "source": [
    "from datetime import datetime\n",
    "\n",
    "# 날짜 피처 생성\n",
    "all_data['date'] = all_data['datetime'].apply(lambda x: x.split()[0])\n",
    "# 연도 피처 생성\n",
    "all_data['year'] = all_data['datetime'].apply(lambda x: x.split()[0].split('-')[0])\n",
    "# 월 피처 생성\n",
    "all_data['month'] = all_data['datetime'].apply(lambda x: x.split()[0].split('-')[1])\n",
    "# 시 피처 생성\n",
    "all_data['hour'] = all_data['datetime'].apply(lambda x: x.split()[1].split(':')[0])\n",
    "# 요일 피처 생성\n",
    "all_data[\"weekday\"] = all_data['date'].apply(lambda dateString : datetime.strptime(dateString,\"%Y-%m-%d\").weekday())"
   ]
  },
  {
   "cell_type": "markdown",
   "id": "7588adef",
   "metadata": {
    "papermill": {
     "duration": 0.038123,
     "end_time": "2022-07-16T10:17:05.934785",
     "exception": false,
     "start_time": "2022-07-16T10:17:05.896662",
     "status": "completed"
    },
    "tags": []
   },
   "source": [
    "### 필요 없는 피처 제거"
   ]
  },
  {
   "cell_type": "code",
   "execution_count": 44,
   "id": "dbf651e2",
   "metadata": {
    "execution": {
     "iopub.execute_input": "2022-07-16T10:17:06.013760Z",
     "iopub.status.busy": "2022-07-16T10:17:06.013411Z",
     "iopub.status.idle": "2022-07-16T10:17:06.021734Z",
     "shell.execute_reply": "2022-07-16T10:17:06.020864Z"
    },
    "papermill": {
     "duration": 0.050762,
     "end_time": "2022-07-16T10:17:06.023925",
     "exception": false,
     "start_time": "2022-07-16T10:17:05.973163",
     "status": "completed"
    },
    "tags": []
   },
   "outputs": [],
   "source": [
    "drop_features = ['casual', 'registered', 'datetime', 'date','windspeed', 'month']\n",
    "all_data = all_data.drop(drop_features, axis=1)"
   ]
  },
  {
   "cell_type": "markdown",
   "id": "81b33965",
   "metadata": {
    "papermill": {
     "duration": 0.036106,
     "end_time": "2022-07-16T10:17:06.096620",
     "exception": false,
     "start_time": "2022-07-16T10:17:06.060514",
     "status": "completed"
    },
    "tags": []
   },
   "source": [
    "### 데이터 나누기"
   ]
  },
  {
   "cell_type": "code",
   "execution_count": 45,
   "id": "4efb1abb",
   "metadata": {
    "execution": {
     "iopub.execute_input": "2022-07-16T10:17:06.174505Z",
     "iopub.status.busy": "2022-07-16T10:17:06.173861Z",
     "iopub.status.idle": "2022-07-16T10:17:06.184243Z",
     "shell.execute_reply": "2022-07-16T10:17:06.183477Z"
    },
    "papermill": {
     "duration": 0.052322,
     "end_time": "2022-07-16T10:17:06.187279",
     "exception": false,
     "start_time": "2022-07-16T10:17:06.134957",
     "status": "completed"
    },
    "tags": []
   },
   "outputs": [],
   "source": [
    "X_train = all_data[~pd.isnull(all_data['count'])]\n",
    "X_test = all_data[pd.isnull(all_data['count'])]\n",
    "\n",
    "X_train = X_train.drop(['count'], axis=1)\n",
    "X_test = X_test.drop(['count'], axis=1)\n",
    "\n",
    "y = train['count']"
   ]
  },
  {
   "cell_type": "markdown",
   "id": "57fce552",
   "metadata": {
    "papermill": {
     "duration": 0.038074,
     "end_time": "2022-07-16T10:17:06.263824",
     "exception": false,
     "start_time": "2022-07-16T10:17:06.225750",
     "status": "completed"
    },
    "tags": []
   },
   "source": [
    "### 평가 지표 계산 함수 작성"
   ]
  },
  {
   "cell_type": "code",
   "execution_count": 46,
   "id": "df0a8428",
   "metadata": {
    "execution": {
     "iopub.execute_input": "2022-07-16T10:17:06.344236Z",
     "iopub.status.busy": "2022-07-16T10:17:06.343506Z",
     "iopub.status.idle": "2022-07-16T10:17:06.350679Z",
     "shell.execute_reply": "2022-07-16T10:17:06.349764Z"
    },
    "papermill": {
     "duration": 0.05014,
     "end_time": "2022-07-16T10:17:06.352684",
     "exception": false,
     "start_time": "2022-07-16T10:17:06.302544",
     "status": "completed"
    },
    "tags": []
   },
   "outputs": [],
   "source": [
    "import numpy as np\n",
    "\n",
    "def rmsle(y_true, y_pred, convertExp=True):\n",
    "    if convertExp:\n",
    "        y_true = np.exp(y_true)\n",
    "        y_pred = np.exp(y_pred)\n",
    "        \n",
    "    log_true = np.nan_to_num(np.log(y_true+1))\n",
    "    log_pred = np.nan_to_num(np.log(y_pred+1))\n",
    "    \n",
    "    output = np.sqrt(np.mean((log_true - log_pred)**2))\n",
    "    \n",
    "    return output"
   ]
  },
  {
   "cell_type": "markdown",
   "id": "382f09c8",
   "metadata": {
    "papermill": {
     "duration": 0.024047,
     "end_time": "2022-07-16T10:17:06.484200",
     "exception": false,
     "start_time": "2022-07-16T10:17:06.460153",
     "status": "completed"
    },
    "tags": []
   },
   "source": [
    "## 3.1 성능 개선 |: 릿지 회귀 모델\n",
    "\n",
    "### 3.1.1하이퍼 파라미터 최적화(모델 훈련)\n",
    "\n",
    "### 모델 생성"
   ]
  },
  {
   "cell_type": "code",
   "execution_count": 47,
   "id": "378b016e",
   "metadata": {
    "execution": {
     "iopub.execute_input": "2022-07-16T10:17:06.536164Z",
     "iopub.status.busy": "2022-07-16T10:17:06.535458Z",
     "iopub.status.idle": "2022-07-16T10:17:06.541099Z",
     "shell.execute_reply": "2022-07-16T10:17:06.540313Z"
    },
    "papermill": {
     "duration": 0.034131,
     "end_time": "2022-07-16T10:17:06.542982",
     "exception": false,
     "start_time": "2022-07-16T10:17:06.508851",
     "status": "completed"
    },
    "tags": []
   },
   "outputs": [],
   "source": [
    "from sklearn.linear_model import Ridge\n",
    "from sklearn.model_selection import GridSearchCV\n",
    "from sklearn import metrics\n",
    "import warnings\n",
    "warnings.filterwarnings('ignore')\n",
    "\n",
    "ridge_model = Ridge()"
   ]
  },
  {
   "cell_type": "markdown",
   "id": "b1567d50",
   "metadata": {
    "papermill": {
     "duration": 0.024492,
     "end_time": "2022-07-16T10:17:06.592073",
     "exception": false,
     "start_time": "2022-07-16T10:17:06.567581",
     "status": "completed"
    },
    "tags": []
   },
   "source": [
    "### 그리드서치 객체 생성"
   ]
  },
  {
   "cell_type": "code",
   "execution_count": 48,
   "id": "51105762",
   "metadata": {
    "execution": {
     "iopub.execute_input": "2022-07-16T10:17:06.643562Z",
     "iopub.status.busy": "2022-07-16T10:17:06.642743Z",
     "iopub.status.idle": "2022-07-16T10:17:06.649554Z",
     "shell.execute_reply": "2022-07-16T10:17:06.648760Z"
    },
    "papermill": {
     "duration": 0.034791,
     "end_time": "2022-07-16T10:17:06.651497",
     "exception": false,
     "start_time": "2022-07-16T10:17:06.616706",
     "status": "completed"
    },
    "tags": []
   },
   "outputs": [],
   "source": [
    "ridge_params = {'max_iter' :[3000], 'alpha':[0.1, 1, 2, 3, 4, 10, 30, 100, 200, 300, 400, 800, 900, 1000]}\n",
    "\n",
    "rmsle_scorer = metrics.make_scorer(rmsle, greater_is_better=False)\n",
    "gridsearch_ridge_model = GridSearchCV(estimator=ridge_model, param_grid=ridge_params, scoring=rmsle_scorer, cv=5)"
   ]
  },
  {
   "cell_type": "markdown",
   "id": "fdfd1608",
   "metadata": {
    "papermill": {
     "duration": 0.024948,
     "end_time": "2022-07-16T10:17:06.701255",
     "exception": false,
     "start_time": "2022-07-16T10:17:06.676307",
     "status": "completed"
    },
    "tags": []
   },
   "source": [
    "### 그리드서치 수행"
   ]
  },
  {
   "cell_type": "code",
   "execution_count": 49,
   "id": "5d9ac152",
   "metadata": {
    "execution": {
     "iopub.execute_input": "2022-07-16T10:17:06.753778Z",
     "iopub.status.busy": "2022-07-16T10:17:06.753031Z",
     "iopub.status.idle": "2022-07-16T10:17:08.665640Z",
     "shell.execute_reply": "2022-07-16T10:17:08.664801Z"
    },
    "papermill": {
     "duration": 1.940406,
     "end_time": "2022-07-16T10:17:08.667553",
     "exception": false,
     "start_time": "2022-07-16T10:17:06.727147",
     "status": "completed"
    },
    "tags": []
   },
   "outputs": [
    {
     "data": {
      "text/plain": [
       "GridSearchCV(cv=5, estimator=Ridge(),\n",
       "             param_grid={'alpha': [0.1, 1, 2, 3, 4, 10, 30, 100, 200, 300, 400,\n",
       "                                   800, 900, 1000],\n",
       "                         'max_iter': [3000]},\n",
       "             scoring=make_scorer(rmsle, greater_is_better=False))"
      ]
     },
     "execution_count": 49,
     "metadata": {},
     "output_type": "execute_result"
    }
   ],
   "source": [
    "log_y = np.log(y)\n",
    "gridsearch_ridge_model.fit(X_train, log_y)"
   ]
  },
  {
   "cell_type": "code",
   "execution_count": 50,
   "id": "b06dc7de",
   "metadata": {
    "execution": {
     "iopub.execute_input": "2022-07-16T10:17:08.738084Z",
     "iopub.status.busy": "2022-07-16T10:17:08.737604Z",
     "iopub.status.idle": "2022-07-16T10:17:08.743609Z",
     "shell.execute_reply": "2022-07-16T10:17:08.742740Z"
    },
    "papermill": {
     "duration": 0.044784,
     "end_time": "2022-07-16T10:17:08.745875",
     "exception": false,
     "start_time": "2022-07-16T10:17:08.701091",
     "status": "completed"
    },
    "tags": []
   },
   "outputs": [
    {
     "name": "stdout",
     "output_type": "stream",
     "text": [
      "최적 하이퍼파라미터 : {'alpha': 0.1, 'max_iter': 3000}\n"
     ]
    }
   ],
   "source": [
    "print('최적 하이퍼파라미터 :', gridsearch_ridge_model.best_params_)"
   ]
  },
  {
   "cell_type": "markdown",
   "id": "a6ae277e",
   "metadata": {
    "papermill": {
     "duration": 0.024947,
     "end_time": "2022-07-16T10:17:08.804871",
     "exception": false,
     "start_time": "2022-07-16T10:17:08.779924",
     "status": "completed"
    },
    "tags": []
   },
   "source": [
    "### 3.1.2 성능 검증"
   ]
  },
  {
   "cell_type": "code",
   "execution_count": 51,
   "id": "f29d8ef5",
   "metadata": {
    "execution": {
     "iopub.execute_input": "2022-07-16T10:17:08.856910Z",
     "iopub.status.busy": "2022-07-16T10:17:08.856515Z",
     "iopub.status.idle": "2022-07-16T10:17:08.886176Z",
     "shell.execute_reply": "2022-07-16T10:17:08.885006Z"
    },
    "papermill": {
     "duration": 0.058462,
     "end_time": "2022-07-16T10:17:08.888290",
     "exception": false,
     "start_time": "2022-07-16T10:17:08.829828",
     "status": "completed"
    },
    "tags": []
   },
   "outputs": [
    {
     "name": "stdout",
     "output_type": "stream",
     "text": [
      "릿지 회귀 RMSLE 값 : 1.0205\n"
     ]
    }
   ],
   "source": [
    "preds = gridsearch_ridge_model.best_estimator_.predict(X_train)\n",
    "print(f'릿지 회귀 RMSLE 값 : {rmsle(log_y, preds, True):.4f}')"
   ]
  },
  {
   "cell_type": "markdown",
   "id": "2dde732d",
   "metadata": {
    "papermill": {
     "duration": 0.032856,
     "end_time": "2022-07-16T10:17:08.954440",
     "exception": false,
     "start_time": "2022-07-16T10:17:08.921584",
     "status": "completed"
    },
    "tags": []
   },
   "source": [
    "# 3.2 성능 개선||: 라쏘 회귀 모델\n",
    "\n",
    "## 3.2.1 하이퍼 파라미터 최적화(모델 훈련)"
   ]
  },
  {
   "cell_type": "code",
   "execution_count": 52,
   "id": "4d442561",
   "metadata": {
    "execution": {
     "iopub.execute_input": "2022-07-16T10:17:09.015354Z",
     "iopub.status.busy": "2022-07-16T10:17:09.014857Z",
     "iopub.status.idle": "2022-07-16T10:17:13.564939Z",
     "shell.execute_reply": "2022-07-16T10:17:13.563930Z"
    },
    "papermill": {
     "duration": 4.579678,
     "end_time": "2022-07-16T10:17:13.566846",
     "exception": false,
     "start_time": "2022-07-16T10:17:08.987168",
     "status": "completed"
    },
    "tags": []
   },
   "outputs": [
    {
     "name": "stdout",
     "output_type": "stream",
     "text": [
      "최적 하이퍼파라미터 : {'alpha': 0.1, 'max_iter': 3000}\n"
     ]
    }
   ],
   "source": [
    "from sklearn.linear_model import Lasso\n",
    "\n",
    "lasso_model = Lasso()\n",
    "\n",
    "lasso_alpha = np.array([0.1, 1, 2, 3, 4, 10, 30, 100, 200, 300, 400, 800, 900, 1000])\n",
    "lasso_params = {'max_iter' :[3000], 'alpha':lasso_alpha}\n",
    "\n",
    "gridsearch_lasso_model = GridSearchCV(estimator = lasso_model, param_grid=lasso_params, scoring=rmsle_scorer, cv=5)\n",
    "\n",
    "log_y = np.log(y)\n",
    "gridsearch_lasso_model.fit(X_train, log_y)\n",
    "\n",
    "print('최적 하이퍼파라미터 :', gridsearch_lasso_model.best_params_)"
   ]
  },
  {
   "cell_type": "markdown",
   "id": "62219843",
   "metadata": {
    "papermill": {
     "duration": 0.032564,
     "end_time": "2022-07-16T10:17:13.647088",
     "exception": false,
     "start_time": "2022-07-16T10:17:13.614524",
     "status": "completed"
    },
    "tags": []
   },
   "source": [
    "## 3.2.2 성능 검증"
   ]
  },
  {
   "cell_type": "code",
   "execution_count": 53,
   "id": "3fd7caaa",
   "metadata": {
    "execution": {
     "iopub.execute_input": "2022-07-16T10:17:13.707407Z",
     "iopub.status.busy": "2022-07-16T10:17:13.707048Z",
     "iopub.status.idle": "2022-07-16T10:17:13.726165Z",
     "shell.execute_reply": "2022-07-16T10:17:13.724398Z"
    },
    "papermill": {
     "duration": 0.051283,
     "end_time": "2022-07-16T10:17:13.731178",
     "exception": false,
     "start_time": "2022-07-16T10:17:13.679895",
     "status": "completed"
    },
    "tags": []
   },
   "outputs": [
    {
     "name": "stdout",
     "output_type": "stream",
     "text": [
      "라쏘 회귀 RMSLE 값 : 1.0429\n"
     ]
    }
   ],
   "source": [
    "preds = gridsearch_lasso_model.best_estimator_.predict(X_train)\n",
    "print(f'라쏘 회귀 RMSLE 값 : {rmsle(log_y, preds, True):.4f}')"
   ]
  },
  {
   "cell_type": "markdown",
   "id": "01bfd2ac",
   "metadata": {
    "papermill": {
     "duration": 0.047548,
     "end_time": "2022-07-16T10:17:13.828132",
     "exception": false,
     "start_time": "2022-07-16T10:17:13.780584",
     "status": "completed"
    },
    "tags": []
   },
   "source": [
    "# 3.3 성능 개선|||: 랜덤 포레스트 회귀 모델\n",
    "## 3.3.1 하이퍼 파라미터 최적화(모델훈련)"
   ]
  },
  {
   "cell_type": "code",
   "execution_count": 54,
   "id": "5ca39d1a",
   "metadata": {
    "execution": {
     "iopub.execute_input": "2022-07-16T10:17:13.908685Z",
     "iopub.status.busy": "2022-07-16T10:17:13.908316Z",
     "iopub.status.idle": "2022-07-16T10:18:08.050266Z",
     "shell.execute_reply": "2022-07-16T10:18:08.049074Z"
    },
    "papermill": {
     "duration": 54.222337,
     "end_time": "2022-07-16T10:18:08.090229",
     "exception": false,
     "start_time": "2022-07-16T10:17:13.867892",
     "status": "completed"
    },
    "tags": []
   },
   "outputs": [
    {
     "name": "stdout",
     "output_type": "stream",
     "text": [
      "최적 하이퍼파라미터 : {'n_estimators': 140, 'random_state': 42}\n"
     ]
    }
   ],
   "source": [
    "from sklearn.ensemble import RandomForestRegressor\n",
    "\n",
    "randomforest_model = RandomForestRegressor()\n",
    "\n",
    "rf_params = {'random_state':[42], 'n_estimators':[100, 120, 140]}\n",
    "gridsearch_random_forest_model = GridSearchCV(estimator = randomforest_model, param_grid=rf_params, scoring=rmsle_scorer, cv=5)\n",
    "\n",
    "log_y = np.log(y)\n",
    "gridsearch_random_forest_model.fit(X_train, log_y)\n",
    "\n",
    "print('최적 하이퍼파라미터 :', gridsearch_random_forest_model.best_params_)"
   ]
  },
  {
   "cell_type": "markdown",
   "id": "888ff726",
   "metadata": {
    "papermill": {
     "duration": 0.038963,
     "end_time": "2022-07-16T10:18:08.169140",
     "exception": false,
     "start_time": "2022-07-16T10:18:08.130177",
     "status": "completed"
    },
    "tags": []
   },
   "source": [
    "## 3.3.2 모델 성능 검증"
   ]
  },
  {
   "cell_type": "code",
   "execution_count": 55,
   "id": "ebe5137e",
   "metadata": {
    "execution": {
     "iopub.execute_input": "2022-07-16T10:18:08.248304Z",
     "iopub.status.busy": "2022-07-16T10:18:08.247735Z",
     "iopub.status.idle": "2022-07-16T10:18:08.528861Z",
     "shell.execute_reply": "2022-07-16T10:18:08.527776Z"
    },
    "papermill": {
     "duration": 0.324286,
     "end_time": "2022-07-16T10:18:08.531776",
     "exception": false,
     "start_time": "2022-07-16T10:18:08.207490",
     "status": "completed"
    },
    "tags": []
   },
   "outputs": [
    {
     "name": "stdout",
     "output_type": "stream",
     "text": [
      "랜덤 포레스트 회귀 RMSLE 값 : 0.1127\n"
     ]
    }
   ],
   "source": [
    "preds = gridsearch_random_forest_model.best_estimator_.predict(X_train)\n",
    "print(f'랜덤 포레스트 회귀 RMSLE 값 : {rmsle(log_y, preds, True):.4f}')"
   ]
  },
  {
   "cell_type": "markdown",
   "id": "56da7f4c",
   "metadata": {
    "papermill": {
     "duration": 0.037864,
     "end_time": "2022-07-16T10:18:08.608146",
     "exception": false,
     "start_time": "2022-07-16T10:18:08.570282",
     "status": "completed"
    },
    "tags": []
   },
   "source": [
    "### 3.3.3 예측 및 결과 제출"
   ]
  },
  {
   "cell_type": "code",
   "execution_count": 56,
   "id": "6c99b64a",
   "metadata": {
    "execution": {
     "iopub.execute_input": "2022-07-16T10:18:08.685548Z",
     "iopub.status.busy": "2022-07-16T10:18:08.685158Z",
     "iopub.status.idle": "2022-07-16T10:18:09.336201Z",
     "shell.execute_reply": "2022-07-16T10:18:09.334910Z"
    },
    "papermill": {
     "duration": 0.692878,
     "end_time": "2022-07-16T10:18:09.339271",
     "exception": false,
     "start_time": "2022-07-16T10:18:08.646393",
     "status": "completed"
    },
    "tags": []
   },
   "outputs": [
    {
     "data": {
      "image/png": "[encoded data removed]",
      "text/plain": [
       "<Figure size 720x288 with 2 Axes>"
      ]
     },
     "metadata": {
      "needs_background": "light"
     },
     "output_type": "display_data"
    }
   ],
   "source": [
    "import seaborn as sns\n",
    "import matplotlib.pyplot as plt\n",
    "\n",
    "randomforest_preds = gridsearch_random_forest_model.best_estimator_.predict(X_test)\n",
    "\n",
    "figure, axes = plt.subplots(ncols=2)\n",
    "figure.set_size_inches(10, 4)\n",
    "\n",
    "sns.histplot(y, bins=50, ax=axes[0])\n",
    "axes[0].set_title('Train Data Distribution')\n",
    "sns.histplot(np.exp(randomforest_preds), bins=50, ax=axes[1])\n",
    "axes[1].set_title('Predicted Test Data Distribution');"
   ]
  },
  {
   "cell_type": "code",
   "execution_count": 57,
   "id": "6c80ba20",
   "metadata": {
    "execution": {
     "iopub.execute_input": "2022-07-16T10:18:09.419223Z",
     "iopub.status.busy": "2022-07-16T10:18:09.418510Z",
     "iopub.status.idle": "2022-07-16T10:18:09.447019Z",
     "shell.execute_reply": "2022-07-16T10:18:09.445925Z"
    },
    "papermill": {
     "duration": 0.071094,
     "end_time": "2022-07-16T10:18:09.449685",
     "exception": false,
     "start_time": "2022-07-16T10:18:09.378591",
     "status": "completed"
    },
    "tags": []
   },
   "outputs": [],
   "source": [
    "submission['count'] = np.exp(randomforest_preds)\n",
    "submission.to_csv('second_submission.csv', index=False)"
   ]
  },
  {
   "cell_type": "markdown",
   "id": "d7a8dd39",
   "metadata": {
    "papermill": {
     "duration": 0.037776,
     "end_time": "2022-07-16T10:18:09.526287",
     "exception": false,
     "start_time": "2022-07-16T10:18:09.488511",
     "status": "completed"
    },
    "tags": []
   },
   "source": []
  }
 ],
 "metadata": {
  "kernelspec": {
   "display_name": "Python 3",
   "language": "python",
   "name": "python3"
  },
  "language_info": {
   "codemirror_mode": {
    "name": "ipython",
    "version": 3
   },
   "file_extension": ".py",
   "mimetype": "text/x-python",
   "name": "python",
   "nbconvert_exporter": "python",
   "pygments_lexer": "ipython3",
   "version": "3.7.12"
  },
  "papermill": {
   "default_parameters": {},
   "duration": 112.958329,
   "end_time": "2022-07-16T10:18:10.788112",
   "environment_variables": {},
   "exception": null,
   "input_path": "__notebook__.ipynb",
   "output_path": "__notebook__.ipynb",
   "parameters": {},
   "start_time": "2022-07-16T10:16:17.829783",
   "version": "2.3.4"
  }
 },
 "nbformat": 4,
 "nbformat_minor": 5
}
