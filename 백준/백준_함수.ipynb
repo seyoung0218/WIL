{
  "nbformat": 4,
  "nbformat_minor": 0,
  "metadata": {
    "colab": {
      "provenance": [],
      "collapsed_sections": []
    },
    "kernelspec": {
      "name": "python3",
      "display_name": "Python 3"
    },
    "language_info": {
      "name": "python"
    }
  },
  "cells": [
    {
      "cell_type": "code",
      "execution_count": null,
      "metadata": {
        "colab": {
          "base_uri": "https://localhost:8080/"
        },
        "id": "We4vOCB2-pMX",
        "outputId": "ef5013fc-3c2d-4e16-8b9d-e7651f587ee2"
      },
      "outputs": [
        {
          "output_type": "execute_result",
          "data": {
            "text/plain": [
              "6"
            ]
          },
          "metadata": {},
          "execution_count": 1
        }
      ],
      "source": [
        "# 정수 N개의 합\n",
        "def solve(a):\n",
        "    answer = sum(a)\n",
        "    return answer"
      ]
    },
    {
      "cell_type": "code",
      "source": [
        "# 셀프 넘버\n",
        "num = set(range(1,10001))\n",
        "generated_num = set()\n",
        "for i in range(1,10001):\n",
        "    for j in str(i):\n",
        "        i += int(j)\n",
        "    generated_num.add(i)\n",
        "selfnum = sorted(num - generated_num)\n",
        "for i in selfnum:\n",
        "    print(i)"
      ],
      "metadata": {
        "id": "cqi81loY_-3r"
      },
      "execution_count": null,
      "outputs": []
    },
    {
      "cell_type": "code",
      "source": [
        "# 한수\n",
        "N = int(input())\n",
        "hansu = []\n",
        "for i in range(1, N+1):\n",
        "    num = list(map(int,str(i)))\n",
        "    if i < 100:\n",
        "        hansu.append(i)\n",
        "    elif num[0] - num[1] == num[1] - num[2]:\n",
        "        hansu.append(num)\n",
        "\n",
        "print(len(hansu))    "
      ],
      "metadata": {
        "colab": {
          "base_uri": "https://localhost:8080/"
        },
        "id": "OdLMYOn3EG_q",
        "outputId": "f995923c-7e22-4cf3-f671-24e25b82d91f"
      },
      "execution_count": null,
      "outputs": [
        {
          "output_type": "stream",
          "name": "stdout",
          "text": [
            "100\n",
            "99\n"
          ]
        }
      ]
    }
  ]
}