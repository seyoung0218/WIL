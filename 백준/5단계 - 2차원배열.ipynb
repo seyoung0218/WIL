{
  "nbformat": 4,
  "nbformat_minor": 0,
  "metadata": {
    "colab": {
      "provenance": [],
      "collapsed_sections": []
    },
    "kernelspec": {
      "name": "python3",
      "display_name": "Python 3"
    },
    "language_info": {
      "name": "python"
    }
  },
  "cells": [
    {
      "cell_type": "code",
      "execution_count": null,
      "metadata": {
        "id": "UVJzlBATAPal"
      },
      "outputs": [],
      "source": [
        "# 행렬 덧셈\n",
        "# 구글링\n",
        "N, M = map(int, input().split())\n",
        "A = []\n",
        "B = []\n",
        "for row in range(N):\n",
        "    A.append(list(map(int, input().split())))\n",
        "\n",
        "for row in range(N):\n",
        "    B.append(list(map(int, input().split())))\n",
        "\n",
        "for row in range(N):\n",
        "    for col in range(M):\n",
        "        print(A[row][col] + B[row][col], end=' ')\n",
        "    print()"
      ]
    },
    {
      "cell_type": "code",
      "source": [
        "# 최댓값\n",
        "matrix = []\n",
        "for _ in range(9):\n",
        "    matrix.append(list(map(int, input().split())))\n",
        "\n",
        "max_num = -1\n",
        "max_idx = []\n",
        "\n",
        "for row in range(9):\n",
        "    for col in range(9):\n",
        "        if matrix[row][col] > max_num:\n",
        "            max_num = matrix[row][col]\n",
        "            max_idx = [row+1, col+1]\n",
        "        else:\n",
        "            continue\n",
        "\n",
        "print(max_num)\n",
        "print('{} {}'.format(max_idx[0], max_idx[1]))"
      ],
      "metadata": {
        "id": "3FcBZYBFFw0S"
      },
      "execution_count": null,
      "outputs": []
    },
    {
      "cell_type": "code",
      "source": [
        "# 색종이\n",
        "N = int(input())\n",
        "element = []\n",
        "for _ in range(N):\n",
        "    A, B = map(int,input().split())\n",
        "    for a in range(A, A+10):\n",
        "        for b in range(B, B+10):\n",
        "            element.append((a,b))\n",
        "\n",
        "print(len(set(element)))"
      ],
      "metadata": {
        "id": "XEJi3wa5qW48"
      },
      "execution_count": null,
      "outputs": []
    }
  ]
}
