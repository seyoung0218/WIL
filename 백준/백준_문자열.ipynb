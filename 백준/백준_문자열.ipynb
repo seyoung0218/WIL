{
  "nbformat": 4,
  "nbformat_minor": 0,
  "metadata": {
    "colab": {
      "provenance": [],
      "collapsed_sections": []
    },
    "kernelspec": {
      "name": "python3",
      "display_name": "Python 3"
    },
    "language_info": {
      "name": "python"
    }
  },
  "cells": [
    {
      "cell_type": "code",
      "execution_count": null,
      "metadata": {
        "id": "wi_V9cKjHg1o"
      },
      "outputs": [],
      "source": [
        "# 아스키 코드 \n",
        "print(ord(input()))"
      ]
    },
    {
      "cell_type": "code",
      "source": [
        "# 알파벳찾기\n",
        "S = input()\n",
        "alphabet = ['a', 'b', 'c', 'd', 'e', 'f', 'g', 'h', 'i', 'j', 'k', 'l', 'm', 'n',\\\n",
        "            'o', 'p', 'q', 'r', 's', 't', 'u', 'v', 'w', 'x', 'y', 'z']\n",
        "for i in alphabet:\n",
        "  if i in S:\n",
        "    idx = S.find(i)\n",
        "    print(idx,'' , end='')\n",
        "  else:\n",
        "    print(-1,'' , end='')"
      ],
      "metadata": {
        "id": "lomAs4geIy9b"
      },
      "execution_count": null,
      "outputs": []
    },
    {
      "cell_type": "code",
      "source": [
        "# 숫자의 합\n",
        "N = int(input())\n",
        "num = input()\n",
        "sum = 0\n",
        "for i in num:\n",
        "    sum += int(i)\n",
        "\n",
        "print(sum)"
      ],
      "metadata": {
        "id": "S7g7PGpAAOB5"
      },
      "execution_count": null,
      "outputs": []
    },
    {
      "cell_type": "code",
      "source": [
        "# 문자열 반복\n",
        "T = int(input())\n",
        "for _ in range(T):\n",
        "    R, S = map(str, input().split())\n",
        "    R = int(R)\n",
        "    for s in S:\n",
        "        print(s*R, end='')\n",
        "    print()"
      ],
      "metadata": {
        "id": "PV0w0CCkA22o"
      },
      "execution_count": null,
      "outputs": []
    },
    {
      "cell_type": "code",
      "source": [
        "# 단어공부\n",
        "S = input().upper()\n",
        "wordlist = []\n",
        "for s in S:\n",
        "    wordlist.append(s)\n",
        "\n",
        "set_word = list(set(wordlist))\n",
        "\n",
        "cnt = []\n",
        "for w in set_word:\n",
        "    cnt.append(S.count(w))\n",
        "\n",
        "if cnt.count(max(cnt)) > 1:\n",
        "    print('?')\n",
        "else:\n",
        "    idx = cnt.index(max(cnt))\n",
        "    print(set_word[idx])"
      ],
      "metadata": {
        "id": "tYlX-jN_yXep"
      },
      "execution_count": null,
      "outputs": []
    },
    {
      "cell_type": "code",
      "source": [
        "# 단어의 개수\n",
        "sentence = input().split()\n",
        "print(len(sentence))"
      ],
      "metadata": {
        "id": "CPJHwSWC1XW5"
      },
      "execution_count": null,
      "outputs": []
    },
    {
      "cell_type": "code",
      "source": [
        "# 상수\n",
        "A, B = input().split()\n",
        "A = int(A[::-1])\n",
        "B = int(B[::-1])\n",
        "\n",
        "if A > B:\n",
        "    print(A)\n",
        "else:\n",
        "    print(B)"
      ],
      "metadata": {
        "id": "BlOj_fF1I1t-"
      },
      "execution_count": null,
      "outputs": []
    },
    {
      "cell_type": "code",
      "source": [
        "# 다이얼\n",
        "num = ['ABC', 'DEF', 'GHI', \"JKL\", 'MNO', 'PQRS', 'TUV', 'WXYZ']\n",
        "time = 0\n",
        "S = input()\n",
        "for s in S:\n",
        "    for n in num:\n",
        "        if s in n:\n",
        "            T=num.index(n)+3\n",
        "            time += T\n",
        "    \n",
        "print(time)"
      ],
      "metadata": {
        "id": "zqQWhR61ZYeg"
      },
      "execution_count": null,
      "outputs": []
    },
    {
      "cell_type": "code",
      "source": [
        "# 크로아티아 알파벳\n",
        "croa = ['c=', 'c-', 'dz=', 'd-', 'lj', 'nj', 's=', 'z=']\n",
        "S = input()\n",
        "for c in croa:\n",
        "    S = S.replace(c, '*')\n",
        "\n",
        "print(len(S))       "
      ],
      "metadata": {
        "id": "Zqk3Fa7TeXcE"
      },
      "execution_count": null,
      "outputs": []
    },
    {
      "cell_type": "code",
      "source": [
        "# 그룹단어체커\n",
        "\n",
        "num = 0\n",
        "for _ in range(int(input())):\n",
        "    word = input()\n",
        "    error = 0\n",
        "    for i in range(len(word)-1):\n",
        "        if word[i] != word[i+1]:\n",
        "            if word[i] in word[i+1:]:\n",
        "                error += 1\n",
        "        else:\n",
        "            continue\n",
        "    \n",
        "    if error == 0:\n",
        "        num += 1\n",
        "\n",
        "print(num)"
      ],
      "metadata": {
        "id": "hp3m6VWqQ2hT"
      },
      "execution_count": null,
      "outputs": []
    }
  ]
}