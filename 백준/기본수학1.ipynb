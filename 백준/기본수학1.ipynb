{
  "nbformat": 4,
  "nbformat_minor": 0,
  "metadata": {
    "colab": {
      "provenance": [],
      "collapsed_sections": []
    },
    "kernelspec": {
      "name": "python3",
      "display_name": "Python 3"
    },
    "language_info": {
      "name": "python"
    },
    "gpuClass": "premium"
  },
  "cells": [
    {
      "cell_type": "code",
      "execution_count": null,
      "metadata": {
        "id": "3xk0ISxr4r1Z"
      },
      "outputs": [],
      "source": [
        "# 손익분기점\n",
        "a, b, c = map(int, input().split())\n",
        "\n",
        "if (b-c) < 0:\n",
        "  print(a//(c-b) + 1) \n",
        "else:\n",
        "  print(-1)"
      ]
    },
    {
      "cell_type": "code",
      "source": [
        "# 벌집\n",
        "N = int(input())\n",
        "layer = 1\n",
        "n = 1\n",
        "while N > n :\n",
        "    n += 6*layer\n",
        "    layer += 1\n",
        "\n",
        "print(layer)    "
      ],
      "metadata": {
        "id": "c48LIVAh2ijm"
      },
      "execution_count": null,
      "outputs": []
    },
    {
      "cell_type": "code",
      "source": [
        "# 분수찾기\n",
        "X = int(input())\n",
        "cnt = 1\n",
        "\n",
        "while X > cnt:\n",
        "    X -= cnt \n",
        "    cnt +=1 \n",
        "\n",
        "if cnt % 2 == 0:\n",
        "    a = X\n",
        "    b = cnt + 1 - X\n",
        "else:\n",
        "    a = cnt + 1 - X\n",
        "    b = X\n",
        "\n",
        "print('{}/{}'.format(a,b))"
      ],
      "metadata": {
        "id": "gsZ2S3Dv4Nyu"
      },
      "execution_count": null,
      "outputs": []
    },
    {
      "cell_type": "code",
      "source": [
        "# 달팽이는 올라가고 싶다\n",
        "a,b,v = map(int,input().split())\n",
        "day = (v-b)/(a-b)\n",
        "print(int(day) if day == int(day) else int(day)+1)"
      ],
      "metadata": {
        "id": "sKBpWEUoDbNV"
      },
      "execution_count": null,
      "outputs": []
    },
    {
      "cell_type": "code",
      "source": [
        "# ACM 호텔\n",
        "# 내가 쓴 코드\n",
        "T = int(input())\n",
        "\n",
        "for _ in range(T):\n",
        "    H, W, N = map(int, input().split())\n",
        "    if H >= N:\n",
        "        n = int(str(N) + '01')\n",
        "        print(n)\n",
        "    elif N % H == 0 :\n",
        "        h = H\n",
        "        w = N//H    \n",
        "        n = int(str(h) + '{:02d}'.format(w))\n",
        "        print(n)\n",
        "    else:\n",
        "        h = N % H \n",
        "        w = N // H + 1\n",
        "        n = int(str(h) + '{:02d}'.format(w))\n",
        "        print(n)\n",
        "\n",
        "# 구글링\n",
        "t = int(input())\n",
        "\n",
        "for i in range(t):\n",
        "    h, w, n = map(int, input().split())\n",
        "    num = n//h + 1\n",
        "    floor = n % h\n",
        "    if n % h == 0:  # h의 배수이면,\n",
        "        num = n//h\n",
        "        floor = h\n",
        "    print(f'{floor*100+num}')\n"
      ],
      "metadata": {
        "id": "K7iQYqEwIU-c"
      },
      "execution_count": null,
      "outputs": []
    },
    {
      "cell_type": "code",
      "source": [
        "# 부녀회장이 될테야\n",
        "t = int(input())\n",
        "\n",
        "for _ in range(t):\n",
        "    floor = int(input())\n",
        "    num = int(input())\n",
        "    f0 = [x for x in range(1, num+1)]\n",
        "    for k in range(floor):\n",
        "        for i in range(1, num):\n",
        "            f0[i] += f0[i-1]\n",
        "        print(f0)  # 프린트문을 추가\n",
        "    print(f0[-1])"
      ],
      "metadata": {
        "id": "k8nQ1xn44jXo"
      },
      "execution_count": null,
      "outputs": []
    },
    {
      "cell_type": "code",
      "source": [
        "# 설탕 배달\n",
        "N = int(input())\n",
        "num_list = []\n",
        "for a in range(N//5 + 1):\n",
        "    for b in range(N//3 + 1):\n",
        "        if 5*a + 3*b == N:\n",
        "            num_list.append(a+b)\n",
        "\n",
        "if num_list == []:\n",
        "    print(-1)\n",
        "else:\n",
        "    print(min(num_list))"
      ],
      "metadata": {
        "id": "3sBJDwGN6gen"
      },
      "execution_count": null,
      "outputs": []
    },
    {
      "cell_type": "code",
      "source": [
        "# 큰 수 A+B\n",
        "a, b = map(int, input().split())\n",
        "print(a+b)"
      ],
      "metadata": {
        "id": "n_4zyGf3gW4G"
      },
      "execution_count": null,
      "outputs": []
    }
  ]
}