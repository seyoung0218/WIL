{
  "nbformat": 4,
  "nbformat_minor": 0,
  "metadata": {
    "colab": {
      "provenance": [],
      "collapsed_sections": []
    },
    "kernelspec": {
      "name": "python3",
      "display_name": "Python 3"
    },
    "language_info": {
      "name": "python"
    }
  },
  "cells": [
    {
      "cell_type": "code",
      "source": [
        "# 구구단\n",
        "N = int(input())\n",
        "for i in range(1,10):\n",
        "    print('{} * {} = {}'.format(N, i, N*i))"
      ],
      "metadata": {
        "id": "DtK4cPFhosyd"
      },
      "execution_count": null,
      "outputs": []
    },
    {
      "cell_type": "code",
      "source": [
        "# 영수증\n",
        "X = int(input())\n",
        "N = int(input())\n",
        "sum = 0\n",
        "for i in range(N):\n",
        "    a, b = map(int, input().split())\n",
        "    sum += a*b\n",
        "if sum==X:\n",
        "    print('Yes')\n",
        "else:\n",
        "    print('No')"
      ],
      "metadata": {
        "id": "uot_ZV3do6mR"
      },
      "execution_count": null,
      "outputs": []
    },
    {
      "cell_type": "code",
      "source": [
        "# 합\n",
        "n = int(input())\n",
        "\n",
        "S=0\n",
        "for i in range(1,n+1):\n",
        "    S += i\n",
        "\n",
        "print(S)"
      ],
      "metadata": {
        "id": "0wRG2UVupG4M"
      },
      "execution_count": null,
      "outputs": []
    },
    {
      "cell_type": "code",
      "execution_count": null,
      "metadata": {
        "id": "krR0D5BGzsWq"
      },
      "outputs": [],
      "source": [
        "# A+B-8\n",
        "T = int(input())\n",
        "for i in range(1,T+1):\n",
        "    A, B = map(int, input().split())\n",
        "    print('Case #{}: {} + {} = {}'.format(i,A,B,A+B))"
      ]
    },
    {
      "cell_type": "code",
      "source": [
        "# 별찍기-1\n",
        "N = int(input())\n",
        "for i in range(1,N+1):\n",
        "    print('*'*i)"
      ],
      "metadata": {
        "id": "xAeCJv100aeP"
      },
      "execution_count": null,
      "outputs": []
    },
    {
      "cell_type": "code",
      "source": [
        "# 별찍기-2\n",
        "N = int(input())\n",
        "for i in range(1,N+1):\n",
        "    print('{0:>{1}s}'.format(('*'*i),N))"
      ],
      "metadata": {
        "id": "i8yoUkrx2Eue"
      },
      "execution_count": null,
      "outputs": []
    },
    {
      "cell_type": "code",
      "source": [
        "# X보다 작은 수\n",
        "N, X = map(int, input().split())\n",
        "A = list(map(int, input().split()))\n",
        "for i in range(N):\n",
        "    if A[i] < X:\n",
        "        print(A[i], end=' ') "
      ],
      "metadata": {
        "id": "tukDliLb_Vcs"
      },
      "execution_count": null,
      "outputs": []
    },
    {
      "cell_type": "code",
      "source": [
        "# A+B-5\n",
        "while True: \n",
        "    A, B = map(int, input().split())\n",
        "    if A == 0 and B == 0:\n",
        "        break\n",
        "    else:\n",
        "        print(A+B)"
      ],
      "metadata": {
        "id": "oWvv_lQlCINB"
      },
      "execution_count": null,
      "outputs": []
    },
    {
      "cell_type": "code",
      "source": [
        "# A+B - 4\n",
        "while True:\n",
        "    try:\n",
        "        A, B = map(int, input().split())\n",
        "        print(A+B)\n",
        "    except:\n",
        "        break "
      ],
      "metadata": {
        "id": "B0vBI_5_6oSk"
      },
      "execution_count": null,
      "outputs": []
    },
    {
      "cell_type": "code",
      "source": [
        "# 더하기 사이클\n",
        "N = int(input())\n",
        "new_N = N\n",
        "cycle = 0\n",
        "\n",
        "while True:\n",
        "    N_10 = new_N // 10\n",
        "    N_1 = new_N % 10\n",
        "    m = N_10 + N_1\n",
        "    new_N = 10*N_1 + m % 10\n",
        "    cycle += 1\n",
        "    if new_N == N:\n",
        "        print(cycle)\n",
        "        break\n"
      ],
      "metadata": {
        "id": "FV3KyVZL7pwb"
      },
      "execution_count": null,
      "outputs": []
    }
  ]
}