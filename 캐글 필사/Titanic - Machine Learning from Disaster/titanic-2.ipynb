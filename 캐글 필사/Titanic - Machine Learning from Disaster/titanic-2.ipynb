{
 "cells": [
  {
   "cell_type": "code",
   "execution_count": 1,
   "id": "19702462",
   "metadata": {
    "execution": {
     "iopub.execute_input": "2022-07-07T06:00:17.768080Z",
     "iopub.status.busy": "2022-07-07T06:00:17.767562Z",
     "iopub.status.idle": "2022-07-07T06:00:18.960674Z",
     "shell.execute_reply": "2022-07-07T06:00:18.959703Z"
    },
    "papermill": {
     "duration": 1.215846,
     "end_time": "2022-07-07T06:00:18.962949",
     "exception": false,
     "start_time": "2022-07-07T06:00:17.747103",
     "status": "completed"
    },
    "tags": []
   },
   "outputs": [
    {
     "data": {
      "text/html": [
       "        <script type=\"text/javascript\">\n",
       "        window.PlotlyConfig = {MathJaxConfig: 'local'};\n",
       "        if (window.MathJax && window.MathJax.Hub && window.MathJax.Hub.Config) {window.MathJax.Hub.Config({SVG: {font: \"STIX-Web\"}});}\n",
       "        if (typeof require !== 'undefined') {\n",
       "        require.undef(\"plotly\");\n",
       "        requirejs.config({\n",
       "            paths: {\n",
       "                'plotly': ['https://cdn.plot.ly/plotly-2.12.1.min']\n",
       "            }\n",
       "        });\n",
       "        require(['plotly'], function(Plotly) {\n",
       "            window._Plotly = Plotly;\n",
       "        });\n",
       "        }\n",
       "        </script>\n",
       "        "
      ]
     },
     "metadata": {},
     "output_type": "display_data"
    }
   ],
   "source": [
    "#기본설정\n",
    "\n",
    "import numpy as np\n",
    "import pandas as pd\n",
    "from pandas import Series  # Series()를 사용하면 인덱스와 값을 동시에 확인할수있고 각각 뽑아낼수도있다.\n",
    "import matplotlib.pyplot as plt\n",
    "import seaborn as sns\n",
    "\n",
    "plt.style.use('seaborn')\n",
    "sns.set(font_scale=2.5)\n",
    "\n",
    "# 플로틀리 : 과학 그래프 라이브러리 뿐만 아니라 개인 및 협업을 위한 온라인 그래프, 분석 및 통계 툴도 제공하고 있다고 합니다\n",
    "# 플로틀리 오프라인을 사용하면 오프라인으로 그래프를 생성하고 로컬에 저장할수있습니다.\n",
    "import plotly.offline as py\n",
    "py.init_notebook_mode(connected=True) # 주피터노트북에서 오프라인으로 플로팅하기위해 실행해주어야함\n",
    "import plotly.graph_objs as go \n",
    "import plotly.tools as tls\n",
    "import warnings\n",
    "warnings.filterwarnings('ignore')\n",
    "%matplotlib inline\n",
    "\n",
    "df_train = pd.read_csv('../input/titanic/train.csv')\n",
    "df_test = pd.read_csv('../input/titanic/test.csv')\n",
    "df_train['FamilySize'] = df_train['SibSp'] + df_train['Parch'] + 1\n",
    "df_test['FamilySize'] = df_test['SibSp'] + df_test['Parch'] + 1\n",
    "df_test.loc[df_test.Fare.isnull(), 'Fare'] = df_test['Fare'].mean()\n",
    "df_train['Fare'] = df_train['Fare'].map(lambda i: np.log(i) if i > 0 else 0)\n",
    "df_test['Fare'] = df_test['Fare'].map(lambda i: np.log(i) if i > 0 else 0)"
   ]
  },
  {
   "cell_type": "markdown",
   "id": "6664cba3",
   "metadata": {
    "papermill": {
     "duration": 0.01023,
     "end_time": "2022-07-07T06:00:18.984110",
     "exception": false,
     "start_time": "2022-07-07T06:00:18.973880",
     "status": "completed"
    },
    "tags": []
   },
   "source": [
    "# 3. Feature engineering\n",
    "- 본격적인 feature engineering을 시작해보겠습니다.\n",
    "- 가장먼저, dataset에 존재하는 null data를 채우려고 합니다.\n",
    "- 아무 숫자로 채울수는 없고, null data를 포함하는 feature의 statistics를 참고하거나, 다른 아이디어를 짜내어 채울 수 있습니다.\n",
    "- null data를 어떻게 채우느냐에 따라 모델의 성능이 좌지우지될 수 있기때문에, 신경써줘야할 부분입니다.\n",
    "- Feature engineering은 실제 모델의 학습에 쓰려고 하는것이므로, train뿐만아니라 test도 똑같이 적용해주어야합니다. 잊지맙시다.\n",
    "\n",
    "# 3.1 Fill Null\n",
    "## 3.1.1 Fill Null in Age using title\n",
    "- Age에는 null data가 177개나 있습니다. 이를 채울수있는 여러아이디어가 있을 것인데, 여기서 우리는 title + statistics를 사용해 보겠습니다.\n",
    "- 영어에서는 Miss, Mrr, Mrs같은 title이 존재합니다. 각 탑승객의 이름에는 꼭 이런 title이 들어가게 되는데 이를 사용해보겠습니다.\n",
    "- pandas series에는 data를 string으로 바꿔주는 strmethod, 거기에 정규표현식을 적용하게해주는 extract method각 있습니다. 이를 사용하여 title을 쉽게 추출할 수 있습니다. title을 Initial column에 저장하겠습니다."
   ]
  },
  {
   "cell_type": "code",
   "execution_count": 2,
   "id": "73bef78d",
   "metadata": {
    "execution": {
     "iopub.execute_input": "2022-07-07T06:00:19.007321Z",
     "iopub.status.busy": "2022-07-07T06:00:19.006719Z",
     "iopub.status.idle": "2022-07-07T06:00:19.020805Z",
     "shell.execute_reply": "2022-07-07T06:00:19.019938Z"
    },
    "papermill": {
     "duration": 0.028205,
     "end_time": "2022-07-07T06:00:19.022892",
     "exception": false,
     "start_time": "2022-07-07T06:00:18.994687",
     "status": "completed"
    },
    "tags": []
   },
   "outputs": [],
   "source": [
    "df_train['Initial'] = df_train.Name.str.extract('([A-Za-z]+)\\.') \n",
    "df_test['Initial'] = df_test.Name.str.extract('([A-Za-z]+)\\.')\n",
    "# str.extract : 특정한 규칙을 가진 문자열을 검색하거나 치환하기위해서 사용\n",
    "#  (' ([a-zA-Z]+).') : 띄어쓰기로 시작해 모든 알파벳이 포함된 문자열을 한 번이상 반복하다가 dot(.)으로 마무리하는 문자열이다."
   ]
  },
  {
   "cell_type": "markdown",
   "id": "87a38e02",
   "metadata": {
    "papermill": {
     "duration": 0.01145,
     "end_time": "2022-07-07T06:00:19.045488",
     "exception": false,
     "start_time": "2022-07-07T06:00:19.034038",
     "status": "completed"
    },
    "tags": []
   },
   "source": [
    "- pandas 의 crosstab을 이용하여 우리가 추출한 Initial 과 Sex간의 Count를 살펴봅시다."
   ]
  },
  {
   "cell_type": "code",
   "execution_count": 3,
   "id": "d321a7fa",
   "metadata": {
    "execution": {
     "iopub.execute_input": "2022-07-07T06:00:19.068921Z",
     "iopub.status.busy": "2022-07-07T06:00:19.068250Z",
     "iopub.status.idle": "2022-07-07T06:00:19.203155Z",
     "shell.execute_reply": "2022-07-07T06:00:19.201416Z"
    },
    "papermill": {
     "duration": 0.149753,
     "end_time": "2022-07-07T06:00:19.205952",
     "exception": false,
     "start_time": "2022-07-07T06:00:19.056199",
     "status": "completed"
    },
    "tags": []
   },
   "outputs": [
    {
     "data": {
      "text/html": [
       "<style type=\"text/css\">\n",
       "#T_df81a_row0_col0, #T_df81a_row0_col1, #T_df81a_row0_col3, #T_df81a_row0_col4, #T_df81a_row0_col5, #T_df81a_row0_col7, #T_df81a_row0_col8, #T_df81a_row0_col12, #T_df81a_row0_col15, #T_df81a_row0_col16, #T_df81a_row1_col2, #T_df81a_row1_col6, #T_df81a_row1_col9, #T_df81a_row1_col10, #T_df81a_row1_col11, #T_df81a_row1_col13, #T_df81a_row1_col14 {\n",
       "  background-color: #ffff66;\n",
       "  color: #000000;\n",
       "}\n",
       "#T_df81a_row0_col2, #T_df81a_row0_col6, #T_df81a_row0_col9, #T_df81a_row0_col10, #T_df81a_row0_col11, #T_df81a_row0_col13, #T_df81a_row0_col14, #T_df81a_row1_col0, #T_df81a_row1_col1, #T_df81a_row1_col3, #T_df81a_row1_col4, #T_df81a_row1_col5, #T_df81a_row1_col7, #T_df81a_row1_col8, #T_df81a_row1_col12, #T_df81a_row1_col15, #T_df81a_row1_col16 {\n",
       "  background-color: #008066;\n",
       "  color: #f1f1f1;\n",
       "}\n",
       "</style>\n",
       "<table id=\"T_df81a_\">\n",
       "  <thead>\n",
       "    <tr>\n",
       "      <th class=\"index_name level0\" >Initial</th>\n",
       "      <th class=\"col_heading level0 col0\" >Capt</th>\n",
       "      <th class=\"col_heading level0 col1\" >Col</th>\n",
       "      <th class=\"col_heading level0 col2\" >Countess</th>\n",
       "      <th class=\"col_heading level0 col3\" >Don</th>\n",
       "      <th class=\"col_heading level0 col4\" >Dr</th>\n",
       "      <th class=\"col_heading level0 col5\" >Jonkheer</th>\n",
       "      <th class=\"col_heading level0 col6\" >Lady</th>\n",
       "      <th class=\"col_heading level0 col7\" >Major</th>\n",
       "      <th class=\"col_heading level0 col8\" >Master</th>\n",
       "      <th class=\"col_heading level0 col9\" >Miss</th>\n",
       "      <th class=\"col_heading level0 col10\" >Mlle</th>\n",
       "      <th class=\"col_heading level0 col11\" >Mme</th>\n",
       "      <th class=\"col_heading level0 col12\" >Mr</th>\n",
       "      <th class=\"col_heading level0 col13\" >Mrs</th>\n",
       "      <th class=\"col_heading level0 col14\" >Ms</th>\n",
       "      <th class=\"col_heading level0 col15\" >Rev</th>\n",
       "      <th class=\"col_heading level0 col16\" >Sir</th>\n",
       "    </tr>\n",
       "    <tr>\n",
       "      <th class=\"index_name level0\" >Sex</th>\n",
       "      <th class=\"blank col0\" >&nbsp;</th>\n",
       "      <th class=\"blank col1\" >&nbsp;</th>\n",
       "      <th class=\"blank col2\" >&nbsp;</th>\n",
       "      <th class=\"blank col3\" >&nbsp;</th>\n",
       "      <th class=\"blank col4\" >&nbsp;</th>\n",
       "      <th class=\"blank col5\" >&nbsp;</th>\n",
       "      <th class=\"blank col6\" >&nbsp;</th>\n",
       "      <th class=\"blank col7\" >&nbsp;</th>\n",
       "      <th class=\"blank col8\" >&nbsp;</th>\n",
       "      <th class=\"blank col9\" >&nbsp;</th>\n",
       "      <th class=\"blank col10\" >&nbsp;</th>\n",
       "      <th class=\"blank col11\" >&nbsp;</th>\n",
       "      <th class=\"blank col12\" >&nbsp;</th>\n",
       "      <th class=\"blank col13\" >&nbsp;</th>\n",
       "      <th class=\"blank col14\" >&nbsp;</th>\n",
       "      <th class=\"blank col15\" >&nbsp;</th>\n",
       "      <th class=\"blank col16\" >&nbsp;</th>\n",
       "    </tr>\n",
       "  </thead>\n",
       "  <tbody>\n",
       "    <tr>\n",
       "      <th id=\"T_df81a_level0_row0\" class=\"row_heading level0 row0\" >female</th>\n",
       "      <td id=\"T_df81a_row0_col0\" class=\"data row0 col0\" >0</td>\n",
       "      <td id=\"T_df81a_row0_col1\" class=\"data row0 col1\" >0</td>\n",
       "      <td id=\"T_df81a_row0_col2\" class=\"data row0 col2\" >1</td>\n",
       "      <td id=\"T_df81a_row0_col3\" class=\"data row0 col3\" >0</td>\n",
       "      <td id=\"T_df81a_row0_col4\" class=\"data row0 col4\" >1</td>\n",
       "      <td id=\"T_df81a_row0_col5\" class=\"data row0 col5\" >0</td>\n",
       "      <td id=\"T_df81a_row0_col6\" class=\"data row0 col6\" >1</td>\n",
       "      <td id=\"T_df81a_row0_col7\" class=\"data row0 col7\" >0</td>\n",
       "      <td id=\"T_df81a_row0_col8\" class=\"data row0 col8\" >0</td>\n",
       "      <td id=\"T_df81a_row0_col9\" class=\"data row0 col9\" >182</td>\n",
       "      <td id=\"T_df81a_row0_col10\" class=\"data row0 col10\" >2</td>\n",
       "      <td id=\"T_df81a_row0_col11\" class=\"data row0 col11\" >1</td>\n",
       "      <td id=\"T_df81a_row0_col12\" class=\"data row0 col12\" >0</td>\n",
       "      <td id=\"T_df81a_row0_col13\" class=\"data row0 col13\" >125</td>\n",
       "      <td id=\"T_df81a_row0_col14\" class=\"data row0 col14\" >1</td>\n",
       "      <td id=\"T_df81a_row0_col15\" class=\"data row0 col15\" >0</td>\n",
       "      <td id=\"T_df81a_row0_col16\" class=\"data row0 col16\" >0</td>\n",
       "    </tr>\n",
       "    <tr>\n",
       "      <th id=\"T_df81a_level0_row1\" class=\"row_heading level0 row1\" >male</th>\n",
       "      <td id=\"T_df81a_row1_col0\" class=\"data row1 col0\" >1</td>\n",
       "      <td id=\"T_df81a_row1_col1\" class=\"data row1 col1\" >2</td>\n",
       "      <td id=\"T_df81a_row1_col2\" class=\"data row1 col2\" >0</td>\n",
       "      <td id=\"T_df81a_row1_col3\" class=\"data row1 col3\" >1</td>\n",
       "      <td id=\"T_df81a_row1_col4\" class=\"data row1 col4\" >6</td>\n",
       "      <td id=\"T_df81a_row1_col5\" class=\"data row1 col5\" >1</td>\n",
       "      <td id=\"T_df81a_row1_col6\" class=\"data row1 col6\" >0</td>\n",
       "      <td id=\"T_df81a_row1_col7\" class=\"data row1 col7\" >2</td>\n",
       "      <td id=\"T_df81a_row1_col8\" class=\"data row1 col8\" >40</td>\n",
       "      <td id=\"T_df81a_row1_col9\" class=\"data row1 col9\" >0</td>\n",
       "      <td id=\"T_df81a_row1_col10\" class=\"data row1 col10\" >0</td>\n",
       "      <td id=\"T_df81a_row1_col11\" class=\"data row1 col11\" >0</td>\n",
       "      <td id=\"T_df81a_row1_col12\" class=\"data row1 col12\" >517</td>\n",
       "      <td id=\"T_df81a_row1_col13\" class=\"data row1 col13\" >0</td>\n",
       "      <td id=\"T_df81a_row1_col14\" class=\"data row1 col14\" >0</td>\n",
       "      <td id=\"T_df81a_row1_col15\" class=\"data row1 col15\" >6</td>\n",
       "      <td id=\"T_df81a_row1_col16\" class=\"data row1 col16\" >1</td>\n",
       "    </tr>\n",
       "  </tbody>\n",
       "</table>\n"
      ],
      "text/plain": [
       "<pandas.io.formats.style.Styler at 0x7f54aef15f50>"
      ]
     },
     "execution_count": 3,
     "metadata": {},
     "output_type": "execute_result"
    }
   ],
   "source": [
    "pd.crosstab(df_train['Initial'], df_train['Sex']).T.style.background_gradient(cmap='summer_r')"
   ]
  },
  {
   "cell_type": "markdown",
   "id": "35d146de",
   "metadata": {
    "papermill": {
     "duration": 0.011096,
     "end_time": "2022-07-07T06:00:19.228992",
     "exception": false,
     "start_time": "2022-07-07T06:00:19.217896",
     "status": "completed"
    },
    "tags": []
   },
   "source": [
    "- 위table을 참고하여, 남자, 여자가 쓰는 initial을 구분해 보겠습니다. replace메소드를 사용하면, 특정 데이터값을 원하는 값으로 치환해줍니다."
   ]
  },
  {
   "cell_type": "code",
   "execution_count": 4,
   "id": "cda7b430",
   "metadata": {
    "execution": {
     "iopub.execute_input": "2022-07-07T06:00:19.252894Z",
     "iopub.status.busy": "2022-07-07T06:00:19.252475Z",
     "iopub.status.idle": "2022-07-07T06:00:19.287939Z",
     "shell.execute_reply": "2022-07-07T06:00:19.286643Z"
    },
    "papermill": {
     "duration": 0.05019,
     "end_time": "2022-07-07T06:00:19.290206",
     "exception": false,
     "start_time": "2022-07-07T06:00:19.240016",
     "status": "completed"
    },
    "tags": []
   },
   "outputs": [
    {
     "data": {
      "text/html": [
       "<div>\n",
       "<style scoped>\n",
       "    .dataframe tbody tr th:only-of-type {\n",
       "        vertical-align: middle;\n",
       "    }\n",
       "\n",
       "    .dataframe tbody tr th {\n",
       "        vertical-align: top;\n",
       "    }\n",
       "\n",
       "    .dataframe thead th {\n",
       "        text-align: right;\n",
       "    }\n",
       "</style>\n",
       "<table border=\"1\" class=\"dataframe\">\n",
       "  <thead>\n",
       "    <tr style=\"text-align: right;\">\n",
       "      <th></th>\n",
       "      <th>PassengerId</th>\n",
       "      <th>Survived</th>\n",
       "      <th>Pclass</th>\n",
       "      <th>Age</th>\n",
       "      <th>SibSp</th>\n",
       "      <th>Parch</th>\n",
       "      <th>Fare</th>\n",
       "      <th>FamilySize</th>\n",
       "    </tr>\n",
       "    <tr>\n",
       "      <th>Initial</th>\n",
       "      <th></th>\n",
       "      <th></th>\n",
       "      <th></th>\n",
       "      <th></th>\n",
       "      <th></th>\n",
       "      <th></th>\n",
       "      <th></th>\n",
       "      <th></th>\n",
       "    </tr>\n",
       "  </thead>\n",
       "  <tbody>\n",
       "    <tr>\n",
       "      <th>Master</th>\n",
       "      <td>414.975000</td>\n",
       "      <td>0.575000</td>\n",
       "      <td>2.625000</td>\n",
       "      <td>4.574167</td>\n",
       "      <td>2.300000</td>\n",
       "      <td>1.375000</td>\n",
       "      <td>3.340710</td>\n",
       "      <td>4.675000</td>\n",
       "    </tr>\n",
       "    <tr>\n",
       "      <th>Miss</th>\n",
       "      <td>411.741935</td>\n",
       "      <td>0.704301</td>\n",
       "      <td>2.284946</td>\n",
       "      <td>21.860000</td>\n",
       "      <td>0.698925</td>\n",
       "      <td>0.537634</td>\n",
       "      <td>3.123713</td>\n",
       "      <td>2.236559</td>\n",
       "    </tr>\n",
       "    <tr>\n",
       "      <th>Mr</th>\n",
       "      <td>455.880907</td>\n",
       "      <td>0.162571</td>\n",
       "      <td>2.381853</td>\n",
       "      <td>32.739609</td>\n",
       "      <td>0.293006</td>\n",
       "      <td>0.151229</td>\n",
       "      <td>2.651507</td>\n",
       "      <td>1.444234</td>\n",
       "    </tr>\n",
       "    <tr>\n",
       "      <th>Mrs</th>\n",
       "      <td>456.393701</td>\n",
       "      <td>0.795276</td>\n",
       "      <td>1.984252</td>\n",
       "      <td>35.981818</td>\n",
       "      <td>0.692913</td>\n",
       "      <td>0.818898</td>\n",
       "      <td>3.443751</td>\n",
       "      <td>2.511811</td>\n",
       "    </tr>\n",
       "    <tr>\n",
       "      <th>Other</th>\n",
       "      <td>564.444444</td>\n",
       "      <td>0.111111</td>\n",
       "      <td>1.666667</td>\n",
       "      <td>45.888889</td>\n",
       "      <td>0.111111</td>\n",
       "      <td>0.111111</td>\n",
       "      <td>2.641605</td>\n",
       "      <td>1.222222</td>\n",
       "    </tr>\n",
       "  </tbody>\n",
       "</table>\n",
       "</div>"
      ],
      "text/plain": [
       "         PassengerId  Survived    Pclass        Age     SibSp     Parch  \\\n",
       "Initial                                                                   \n",
       "Master    414.975000  0.575000  2.625000   4.574167  2.300000  1.375000   \n",
       "Miss      411.741935  0.704301  2.284946  21.860000  0.698925  0.537634   \n",
       "Mr        455.880907  0.162571  2.381853  32.739609  0.293006  0.151229   \n",
       "Mrs       456.393701  0.795276  1.984252  35.981818  0.692913  0.818898   \n",
       "Other     564.444444  0.111111  1.666667  45.888889  0.111111  0.111111   \n",
       "\n",
       "             Fare  FamilySize  \n",
       "Initial                        \n",
       "Master   3.340710    4.675000  \n",
       "Miss     3.123713    2.236559  \n",
       "Mr       2.651507    1.444234  \n",
       "Mrs      3.443751    2.511811  \n",
       "Other    2.641605    1.222222  "
      ]
     },
     "execution_count": 4,
     "metadata": {},
     "output_type": "execute_result"
    }
   ],
   "source": [
    "df_train['Initial'].replace(['Mlle','Mme','Ms','Dr','Major','Lady','Countess','Jonkheer','Col','Rev','Capt','Sir','Don', 'Dona'],\n",
    "['Miss','Miss','Miss','Mr','Mr','Mrs','Mrs','Other','Other','Other','Mr','Mr','Mr', 'Mr'],inplace=True)\n",
    "df_test['Initial'].replace(['Mlle','Mme','Ms','Dr','Major','Lady','Countess','Jonkheer','Col','Rev','Capt','Sir','Don', 'Dona'],\n",
    "['Miss','Miss','Miss','Mr','Mr','Mrs','Mrs','Other','Other','Other','Mr','Mr','Mr', 'Mr'],inplace=True)\n",
    "# inplace=True를 해주면 원본데이터도 변경이된다.\n",
    "df_train.groupby('Initial').mean()"
   ]
  },
  {
   "cell_type": "markdown",
   "id": "9ac87294",
   "metadata": {
    "papermill": {
     "duration": 0.018057,
     "end_time": "2022-07-07T06:00:19.326914",
     "exception": false,
     "start_time": "2022-07-07T06:00:19.308857",
     "status": "completed"
    },
    "tags": []
   },
   "source": [
    "- 여성과 관계있는 Miss,Mrs가 생존률이 높은 것을 볼 수 있습니다.ㅣ"
   ]
  },
  {
   "cell_type": "code",
   "execution_count": 5,
   "id": "45833c8b",
   "metadata": {
    "execution": {
     "iopub.execute_input": "2022-07-07T06:00:19.366167Z",
     "iopub.status.busy": "2022-07-07T06:00:19.365032Z",
     "iopub.status.idle": "2022-07-07T06:00:19.552661Z",
     "shell.execute_reply": "2022-07-07T06:00:19.551512Z"
    },
    "papermill": {
     "duration": 0.209613,
     "end_time": "2022-07-07T06:00:19.554948",
     "exception": false,
     "start_time": "2022-07-07T06:00:19.345335",
     "status": "completed"
    },
    "tags": []
   },
   "outputs": [
    {
     "data": {
      "text/plain": [
       "<AxesSubplot:xlabel='Initial'>"
      ]
     },
     "execution_count": 5,
     "metadata": {},
     "output_type": "execute_result"
    },
    {
     "data": {
      "image/png": "[encoded data removed]",
      "text/plain": [
       "<Figure size 432x288 with 1 Axes>"
      ]
     },
     "metadata": {
      "needs_background": "light"
     },
     "output_type": "display_data"
    }
   ],
   "source": [
    "df_train.groupby('Initial')['Survived'].mean().plot.bar()"
   ]
  },
  {
   "cell_type": "markdown",
   "id": "f844e1cd",
   "metadata": {
    "papermill": {
     "duration": 0.011451,
     "end_time": "2022-07-07T06:00:19.578282",
     "exception": false,
     "start_time": "2022-07-07T06:00:19.566831",
     "status": "completed"
    },
    "tags": []
   },
   "source": [
    "- 이제 본격적으로 Null을 채울것입니다. null data를 채우는 방법은 정말 많이 존재합니다. statistics를 활용하는 방법도 있고, null data가없는 데이터를 기반으로 새로운 머신러닝 알고리즘을 만들어 예측해서 채워넣는 방식도 있습니다. 여기서는 statistics를 활용하는 방법을 사용할 것입니다.\n",
    "- 여기서 statistics는 train data의 것을 의미합니다. 우리는 언제나 test를 unseen으로 둔 상태로 놔둬야하며, train에서 얻은 statistics를 기반으로 test의 null data를 채워줘야 합니다."
   ]
  },
  {
   "cell_type": "code",
   "execution_count": 6,
   "id": "04048fa2",
   "metadata": {
    "execution": {
     "iopub.execute_input": "2022-07-07T06:00:19.603898Z",
     "iopub.status.busy": "2022-07-07T06:00:19.603409Z",
     "iopub.status.idle": "2022-07-07T06:00:19.623369Z",
     "shell.execute_reply": "2022-07-07T06:00:19.622024Z"
    },
    "papermill": {
     "duration": 0.035343,
     "end_time": "2022-07-07T06:00:19.625391",
     "exception": false,
     "start_time": "2022-07-07T06:00:19.590048",
     "status": "completed"
    },
    "tags": []
   },
   "outputs": [
    {
     "data": {
      "text/html": [
       "<div>\n",
       "<style scoped>\n",
       "    .dataframe tbody tr th:only-of-type {\n",
       "        vertical-align: middle;\n",
       "    }\n",
       "\n",
       "    .dataframe tbody tr th {\n",
       "        vertical-align: top;\n",
       "    }\n",
       "\n",
       "    .dataframe thead th {\n",
       "        text-align: right;\n",
       "    }\n",
       "</style>\n",
       "<table border=\"1\" class=\"dataframe\">\n",
       "  <thead>\n",
       "    <tr style=\"text-align: right;\">\n",
       "      <th></th>\n",
       "      <th>PassengerId</th>\n",
       "      <th>Survived</th>\n",
       "      <th>Pclass</th>\n",
       "      <th>Age</th>\n",
       "      <th>SibSp</th>\n",
       "      <th>Parch</th>\n",
       "      <th>Fare</th>\n",
       "      <th>FamilySize</th>\n",
       "    </tr>\n",
       "    <tr>\n",
       "      <th>Initial</th>\n",
       "      <th></th>\n",
       "      <th></th>\n",
       "      <th></th>\n",
       "      <th></th>\n",
       "      <th></th>\n",
       "      <th></th>\n",
       "      <th></th>\n",
       "      <th></th>\n",
       "    </tr>\n",
       "  </thead>\n",
       "  <tbody>\n",
       "    <tr>\n",
       "      <th>Master</th>\n",
       "      <td>414.975000</td>\n",
       "      <td>0.575000</td>\n",
       "      <td>2.625000</td>\n",
       "      <td>4.574167</td>\n",
       "      <td>2.300000</td>\n",
       "      <td>1.375000</td>\n",
       "      <td>3.340710</td>\n",
       "      <td>4.675000</td>\n",
       "    </tr>\n",
       "    <tr>\n",
       "      <th>Miss</th>\n",
       "      <td>411.741935</td>\n",
       "      <td>0.704301</td>\n",
       "      <td>2.284946</td>\n",
       "      <td>21.860000</td>\n",
       "      <td>0.698925</td>\n",
       "      <td>0.537634</td>\n",
       "      <td>3.123713</td>\n",
       "      <td>2.236559</td>\n",
       "    </tr>\n",
       "    <tr>\n",
       "      <th>Mr</th>\n",
       "      <td>455.880907</td>\n",
       "      <td>0.162571</td>\n",
       "      <td>2.381853</td>\n",
       "      <td>32.739609</td>\n",
       "      <td>0.293006</td>\n",
       "      <td>0.151229</td>\n",
       "      <td>2.651507</td>\n",
       "      <td>1.444234</td>\n",
       "    </tr>\n",
       "    <tr>\n",
       "      <th>Mrs</th>\n",
       "      <td>456.393701</td>\n",
       "      <td>0.795276</td>\n",
       "      <td>1.984252</td>\n",
       "      <td>35.981818</td>\n",
       "      <td>0.692913</td>\n",
       "      <td>0.818898</td>\n",
       "      <td>3.443751</td>\n",
       "      <td>2.511811</td>\n",
       "    </tr>\n",
       "    <tr>\n",
       "      <th>Other</th>\n",
       "      <td>564.444444</td>\n",
       "      <td>0.111111</td>\n",
       "      <td>1.666667</td>\n",
       "      <td>45.888889</td>\n",
       "      <td>0.111111</td>\n",
       "      <td>0.111111</td>\n",
       "      <td>2.641605</td>\n",
       "      <td>1.222222</td>\n",
       "    </tr>\n",
       "  </tbody>\n",
       "</table>\n",
       "</div>"
      ],
      "text/plain": [
       "         PassengerId  Survived    Pclass        Age     SibSp     Parch  \\\n",
       "Initial                                                                   \n",
       "Master    414.975000  0.575000  2.625000   4.574167  2.300000  1.375000   \n",
       "Miss      411.741935  0.704301  2.284946  21.860000  0.698925  0.537634   \n",
       "Mr        455.880907  0.162571  2.381853  32.739609  0.293006  0.151229   \n",
       "Mrs       456.393701  0.795276  1.984252  35.981818  0.692913  0.818898   \n",
       "Other     564.444444  0.111111  1.666667  45.888889  0.111111  0.111111   \n",
       "\n",
       "             Fare  FamilySize  \n",
       "Initial                        \n",
       "Master   3.340710    4.675000  \n",
       "Miss     3.123713    2.236559  \n",
       "Mr       2.651507    1.444234  \n",
       "Mrs      3.443751    2.511811  \n",
       "Other    2.641605    1.222222  "
      ]
     },
     "execution_count": 6,
     "metadata": {},
     "output_type": "execute_result"
    }
   ],
   "source": [
    "df_train.groupby('Initial').mean()"
   ]
  },
  {
   "cell_type": "markdown",
   "id": "ab1a70b4",
   "metadata": {
    "papermill": {
     "duration": 0.011965,
     "end_time": "2022-07-07T06:00:19.649317",
     "exception": false,
     "start_time": "2022-07-07T06:00:19.637352",
     "status": "completed"
    },
    "tags": []
   },
   "source": [
    "- Age의 평균을 이용해 Null value를 채우도록 하겠습니다.\n",
    "- pandas dataframe을 다룰 때에는 boolean array를 이용해 indexing하는 방법이 참으로 편리합니다.\n",
    "- 아래 코드 첫줄을 해석하자면, isnull()이면서 Initialdl Mr인 조건을 만족하는 row(탑승객)의 'Age'의 값을 33으로 치환한다 입니다. \n",
    "- loc + boolean + column을 사용해 값을 치환하는 방법은 자주 쓰이므로 꼭 익숙해집시다.\n"
   ]
  },
  {
   "cell_type": "code",
   "execution_count": 7,
   "id": "0546fe41",
   "metadata": {
    "execution": {
     "iopub.execute_input": "2022-07-07T06:00:19.675673Z",
     "iopub.status.busy": "2022-07-07T06:00:19.674571Z",
     "iopub.status.idle": "2022-07-07T06:00:19.698900Z",
     "shell.execute_reply": "2022-07-07T06:00:19.697633Z"
    },
    "papermill": {
     "duration": 0.04032,
     "end_time": "2022-07-07T06:00:19.701632",
     "exception": false,
     "start_time": "2022-07-07T06:00:19.661312",
     "status": "completed"
    },
    "tags": []
   },
   "outputs": [],
   "source": [
    "df_train.loc[(df_train.Age.isnull())&(df_train.Initial=='Mr'),'Age'] = 33\n",
    "df_train.loc[(df_train.Age.isnull())&(df_train.Initial=='Mrs'),'Age'] = 36\n",
    "df_train.loc[(df_train.Age.isnull())&(df_train.Initial=='Master'),'Age'] = 5\n",
    "df_train.loc[(df_train.Age.isnull())&(df_train.Initial=='Miss'),'Age'] = 22\n",
    "df_train.loc[(df_train.Age.isnull())&(df_train.Initial=='Other'),'Age'] = 46\n",
    "df_test.loc[(df_test.Age.isnull())&(df_test.Initial=='Mr'),'Age'] = 33\n",
    "df_test.loc[(df_test.Age.isnull())&(df_test.Initial=='Mrs'),'Age'] = 36\n",
    "df_test.loc[(df_test.Age.isnull())&(df_test.Initial=='Master'),'Age'] = 5\n",
    "df_test.loc[(df_test.Age.isnull())&(df_test.Initial=='Miss'),'Age'] = 22\n",
    "df_test.loc[(df_test.Age.isnull())&(df_test.Initial=='Other'),'Age'] = 46"
   ]
  },
  {
   "cell_type": "markdown",
   "id": "6ec3f2d0",
   "metadata": {
    "papermill": {
     "duration": 0.018669,
     "end_time": "2022-07-07T06:00:19.739529",
     "exception": false,
     "start_time": "2022-07-07T06:00:19.720860",
     "status": "completed"
    },
    "tags": []
   },
   "source": [
    "- 여기선 간단하게 Null을 채웠지만, 좀 더 다양한 방법을 쓴 예시들이 다른 커널에 존재합니다.\n",
    "- 이 외에도 다른 캐글러들의 커널을 보며 여러 참신한 아이디어를 살펴보세요!\n",
    "\n",
    "## 3.1.2 Fill Null in Embarked"
   ]
  },
  {
   "cell_type": "code",
   "execution_count": 8,
   "id": "e936e260",
   "metadata": {
    "execution": {
     "iopub.execute_input": "2022-07-07T06:00:19.779595Z",
     "iopub.status.busy": "2022-07-07T06:00:19.779189Z",
     "iopub.status.idle": "2022-07-07T06:00:19.785244Z",
     "shell.execute_reply": "2022-07-07T06:00:19.784092Z"
    },
    "papermill": {
     "duration": 0.029337,
     "end_time": "2022-07-07T06:00:19.787735",
     "exception": false,
     "start_time": "2022-07-07T06:00:19.758398",
     "status": "completed"
    },
    "tags": []
   },
   "outputs": [
    {
     "name": "stdout",
     "output_type": "stream",
     "text": [
      "Embarked has 2  Null values\n"
     ]
    }
   ],
   "source": [
    "print('Embarked has', sum(df_train['Embarked'].isnull()), ' Null values')"
   ]
  },
  {
   "cell_type": "markdown",
   "id": "3866df1b",
   "metadata": {
    "papermill": {
     "duration": 0.019396,
     "end_time": "2022-07-07T06:00:19.828346",
     "exception": false,
     "start_time": "2022-07-07T06:00:19.808950",
     "status": "completed"
    },
    "tags": []
   },
   "source": [
    "- Embarked는 Null value가 2개이고, S에서 가장 많은 탑승객이 있었으므로, 간단하게 Null을 S로 채우겠습니다.\n",
    "- dataframe의 fillna method를 이용하면 쉽게 채울 수 있습니다. 여기 inplace=True로 하면 df_train에 fillna를 실제로 적용하게 됩니다."
   ]
  },
  {
   "cell_type": "code",
   "execution_count": 9,
   "id": "00584d46",
   "metadata": {
    "execution": {
     "iopub.execute_input": "2022-07-07T06:00:19.869728Z",
     "iopub.status.busy": "2022-07-07T06:00:19.868735Z",
     "iopub.status.idle": "2022-07-07T06:00:19.874504Z",
     "shell.execute_reply": "2022-07-07T06:00:19.873597Z"
    },
    "papermill": {
     "duration": 0.028859,
     "end_time": "2022-07-07T06:00:19.876708",
     "exception": false,
     "start_time": "2022-07-07T06:00:19.847849",
     "status": "completed"
    },
    "tags": []
   },
   "outputs": [],
   "source": [
    "df_train['Embarked'].fillna('S', inplace=True)"
   ]
  },
  {
   "cell_type": "markdown",
   "id": "1a58eecc",
   "metadata": {
    "papermill": {
     "duration": 0.019615,
     "end_time": "2022-07-07T06:00:19.916628",
     "exception": false,
     "start_time": "2022-07-07T06:00:19.897013",
     "status": "completed"
    },
    "tags": []
   },
   "source": [
    "# 3.2 Change Age(continuous to categorical)\n",
    "- Age는 현재 continuous feature입니다. 이대로 써도 모델을 세울수있지만, Age를 몇개의 group으로 나누어 category화 시켜줄수도 있습니다. continuous를 categorical로 바꾸면 자칫 information loss가 생길 수도있습니다만, 본 튜토리얼에서는 다양한 방법을 소개하는 것이 목적이므로 진행하도록 하겠습니다.\n",
    "- 방법이 여러가지있습니다. dataframe의 indexing방법인 loc를 사용하여 직접해줄수 있고, 아니면 apply를 사용해 함수를 넣어줄수있습니다. \n",
    "- 첫번째로 loc를 사용한 방법입니다. loc는 자주쓰게 되므로 그 사용법을 숙지하시면 좋습니다.\n",
    "- 나이는 10살 간격으로 나누겠습니다."
   ]
  },
  {
   "cell_type": "code",
   "execution_count": 10,
   "id": "dfcf6acb",
   "metadata": {
    "execution": {
     "iopub.execute_input": "2022-07-07T06:00:19.959489Z",
     "iopub.status.busy": "2022-07-07T06:00:19.958307Z",
     "iopub.status.idle": "2022-07-07T06:00:19.988149Z",
     "shell.execute_reply": "2022-07-07T06:00:19.987316Z"
    },
    "papermill": {
     "duration": 0.05421,
     "end_time": "2022-07-07T06:00:19.990858",
     "exception": false,
     "start_time": "2022-07-07T06:00:19.936648",
     "status": "completed"
    },
    "tags": []
   },
   "outputs": [],
   "source": [
    "df_train['Age_cat'] = 0\n",
    "df_train.loc[df_train['Age'] < 10, 'Age_cat'] = 0\n",
    "df_train.loc[(10 <= df_train['Age']) & (df_train['Age'] < 20), 'Age_cat'] = 1\n",
    "df_train.loc[(20 <= df_train['Age']) & (df_train['Age'] < 30), 'Age_cat'] = 2\n",
    "df_train.loc[(30 <= df_train['Age']) & (df_train['Age'] < 40), 'Age_cat'] = 3\n",
    "df_train.loc[(40 <= df_train['Age']) & (df_train['Age'] < 50), 'Age_cat'] = 4\n",
    "df_train.loc[(50 <= df_train['Age']) & (df_train['Age'] < 60), 'Age_cat'] = 5\n",
    "df_train.loc[(60 <= df_train['Age']) & (df_train['Age'] < 70), 'Age_cat'] = 6\n",
    "df_train.loc[70 <= df_train['Age'], 'Age_cat'] = 7\n",
    "\n",
    "df_test['Age_cat'] = 0\n",
    "df_test.loc[df_test['Age'] < 10, 'Age_cat'] = 0\n",
    "df_test.loc[(10 <= df_test['Age']) & (df_test['Age'] < 20), 'Age_cat'] = 1\n",
    "df_test.loc[(20 <= df_test['Age']) & (df_test['Age'] < 30), 'Age_cat'] = 2\n",
    "df_test.loc[(30 <= df_test['Age']) & (df_test['Age'] < 40), 'Age_cat'] = 3\n",
    "df_test.loc[(40 <= df_test['Age']) & (df_test['Age'] < 50), 'Age_cat'] = 4\n",
    "df_test.loc[(50 <= df_test['Age']) & (df_test['Age'] < 60), 'Age_cat'] = 5\n",
    "df_test.loc[(60 <= df_test['Age']) & (df_test['Age'] < 70), 'Age_cat'] = 6\n",
    "df_test.loc[70 <= df_test['Age'], 'Age_cat'] = 7"
   ]
  },
  {
   "cell_type": "markdown",
   "id": "81cbf03a",
   "metadata": {
    "papermill": {
     "duration": 0.019792,
     "end_time": "2022-07-07T06:00:20.030194",
     "exception": false,
     "start_time": "2022-07-07T06:00:20.010402",
     "status": "completed"
    },
    "tags": []
   },
   "source": [
    "- 두번째로 간단한 함수를 만들어 apply 메소드에 넣어주는 방법입니다.\n",
    "- 훨씬 수월합니다. "
   ]
  },
  {
   "cell_type": "code",
   "execution_count": 11,
   "id": "2d98f8d5",
   "metadata": {
    "execution": {
     "iopub.execute_input": "2022-07-07T06:00:20.071611Z",
     "iopub.status.busy": "2022-07-07T06:00:20.070961Z",
     "iopub.status.idle": "2022-07-07T06:00:20.078794Z",
     "shell.execute_reply": "2022-07-07T06:00:20.077607Z"
    },
    "papermill": {
     "duration": 0.031243,
     "end_time": "2022-07-07T06:00:20.081012",
     "exception": false,
     "start_time": "2022-07-07T06:00:20.049769",
     "status": "completed"
    },
    "tags": []
   },
   "outputs": [],
   "source": [
    "def category_age(x):\n",
    "    if x < 10:\n",
    "        return 0\n",
    "    elif x < 20:\n",
    "        return 1\n",
    "    elif x < 30:\n",
    "        return 2\n",
    "    elif x < 40:\n",
    "        return 3\n",
    "    elif x < 50:\n",
    "        return 4\n",
    "    elif x < 60:\n",
    "        return 5\n",
    "    elif x < 70:\n",
    "        return 6\n",
    "    else:\n",
    "        return 7\n",
    "\n",
    "df_train['Age_cat_2'] = df_train['Age'].apply(category_age)"
   ]
  },
  {
   "cell_type": "markdown",
   "id": "b2fbb45c",
   "metadata": {
    "papermill": {
     "duration": 0.019341,
     "end_time": "2022-07-07T06:00:20.120309",
     "exception": false,
     "start_time": "2022-07-07T06:00:20.100968",
     "status": "completed"
    },
    "tags": []
   },
   "source": [
    "- 두가지 방법이 잘 적용됬다면, 둘다 같은 결과를 내야합니다.\n",
    "- 이를 확인하기 위해 Series 간 boolean 비교후 all()메소드를 사용합시다. all()메소드는 모든 값이 True면 True, 하나라도 False가 있으면 False를 줍니다."
   ]
  },
  {
   "cell_type": "code",
   "execution_count": 12,
   "id": "25c01f9f",
   "metadata": {
    "execution": {
     "iopub.execute_input": "2022-07-07T06:00:20.161946Z",
     "iopub.status.busy": "2022-07-07T06:00:20.161284Z",
     "iopub.status.idle": "2022-07-07T06:00:20.172483Z",
     "shell.execute_reply": "2022-07-07T06:00:20.167902Z"
    },
    "papermill": {
     "duration": 0.035748,
     "end_time": "2022-07-07T06:00:20.175843",
     "exception": false,
     "start_time": "2022-07-07T06:00:20.140095",
     "status": "completed"
    },
    "tags": []
   },
   "outputs": [
    {
     "name": "stdout",
     "output_type": "stream",
     "text": [
      "1번 방법, 2번방법 둘다 같은 결과를 내면 True줘야함 -> True\n"
     ]
    }
   ],
   "source": [
    "print('1번 방법, 2번방법 둘다 같은 결과를 내면 True줘야함 ->', (df_train['Age_cat'] == df_train['Age_cat_2']).all())"
   ]
  },
  {
   "cell_type": "markdown",
   "id": "cec4ca6f",
   "metadata": {
    "papermill": {
     "duration": 0.012026,
     "end_time": "2022-07-07T06:00:20.202157",
     "exception": false,
     "start_time": "2022-07-07T06:00:20.190131",
     "status": "completed"
    },
    "tags": []
   },
   "source": [
    "- 보시다시피 True입니다. 둘 중 편한걸 선택하시면 됩니다.\n",
    "- 이제 중복되는 Age_cat 컬럼과 원래 컬럼 Age를 제거하겠습니다."
   ]
  },
  {
   "cell_type": "code",
   "execution_count": 13,
   "id": "e65beca8",
   "metadata": {
    "execution": {
     "iopub.execute_input": "2022-07-07T06:00:20.228279Z",
     "iopub.status.busy": "2022-07-07T06:00:20.227478Z",
     "iopub.status.idle": "2022-07-07T06:00:20.235716Z",
     "shell.execute_reply": "2022-07-07T06:00:20.234852Z"
    },
    "papermill": {
     "duration": 0.02351,
     "end_time": "2022-07-07T06:00:20.237686",
     "exception": false,
     "start_time": "2022-07-07T06:00:20.214176",
     "status": "completed"
    },
    "tags": []
   },
   "outputs": [],
   "source": [
    "df_train.drop(['Age', 'Age_cat_2'], axis=1, inplace=True)\n",
    "df_test.drop(['Age'], axis=1, inplace=True)"
   ]
  },
  {
   "cell_type": "markdown",
   "id": "65d7a9be",
   "metadata": {
    "papermill": {
     "duration": 0.011703,
     "end_time": "2022-07-07T06:00:20.261579",
     "exception": false,
     "start_time": "2022-07-07T06:00:20.249876",
     "status": "completed"
    },
    "tags": []
   },
   "source": [
    "# 3.3 Change Initial,Embarked and Sex (string to numerical)\n",
    "- 현재 Initial은 Mr, Mrs, Miss, Master, other 총5개로 이루어져있습니다. 이런 카테고리로 표현되어져 있는 데이터를 모델에 인풋으로 넣어줄때 우리가 해야할 것은 먼저 컴퓨터가 인식할 수 있도록 수치화 시켜야합니다.\n",
    "- map method를 가지고 간단히 할 수 있습니다.\n",
    "- 사전 순서대로 정리하여 mapping하겠습니다."
   ]
  },
  {
   "cell_type": "code",
   "execution_count": 14,
   "id": "195da001",
   "metadata": {
    "execution": {
     "iopub.execute_input": "2022-07-07T06:00:20.288797Z",
     "iopub.status.busy": "2022-07-07T06:00:20.288062Z",
     "iopub.status.idle": "2022-07-07T06:00:20.296879Z",
     "shell.execute_reply": "2022-07-07T06:00:20.296096Z"
    },
    "papermill": {
     "duration": 0.025371,
     "end_time": "2022-07-07T06:00:20.298914",
     "exception": false,
     "start_time": "2022-07-07T06:00:20.273543",
     "status": "completed"
    },
    "tags": []
   },
   "outputs": [],
   "source": [
    "df_train['Initial'] = df_train['Initial'].map({'Master': 0, 'Miss': 1, 'Mr': 2, 'Mrs': 3, 'Other': 4})\n",
    "df_test['Initial'] = df_test['Initial'].map({'Master': 0, 'Miss': 1, 'Mr': 2, 'Mrs': 3, 'Other': 4})"
   ]
  },
  {
   "cell_type": "markdown",
   "id": "5f0a3419",
   "metadata": {
    "papermill": {
     "duration": 0.011806,
     "end_time": "2022-07-07T06:00:20.323617",
     "exception": false,
     "start_time": "2022-07-07T06:00:20.311811",
     "status": "completed"
    },
    "tags": []
   },
   "source": [
    "- Embarked 도 C, Q, S로 이루어져 있습니다. map을 이용해 바꿔봅시다.\n",
    "- 그러기 앞서서, 특정 column에 어떤 값들이 있는지 확인해보는 방법을 잠깐 살펴보겠습니다. 간단히 unique() 메소드를 쓰거나, value_counts()를 써서 count까지 보는 방법이 있습니다."
   ]
  },
  {
   "cell_type": "code",
   "execution_count": 15,
   "id": "ffbd114a",
   "metadata": {
    "execution": {
     "iopub.execute_input": "2022-07-07T06:00:20.349275Z",
     "iopub.status.busy": "2022-07-07T06:00:20.348525Z",
     "iopub.status.idle": "2022-07-07T06:00:20.356263Z",
     "shell.execute_reply": "2022-07-07T06:00:20.355048Z"
    },
    "papermill": {
     "duration": 0.022929,
     "end_time": "2022-07-07T06:00:20.358160",
     "exception": false,
     "start_time": "2022-07-07T06:00:20.335231",
     "status": "completed"
    },
    "tags": []
   },
   "outputs": [
    {
     "data": {
      "text/plain": [
       "array(['S', 'C', 'Q'], dtype=object)"
      ]
     },
     "execution_count": 15,
     "metadata": {},
     "output_type": "execute_result"
    }
   ],
   "source": [
    "df_train['Embarked'].unique()"
   ]
  },
  {
   "cell_type": "code",
   "execution_count": 16,
   "id": "ba282ff1",
   "metadata": {
    "execution": {
     "iopub.execute_input": "2022-07-07T06:00:20.384413Z",
     "iopub.status.busy": "2022-07-07T06:00:20.383560Z",
     "iopub.status.idle": "2022-07-07T06:00:20.391607Z",
     "shell.execute_reply": "2022-07-07T06:00:20.390738Z"
    },
    "papermill": {
     "duration": 0.023008,
     "end_time": "2022-07-07T06:00:20.393304",
     "exception": false,
     "start_time": "2022-07-07T06:00:20.370296",
     "status": "completed"
    },
    "tags": []
   },
   "outputs": [
    {
     "data": {
      "text/plain": [
       "S    646\n",
       "C    168\n",
       "Q     77\n",
       "Name: Embarked, dtype: int64"
      ]
     },
     "execution_count": 16,
     "metadata": {},
     "output_type": "execute_result"
    }
   ],
   "source": [
    "df_train['Embarked'].value_counts()"
   ]
  },
  {
   "cell_type": "markdown",
   "id": "3a0f706c",
   "metadata": {
    "papermill": {
     "duration": 0.011603,
     "end_time": "2022-07-07T06:00:20.417171",
     "exception": false,
     "start_time": "2022-07-07T06:00:20.405568",
     "status": "completed"
    },
    "tags": []
   },
   "source": [
    "- 위 두 방법을 사용해 Embarked가 S, C, Q 세가지로 이루어진 것을 볼 수 있습니다. 이제 map을 사용해봅시다"
   ]
  },
  {
   "cell_type": "code",
   "execution_count": 17,
   "id": "934a45fa",
   "metadata": {
    "execution": {
     "iopub.execute_input": "2022-07-07T06:00:20.443825Z",
     "iopub.status.busy": "2022-07-07T06:00:20.442785Z",
     "iopub.status.idle": "2022-07-07T06:00:20.451679Z",
     "shell.execute_reply": "2022-07-07T06:00:20.450677Z"
    },
    "papermill": {
     "duration": 0.024794,
     "end_time": "2022-07-07T06:00:20.453942",
     "exception": false,
     "start_time": "2022-07-07T06:00:20.429148",
     "status": "completed"
    },
    "tags": []
   },
   "outputs": [],
   "source": [
    "df_train['Embarked'] = df_train['Embarked'].map({'C': 0, 'Q': 1, 'S': 2})\n",
    "df_test['Embarked'] = df_test['Embarked'].map({'C': 0, 'Q': 1, 'S': 2})"
   ]
  },
  {
   "cell_type": "markdown",
   "id": "6530c1ce",
   "metadata": {
    "papermill": {
     "duration": 0.019378,
     "end_time": "2022-07-07T06:00:20.493907",
     "exception": false,
     "start_time": "2022-07-07T06:00:20.474529",
     "status": "completed"
    },
    "tags": []
   },
   "source": [
    "- 한번 Null이 사라졌는지 확인해봅시다. Embarked Column만 가져온것은 하나의 panda의 Series객체므로, isnull()메소드를 사용해 Series의 값들이 null인지 아닌지에 대한 boolean값을 얻을 수 있습니다. 그리고 이것에 any()를 사용하여, True가 단하나라도 있을시(Null이 한개라도 있을 시) True를 반환해주게 됩니다. 우리는 Null을 S로 다 바꿔주었으므로 False를 얻게 됩니다."
   ]
  },
  {
   "cell_type": "code",
   "execution_count": 18,
   "id": "27c25115",
   "metadata": {
    "execution": {
     "iopub.execute_input": "2022-07-07T06:00:20.535326Z",
     "iopub.status.busy": "2022-07-07T06:00:20.534122Z",
     "iopub.status.idle": "2022-07-07T06:00:20.542402Z",
     "shell.execute_reply": "2022-07-07T06:00:20.541242Z"
    },
    "papermill": {
     "duration": 0.031464,
     "end_time": "2022-07-07T06:00:20.544979",
     "exception": false,
     "start_time": "2022-07-07T06:00:20.513515",
     "status": "completed"
    },
    "tags": []
   },
   "outputs": [
    {
     "data": {
      "text/plain": [
       "False"
      ]
     },
     "execution_count": 18,
     "metadata": {},
     "output_type": "execute_result"
    }
   ],
   "source": [
    "df_train['Embarked'].isnull().any()"
   ]
  },
  {
   "cell_type": "markdown",
   "id": "ead68c6b",
   "metadata": {
    "papermill": {
     "duration": 0.01994,
     "end_time": "2022-07-07T06:00:20.585150",
     "exception": false,
     "start_time": "2022-07-07T06:00:20.565210",
     "status": "completed"
    },
    "tags": []
   },
   "source": [
    "- Sex도 Female, male로 이루어져있습니다. map을 이용해 바꿔봅시다."
   ]
  },
  {
   "cell_type": "code",
   "execution_count": 19,
   "id": "5dd99880",
   "metadata": {
    "execution": {
     "iopub.execute_input": "2022-07-07T06:00:20.628350Z",
     "iopub.status.busy": "2022-07-07T06:00:20.627641Z",
     "iopub.status.idle": "2022-07-07T06:00:20.635884Z",
     "shell.execute_reply": "2022-07-07T06:00:20.634930Z"
    },
    "papermill": {
     "duration": 0.03269,
     "end_time": "2022-07-07T06:00:20.638589",
     "exception": false,
     "start_time": "2022-07-07T06:00:20.605899",
     "status": "completed"
    },
    "tags": []
   },
   "outputs": [],
   "source": [
    "df_train['Sex'] = df_train['Sex'].map({'female': 0, 'male': 1})\n",
    "df_test['Sex'] = df_test['Sex'].map({'female': 0, 'male': 1})"
   ]
  },
  {
   "cell_type": "markdown",
   "id": "8cc601f6",
   "metadata": {
    "papermill": {
     "duration": 0.019639,
     "end_time": "2022-07-07T06:00:20.678407",
     "exception": false,
     "start_time": "2022-07-07T06:00:20.658768",
     "status": "completed"
    },
    "tags": []
   },
   "source": [
    "- 여지껏 고생하셨습니다. 이제 각 feature간의 상관관계를 한번 보려고 합니다. 두 변수간의 Pearson correlation 을 구하면 (-1, 1) 사이의 값을 얻을 수 있습니다. -1로 갈수록 음의 상관관계, 1로 갈수록양의 상관관계를 의미하며, 0은 상관관계가 없다는 것을 의미합니다. 구하는 수식은 아래와 같습니다.\n",
    "\n",
    "$$r_{xy} = \\frac{Cov(x,y)}{S_{x}S_{y}} = \\frac{\\frac{1}{n-1}\\sum_{i=1}^n(x_{i}-\\bar x)(y_{i}-\\bar y)}{S_{x}S_{y}}$$\n",
    "\n",
    "- 우리는 여러 feature를 가지고 있으니 이를 하나의 maxtrix형태로 보면 편할텐데, 이를 heatmap plot이라고하며, dataframe의 corr()메소드와 seaborn을 가지고 편하게 그릴 수 있습니다."
   ]
  },
  {
   "cell_type": "code",
   "execution_count": 20,
   "id": "1d03f806",
   "metadata": {
    "execution": {
     "iopub.execute_input": "2022-07-07T06:00:20.720258Z",
     "iopub.status.busy": "2022-07-07T06:00:20.719552Z",
     "iopub.status.idle": "2022-07-07T06:00:21.198550Z",
     "shell.execute_reply": "2022-07-07T06:00:21.197738Z"
    },
    "papermill": {
     "duration": 0.503602,
     "end_time": "2022-07-07T06:00:21.201753",
     "exception": false,
     "start_time": "2022-07-07T06:00:20.698151",
     "status": "completed"
    },
    "tags": []
   },
   "outputs": [
    {
     "data": {
      "image/png": "[encoded data removed]",
      "text/plain": [
       "<Figure size 1008x864 with 2 Axes>"
      ]
     },
     "metadata": {
      "needs_background": "light"
     },
     "output_type": "display_data"
    }
   ],
   "source": [
    "heatmap_data = df_train[['Survived', 'Pclass', 'Sex', 'Fare', 'Embarked', 'FamilySize', 'Initial', 'Age_cat']]\n",
    "\n",
    "colormap = plt.cm.RdBu\n",
    "plt.figure(figsize=(14,12))\n",
    "plt.title('Pearson Correlation of Features', y=1.05, size=15)\n",
    "sns.heatmap(heatmap_data.astype(float).corr(), linewidths=0.1, vmax=1.0, square=True, cmap=colormap, linecolor='white', annot=True, annot_kws={\"size\": 16})\n",
    "# .corr():상관관계 계산, linewidths : 칸사이 간격,  vmax : 최대값  , annot : 숫자표시여부,  annot_kws : 숫자 크기  \n",
    "del heatmap_data"
   ]
  },
  {
   "cell_type": "markdown",
   "id": "bbfb9da7",
   "metadata": {
    "papermill": {
     "duration": 0.021503,
     "end_time": "2022-07-07T06:00:21.245160",
     "exception": false,
     "start_time": "2022-07-07T06:00:21.223657",
     "status": "completed"
    },
    "tags": []
   },
   "source": [
    "- 우리가 EDA에서 살펴봤듯이, Sex와 Pclass가 Survived에 상관관계가 어느 정도 있음을 볼 수 있습니다.\n",
    "- 생각보다 fare와 Embarked도 상관관계가 있음을 볼 수 있습니다.\n",
    "- 또한 우리가 여기서 얻을 수 있는 정보는 서로 강한 상관관계를 가지는 feature들이 없다는 것입니다.\n",
    "- 이것은 우리가 모델을 학습시킬때, 불필요한(redundant, superfluous) feature가 없다는것을 의미합니다. 1 또는 -1의 상관관계를 가진 feature A,B가 있다면, 우리가 얻을 수 있는 정보는 사실 하나일 꺼니까요.\n",
    "- 이제 실제로 모델을 학습시키기 앞서서 data preprocessing(전처리)을 진행해보겠습니다. 거의 다 와갑니다 힘냅시다!\n",
    "\n",
    "# 3.4 One-hot encoding on Initial and Embarked\n",
    "- 수치화시킨 카테고리 데이터를 그대로 넣어도 되지만, 모델의 성능을 높이기 위해 one-hot encoding을 해줄 수 있습니다.\n",
    "- 수치화는 간단히 Master == 0, Miss == 1, Mr == 2, Mrs == 3, Other == 4 로 매핑해주는것을 말합니다.\n",
    "- one-hot encoding은 위 카테고리를 아래와 같이 (0,1)로 이루어진 5차원의 벡터로 나타내는 것을 말합니다.\n",
    "- 위와 같은 작업을 직접 코딩할 수도 있지만, pandas의 get_dummies를 사용하여 쉽게 해결 할 수 있습니다.\n",
    "- 총 5개의 카테고리니, one-hot encoding을 하고나면 새로운 5개의 column이 생겨납니다.\n",
    "- Initial을 prefix로 두어서 구분이 쉽게 만들어 줍니다."
   ]
  },
  {
   "cell_type": "code",
   "execution_count": 21,
   "id": "fd67f940",
   "metadata": {
    "execution": {
     "iopub.execute_input": "2022-07-07T06:00:21.290140Z",
     "iopub.status.busy": "2022-07-07T06:00:21.288929Z",
     "iopub.status.idle": "2022-07-07T06:00:21.311195Z",
     "shell.execute_reply": "2022-07-07T06:00:21.310406Z"
    },
    "papermill": {
     "duration": 0.046768,
     "end_time": "2022-07-07T06:00:21.313479",
     "exception": false,
     "start_time": "2022-07-07T06:00:21.266711",
     "status": "completed"
    },
    "tags": []
   },
   "outputs": [
    {
     "data": {
      "text/html": [
       "<div>\n",
       "<style scoped>\n",
       "    .dataframe tbody tr th:only-of-type {\n",
       "        vertical-align: middle;\n",
       "    }\n",
       "\n",
       "    .dataframe tbody tr th {\n",
       "        vertical-align: top;\n",
       "    }\n",
       "\n",
       "    .dataframe thead th {\n",
       "        text-align: right;\n",
       "    }\n",
       "</style>\n",
       "<table border=\"1\" class=\"dataframe\">\n",
       "  <thead>\n",
       "    <tr style=\"text-align: right;\">\n",
       "      <th></th>\n",
       "      <th>PassengerId</th>\n",
       "      <th>Survived</th>\n",
       "      <th>Pclass</th>\n",
       "      <th>Name</th>\n",
       "      <th>Sex</th>\n",
       "      <th>SibSp</th>\n",
       "      <th>Parch</th>\n",
       "      <th>Ticket</th>\n",
       "      <th>Fare</th>\n",
       "      <th>Cabin</th>\n",
       "      <th>Embarked</th>\n",
       "      <th>FamilySize</th>\n",
       "      <th>Age_cat</th>\n",
       "      <th>Initial_0</th>\n",
       "      <th>Initial_1</th>\n",
       "      <th>Initial_2</th>\n",
       "      <th>Initial_3</th>\n",
       "      <th>Initial_4</th>\n",
       "    </tr>\n",
       "  </thead>\n",
       "  <tbody>\n",
       "    <tr>\n",
       "      <th>0</th>\n",
       "      <td>1</td>\n",
       "      <td>0</td>\n",
       "      <td>3</td>\n",
       "      <td>Braund, Mr. Owen Harris</td>\n",
       "      <td>1</td>\n",
       "      <td>1</td>\n",
       "      <td>0</td>\n",
       "      <td>A/5 21171</td>\n",
       "      <td>1.981001</td>\n",
       "      <td>NaN</td>\n",
       "      <td>2</td>\n",
       "      <td>2</td>\n",
       "      <td>2</td>\n",
       "      <td>0</td>\n",
       "      <td>0</td>\n",
       "      <td>1</td>\n",
       "      <td>0</td>\n",
       "      <td>0</td>\n",
       "    </tr>\n",
       "    <tr>\n",
       "      <th>1</th>\n",
       "      <td>2</td>\n",
       "      <td>1</td>\n",
       "      <td>1</td>\n",
       "      <td>Cumings, Mrs. John Bradley (Florence Briggs Th...</td>\n",
       "      <td>0</td>\n",
       "      <td>1</td>\n",
       "      <td>0</td>\n",
       "      <td>PC 17599</td>\n",
       "      <td>4.266662</td>\n",
       "      <td>C85</td>\n",
       "      <td>0</td>\n",
       "      <td>2</td>\n",
       "      <td>3</td>\n",
       "      <td>0</td>\n",
       "      <td>0</td>\n",
       "      <td>0</td>\n",
       "      <td>1</td>\n",
       "      <td>0</td>\n",
       "    </tr>\n",
       "    <tr>\n",
       "      <th>2</th>\n",
       "      <td>3</td>\n",
       "      <td>1</td>\n",
       "      <td>3</td>\n",
       "      <td>Heikkinen, Miss. Laina</td>\n",
       "      <td>0</td>\n",
       "      <td>0</td>\n",
       "      <td>0</td>\n",
       "      <td>STON/O2. 3101282</td>\n",
       "      <td>2.070022</td>\n",
       "      <td>NaN</td>\n",
       "      <td>2</td>\n",
       "      <td>1</td>\n",
       "      <td>2</td>\n",
       "      <td>0</td>\n",
       "      <td>1</td>\n",
       "      <td>0</td>\n",
       "      <td>0</td>\n",
       "      <td>0</td>\n",
       "    </tr>\n",
       "    <tr>\n",
       "      <th>3</th>\n",
       "      <td>4</td>\n",
       "      <td>1</td>\n",
       "      <td>1</td>\n",
       "      <td>Futrelle, Mrs. Jacques Heath (Lily May Peel)</td>\n",
       "      <td>0</td>\n",
       "      <td>1</td>\n",
       "      <td>0</td>\n",
       "      <td>113803</td>\n",
       "      <td>3.972177</td>\n",
       "      <td>C123</td>\n",
       "      <td>2</td>\n",
       "      <td>2</td>\n",
       "      <td>3</td>\n",
       "      <td>0</td>\n",
       "      <td>0</td>\n",
       "      <td>0</td>\n",
       "      <td>1</td>\n",
       "      <td>0</td>\n",
       "    </tr>\n",
       "    <tr>\n",
       "      <th>4</th>\n",
       "      <td>5</td>\n",
       "      <td>0</td>\n",
       "      <td>3</td>\n",
       "      <td>Allen, Mr. William Henry</td>\n",
       "      <td>1</td>\n",
       "      <td>0</td>\n",
       "      <td>0</td>\n",
       "      <td>373450</td>\n",
       "      <td>2.085672</td>\n",
       "      <td>NaN</td>\n",
       "      <td>2</td>\n",
       "      <td>1</td>\n",
       "      <td>3</td>\n",
       "      <td>0</td>\n",
       "      <td>0</td>\n",
       "      <td>1</td>\n",
       "      <td>0</td>\n",
       "      <td>0</td>\n",
       "    </tr>\n",
       "  </tbody>\n",
       "</table>\n",
       "</div>"
      ],
      "text/plain": [
       "   PassengerId  Survived  Pclass  \\\n",
       "0            1         0       3   \n",
       "1            2         1       1   \n",
       "2            3         1       3   \n",
       "3            4         1       1   \n",
       "4            5         0       3   \n",
       "\n",
       "                                                Name  Sex  SibSp  Parch  \\\n",
       "0                            Braund, Mr. Owen Harris    1      1      0   \n",
       "1  Cumings, Mrs. John Bradley (Florence Briggs Th...    0      1      0   \n",
       "2                             Heikkinen, Miss. Laina    0      0      0   \n",
       "3       Futrelle, Mrs. Jacques Heath (Lily May Peel)    0      1      0   \n",
       "4                           Allen, Mr. William Henry    1      0      0   \n",
       "\n",
       "             Ticket      Fare Cabin  Embarked  FamilySize  Age_cat  Initial_0  \\\n",
       "0         A/5 21171  1.981001   NaN         2           2        2          0   \n",
       "1          PC 17599  4.266662   C85         0           2        3          0   \n",
       "2  STON/O2. 3101282  2.070022   NaN         2           1        2          0   \n",
       "3            113803  3.972177  C123         2           2        3          0   \n",
       "4            373450  2.085672   NaN         2           1        3          0   \n",
       "\n",
       "   Initial_1  Initial_2  Initial_3  Initial_4  \n",
       "0          0          1          0          0  \n",
       "1          0          0          1          0  \n",
       "2          1          0          0          0  \n",
       "3          0          0          1          0  \n",
       "4          0          1          0          0  "
      ]
     },
     "execution_count": 21,
     "metadata": {},
     "output_type": "execute_result"
    }
   ],
   "source": [
    "df_train = pd.get_dummies(df_train, columns=['Initial'], prefix='Initial')\n",
    "df_test = pd.get_dummies(df_test, columns=['Initial'], prefix='Initial')\n",
    "df_train.head()\n",
    "# columns : 특정열만 인코딩 "
   ]
  },
  {
   "cell_type": "markdown",
   "id": "d85a01ef",
   "metadata": {
    "papermill": {
     "duration": 0.022341,
     "end_time": "2022-07-07T06:00:21.357829",
     "exception": false,
     "start_time": "2022-07-07T06:00:21.335488",
     "status": "completed"
    },
    "tags": []
   },
   "source": [
    "- 보시다시피 오른쪽에 우리가 만들려고 했던 one-hot encoding columnsrk 생성된 것이 보입니다. \n",
    "- Embarked에도 적용하겠습니다. Initial때와 마찬가지로 one-hot encoding을 사용해 표현하겠습니다."
   ]
  },
  {
   "cell_type": "code",
   "execution_count": 22,
   "id": "862f7e1a",
   "metadata": {
    "execution": {
     "iopub.execute_input": "2022-07-07T06:00:21.403519Z",
     "iopub.status.busy": "2022-07-07T06:00:21.402005Z",
     "iopub.status.idle": "2022-07-07T06:00:21.414452Z",
     "shell.execute_reply": "2022-07-07T06:00:21.413416Z"
    },
    "papermill": {
     "duration": 0.037573,
     "end_time": "2022-07-07T06:00:21.417130",
     "exception": false,
     "start_time": "2022-07-07T06:00:21.379557",
     "status": "completed"
    },
    "tags": []
   },
   "outputs": [],
   "source": [
    "df_train = pd.get_dummies(df_train, columns=['Embarked'], prefix='Embarked')\n",
    "df_test = pd.get_dummies(df_test, columns=['Embarked'], prefix='Embarked')"
   ]
  },
  {
   "cell_type": "markdown",
   "id": "0c13af0e",
   "metadata": {
    "papermill": {
     "duration": 0.02208,
     "end_time": "2022-07-07T06:00:21.461895",
     "exception": false,
     "start_time": "2022-07-07T06:00:21.439815",
     "status": "completed"
    },
    "tags": []
   },
   "source": [
    "- 아주 쉽게 one-hot encoding을 적용했습니다.\n",
    "- sklearn로 Labelencodr + OneHotencoder 이용해도 one-hot encoding이 가능합니다.\n",
    "- 다른 튜토리얼에서 한번 써보겠습니다. 여기서는 get_dummies로 충분히 가능하기 때문에 get_dummies만으로 끝내겠습니다.\n",
    "- 가끔 category가 100개가 넘어가는 경우가 있습니다. 이때 one-hot encoding을 사용하면 column이 100개가 생겨, 학습시 매우 버거울경우가 있습니다. 이런 경우는 다른 방법을 사용하기도 하는데, 이는 다음에 한번 다뤄보겠습니다.\n",
    "\n",
    "# 3.5 Drop columns\n",
    "- 고생하셨습닏다. 이제 책상을 치울때입니다. 필요한 columns만 남기고 다 지웁시다."
   ]
  },
  {
   "cell_type": "code",
   "execution_count": 23,
   "id": "334264d5",
   "metadata": {
    "execution": {
     "iopub.execute_input": "2022-07-07T06:00:21.507124Z",
     "iopub.status.busy": "2022-07-07T06:00:21.505949Z",
     "iopub.status.idle": "2022-07-07T06:00:21.527446Z",
     "shell.execute_reply": "2022-07-07T06:00:21.526307Z"
    },
    "papermill": {
     "duration": 0.04633,
     "end_time": "2022-07-07T06:00:21.529815",
     "exception": false,
     "start_time": "2022-07-07T06:00:21.483485",
     "status": "completed"
    },
    "tags": []
   },
   "outputs": [
    {
     "data": {
      "text/html": [
       "<div>\n",
       "<style scoped>\n",
       "    .dataframe tbody tr th:only-of-type {\n",
       "        vertical-align: middle;\n",
       "    }\n",
       "\n",
       "    .dataframe tbody tr th {\n",
       "        vertical-align: top;\n",
       "    }\n",
       "\n",
       "    .dataframe thead th {\n",
       "        text-align: right;\n",
       "    }\n",
       "</style>\n",
       "<table border=\"1\" class=\"dataframe\">\n",
       "  <thead>\n",
       "    <tr style=\"text-align: right;\">\n",
       "      <th></th>\n",
       "      <th>Survived</th>\n",
       "      <th>Pclass</th>\n",
       "      <th>Sex</th>\n",
       "      <th>Fare</th>\n",
       "      <th>FamilySize</th>\n",
       "      <th>Age_cat</th>\n",
       "      <th>Initial_0</th>\n",
       "      <th>Initial_1</th>\n",
       "      <th>Initial_2</th>\n",
       "      <th>Initial_3</th>\n",
       "      <th>Initial_4</th>\n",
       "      <th>Embarked_0</th>\n",
       "      <th>Embarked_1</th>\n",
       "      <th>Embarked_2</th>\n",
       "    </tr>\n",
       "  </thead>\n",
       "  <tbody>\n",
       "    <tr>\n",
       "      <th>0</th>\n",
       "      <td>0</td>\n",
       "      <td>3</td>\n",
       "      <td>1</td>\n",
       "      <td>1.981001</td>\n",
       "      <td>2</td>\n",
       "      <td>2</td>\n",
       "      <td>0</td>\n",
       "      <td>0</td>\n",
       "      <td>1</td>\n",
       "      <td>0</td>\n",
       "      <td>0</td>\n",
       "      <td>0</td>\n",
       "      <td>0</td>\n",
       "      <td>1</td>\n",
       "    </tr>\n",
       "    <tr>\n",
       "      <th>1</th>\n",
       "      <td>1</td>\n",
       "      <td>1</td>\n",
       "      <td>0</td>\n",
       "      <td>4.266662</td>\n",
       "      <td>2</td>\n",
       "      <td>3</td>\n",
       "      <td>0</td>\n",
       "      <td>0</td>\n",
       "      <td>0</td>\n",
       "      <td>1</td>\n",
       "      <td>0</td>\n",
       "      <td>1</td>\n",
       "      <td>0</td>\n",
       "      <td>0</td>\n",
       "    </tr>\n",
       "    <tr>\n",
       "      <th>2</th>\n",
       "      <td>1</td>\n",
       "      <td>3</td>\n",
       "      <td>0</td>\n",
       "      <td>2.070022</td>\n",
       "      <td>1</td>\n",
       "      <td>2</td>\n",
       "      <td>0</td>\n",
       "      <td>1</td>\n",
       "      <td>0</td>\n",
       "      <td>0</td>\n",
       "      <td>0</td>\n",
       "      <td>0</td>\n",
       "      <td>0</td>\n",
       "      <td>1</td>\n",
       "    </tr>\n",
       "    <tr>\n",
       "      <th>3</th>\n",
       "      <td>1</td>\n",
       "      <td>1</td>\n",
       "      <td>0</td>\n",
       "      <td>3.972177</td>\n",
       "      <td>2</td>\n",
       "      <td>3</td>\n",
       "      <td>0</td>\n",
       "      <td>0</td>\n",
       "      <td>0</td>\n",
       "      <td>1</td>\n",
       "      <td>0</td>\n",
       "      <td>0</td>\n",
       "      <td>0</td>\n",
       "      <td>1</td>\n",
       "    </tr>\n",
       "    <tr>\n",
       "      <th>4</th>\n",
       "      <td>0</td>\n",
       "      <td>3</td>\n",
       "      <td>1</td>\n",
       "      <td>2.085672</td>\n",
       "      <td>1</td>\n",
       "      <td>3</td>\n",
       "      <td>0</td>\n",
       "      <td>0</td>\n",
       "      <td>1</td>\n",
       "      <td>0</td>\n",
       "      <td>0</td>\n",
       "      <td>0</td>\n",
       "      <td>0</td>\n",
       "      <td>1</td>\n",
       "    </tr>\n",
       "  </tbody>\n",
       "</table>\n",
       "</div>"
      ],
      "text/plain": [
       "   Survived  Pclass  Sex      Fare  FamilySize  Age_cat  Initial_0  Initial_1  \\\n",
       "0         0       3    1  1.981001           2        2          0          0   \n",
       "1         1       1    0  4.266662           2        3          0          0   \n",
       "2         1       3    0  2.070022           1        2          0          1   \n",
       "3         1       1    0  3.972177           2        3          0          0   \n",
       "4         0       3    1  2.085672           1        3          0          0   \n",
       "\n",
       "   Initial_2  Initial_3  Initial_4  Embarked_0  Embarked_1  Embarked_2  \n",
       "0          1          0          0           0           0           1  \n",
       "1          0          1          0           1           0           0  \n",
       "2          0          0          0           0           0           1  \n",
       "3          0          1          0           0           0           1  \n",
       "4          1          0          0           0           0           1  "
      ]
     },
     "execution_count": 23,
     "metadata": {},
     "output_type": "execute_result"
    }
   ],
   "source": [
    "df_train.drop(['PassengerId', 'Name', 'SibSp', 'Parch', 'Ticket', 'Cabin'], axis=1, inplace=True)\n",
    "df_test.drop(['PassengerId', 'Name',  'SibSp', 'Parch', 'Ticket', 'Cabin'], axis=1, inplace=True)\n",
    "df_train.head()"
   ]
  },
  {
   "cell_type": "code",
   "execution_count": 24,
   "id": "9cca4e50",
   "metadata": {
    "execution": {
     "iopub.execute_input": "2022-07-07T06:00:21.576676Z",
     "iopub.status.busy": "2022-07-07T06:00:21.575816Z",
     "iopub.status.idle": "2022-07-07T06:00:21.591788Z",
     "shell.execute_reply": "2022-07-07T06:00:21.590832Z"
    },
    "papermill": {
     "duration": 0.041846,
     "end_time": "2022-07-07T06:00:21.594059",
     "exception": false,
     "start_time": "2022-07-07T06:00:21.552213",
     "status": "completed"
    },
    "tags": []
   },
   "outputs": [
    {
     "data": {
      "text/html": [
       "<div>\n",
       "<style scoped>\n",
       "    .dataframe tbody tr th:only-of-type {\n",
       "        vertical-align: middle;\n",
       "    }\n",
       "\n",
       "    .dataframe tbody tr th {\n",
       "        vertical-align: top;\n",
       "    }\n",
       "\n",
       "    .dataframe thead th {\n",
       "        text-align: right;\n",
       "    }\n",
       "</style>\n",
       "<table border=\"1\" class=\"dataframe\">\n",
       "  <thead>\n",
       "    <tr style=\"text-align: right;\">\n",
       "      <th></th>\n",
       "      <th>Pclass</th>\n",
       "      <th>Sex</th>\n",
       "      <th>Fare</th>\n",
       "      <th>FamilySize</th>\n",
       "      <th>Age_cat</th>\n",
       "      <th>Initial_0</th>\n",
       "      <th>Initial_1</th>\n",
       "      <th>Initial_2</th>\n",
       "      <th>Initial_3</th>\n",
       "      <th>Initial_4</th>\n",
       "      <th>Embarked_0</th>\n",
       "      <th>Embarked_1</th>\n",
       "      <th>Embarked_2</th>\n",
       "    </tr>\n",
       "  </thead>\n",
       "  <tbody>\n",
       "    <tr>\n",
       "      <th>0</th>\n",
       "      <td>3</td>\n",
       "      <td>1</td>\n",
       "      <td>2.057860</td>\n",
       "      <td>1</td>\n",
       "      <td>3</td>\n",
       "      <td>0</td>\n",
       "      <td>0</td>\n",
       "      <td>1</td>\n",
       "      <td>0</td>\n",
       "      <td>0</td>\n",
       "      <td>0</td>\n",
       "      <td>1</td>\n",
       "      <td>0</td>\n",
       "    </tr>\n",
       "    <tr>\n",
       "      <th>1</th>\n",
       "      <td>3</td>\n",
       "      <td>0</td>\n",
       "      <td>1.945910</td>\n",
       "      <td>2</td>\n",
       "      <td>4</td>\n",
       "      <td>0</td>\n",
       "      <td>0</td>\n",
       "      <td>0</td>\n",
       "      <td>1</td>\n",
       "      <td>0</td>\n",
       "      <td>0</td>\n",
       "      <td>0</td>\n",
       "      <td>1</td>\n",
       "    </tr>\n",
       "    <tr>\n",
       "      <th>2</th>\n",
       "      <td>2</td>\n",
       "      <td>1</td>\n",
       "      <td>2.270836</td>\n",
       "      <td>1</td>\n",
       "      <td>6</td>\n",
       "      <td>0</td>\n",
       "      <td>0</td>\n",
       "      <td>1</td>\n",
       "      <td>0</td>\n",
       "      <td>0</td>\n",
       "      <td>0</td>\n",
       "      <td>1</td>\n",
       "      <td>0</td>\n",
       "    </tr>\n",
       "    <tr>\n",
       "      <th>3</th>\n",
       "      <td>3</td>\n",
       "      <td>1</td>\n",
       "      <td>2.159003</td>\n",
       "      <td>1</td>\n",
       "      <td>2</td>\n",
       "      <td>0</td>\n",
       "      <td>0</td>\n",
       "      <td>1</td>\n",
       "      <td>0</td>\n",
       "      <td>0</td>\n",
       "      <td>0</td>\n",
       "      <td>0</td>\n",
       "      <td>1</td>\n",
       "    </tr>\n",
       "    <tr>\n",
       "      <th>4</th>\n",
       "      <td>3</td>\n",
       "      <td>0</td>\n",
       "      <td>2.508582</td>\n",
       "      <td>3</td>\n",
       "      <td>2</td>\n",
       "      <td>0</td>\n",
       "      <td>0</td>\n",
       "      <td>0</td>\n",
       "      <td>1</td>\n",
       "      <td>0</td>\n",
       "      <td>0</td>\n",
       "      <td>0</td>\n",
       "      <td>1</td>\n",
       "    </tr>\n",
       "  </tbody>\n",
       "</table>\n",
       "</div>"
      ],
      "text/plain": [
       "   Pclass  Sex      Fare  FamilySize  Age_cat  Initial_0  Initial_1  \\\n",
       "0       3    1  2.057860           1        3          0          0   \n",
       "1       3    0  1.945910           2        4          0          0   \n",
       "2       2    1  2.270836           1        6          0          0   \n",
       "3       3    1  2.159003           1        2          0          0   \n",
       "4       3    0  2.508582           3        2          0          0   \n",
       "\n",
       "   Initial_2  Initial_3  Initial_4  Embarked_0  Embarked_1  Embarked_2  \n",
       "0          1          0          0           0           1           0  \n",
       "1          0          1          0           0           0           1  \n",
       "2          1          0          0           0           1           0  \n",
       "3          1          0          0           0           0           1  \n",
       "4          0          1          0           0           0           1  "
      ]
     },
     "execution_count": 24,
     "metadata": {},
     "output_type": "execute_result"
    }
   ],
   "source": [
    "df_test.head()"
   ]
  },
  {
   "cell_type": "markdown",
   "id": "1c7414d7",
   "metadata": {
    "papermill": {
     "duration": 0.022459,
     "end_time": "2022-07-07T06:00:21.639022",
     "exception": false,
     "start_time": "2022-07-07T06:00:21.616563",
     "status": "completed"
    },
    "tags": []
   },
   "source": [
    "- 보시다시피, train의 Survived feature(target class)를 빼면 train, test 둘다 같은 columns를 가진 걸 확인할 수 있습니다."
   ]
  },
  {
   "cell_type": "markdown",
   "id": "5944dc71",
   "metadata": {
    "papermill": {
     "duration": 0.021697,
     "end_time": "2022-07-07T06:00:21.683215",
     "exception": false,
     "start_time": "2022-07-07T06:00:21.661518",
     "status": "completed"
    },
    "tags": []
   },
   "source": [
    "# 4. Building machine learning model and prediction using the trained model\n",
    "- 이제 준비가 다 되었으니 sklearn을 사용해 본격적으로 머신러닝 모델을 만들어 봅시다."
   ]
  },
  {
   "cell_type": "code",
   "execution_count": 25,
   "id": "88944511",
   "metadata": {
    "execution": {
     "iopub.execute_input": "2022-07-07T06:00:21.728897Z",
     "iopub.status.busy": "2022-07-07T06:00:21.728324Z",
     "iopub.status.idle": "2022-07-07T06:00:22.483966Z",
     "shell.execute_reply": "2022-07-07T06:00:22.481867Z"
    },
    "papermill": {
     "duration": 0.783573,
     "end_time": "2022-07-07T06:00:22.488875",
     "exception": false,
     "start_time": "2022-07-07T06:00:21.705302",
     "status": "completed"
    },
    "tags": []
   },
   "outputs": [],
   "source": [
    "from sklearn.ensemble import RandomForestClassifier\n",
    "from sklearn import metrics\n",
    "from sklearn.model_selection import train_test_split"
   ]
  },
  {
   "cell_type": "markdown",
   "id": "b87b20ce",
   "metadata": {
    "papermill": {
     "duration": 0.046397,
     "end_time": "2022-07-07T06:00:22.560684",
     "exception": false,
     "start_time": "2022-07-07T06:00:22.514287",
     "status": "completed"
    },
    "tags": []
   },
   "source": [
    "- sklearn은 머신러닝의 처음부터 끝까지가 다 있습니다. feature engineering, preprocessing, 지도학습알고리즘, 비지도학습알고리즘, 모델평가, 파이프라인등 머신러닝에 관련된 모든 작업들이 손쉬운 인터페이스로 구현되어 있습니다. 데이터분석 + 머신러닝을 하고싶다면, 이 라이브러리는 반드시 숙지해야합니다.\n",
    "- 파이썬 라이브러리를 활용한 머신러닝책을 사서 공부하시길 매우 추천해드립니다.\n",
    "- 지금 타이타닉 문제는 target class(survived)가 있으며,target class는 0,1로 이루어져 있으므로 binary classfication문제입니다.\n",
    "- 우리가 지금 가지고 있는 train set의 survived를 제외한 input을 가지고  모델을 최적화시켜서 각 샘플의 생존유무를 판단하는 모델을 만들어 냅니다.\n",
    "- 그후 모델이 학습하지 않았던 test set을 input으로 주어서 test set의 각 샘플의 생존 유무를 예측해봅니다.\n",
    "\n",
    "# 4.1 Preparation - split, dataset into train, valid, test set\n",
    "- 가장먼저, 학습에 쓰일 데이터와, target label(Survived)를 분리합니다. drop을 사용해 간단히 할 수 있습니다."
   ]
  },
  {
   "cell_type": "code",
   "execution_count": 26,
   "id": "91fe269b",
   "metadata": {
    "execution": {
     "iopub.execute_input": "2022-07-07T06:00:22.616454Z",
     "iopub.status.busy": "2022-07-07T06:00:22.615587Z",
     "iopub.status.idle": "2022-07-07T06:00:22.623167Z",
     "shell.execute_reply": "2022-07-07T06:00:22.621467Z"
    },
    "papermill": {
     "duration": 0.040619,
     "end_time": "2022-07-07T06:00:22.627937",
     "exception": false,
     "start_time": "2022-07-07T06:00:22.587318",
     "status": "completed"
    },
    "tags": []
   },
   "outputs": [],
   "source": [
    "X_train = df_train.drop('Survived', axis=1).values\n",
    "target_label = df_train['Survived'].values\n",
    "X_test = df_test.values"
   ]
  },
  {
   "cell_type": "markdown",
   "id": "477ab5b6",
   "metadata": {
    "papermill": {
     "duration": 0.025127,
     "end_time": "2022-07-07T06:00:22.681735",
     "exception": false,
     "start_time": "2022-07-07T06:00:22.656608",
     "status": "completed"
    },
    "tags": []
   },
   "source": [
    "- 보통 train, test만 언급되지만, 실제 좋은 모델을 만들기 위해서 우리는 valid set을 따로 만들어 모델 평가를 해봅니다.\n",
    "- 마치 축구대표팀이 팀훈련(train)을 하고 바로 월드컵(test)로 나가는 것이아니라, 팀훈련(train)을 한 다음 평가전(valid)를 거쳐 팀의 훈련정도(학습정도)를 확인하고 월드컵(test)에 나가는 것과 비슷합니다.\n",
    "- train_test_split을 사용하여 쉽게 train셋을 분리할 수 있습니다."
   ]
  },
  {
   "cell_type": "code",
   "execution_count": 27,
   "id": "1066e94c",
   "metadata": {
    "execution": {
     "iopub.execute_input": "2022-07-07T06:00:22.735133Z",
     "iopub.status.busy": "2022-07-07T06:00:22.734776Z",
     "iopub.status.idle": "2022-07-07T06:00:22.741320Z",
     "shell.execute_reply": "2022-07-07T06:00:22.740501Z"
    },
    "papermill": {
     "duration": 0.035247,
     "end_time": "2022-07-07T06:00:22.744189",
     "exception": false,
     "start_time": "2022-07-07T06:00:22.708942",
     "status": "completed"
    },
    "tags": []
   },
   "outputs": [],
   "source": [
    "X_tr, X_vld, y_tr, y_vld = train_test_split(X_train, target_label, test_size=0.3, random_state=2018)"
   ]
  },
  {
   "cell_type": "markdown",
   "id": "920f5e2f",
   "metadata": {
    "papermill": {
     "duration": 0.02755,
     "end_time": "2022-07-07T06:00:22.800522",
     "exception": false,
     "start_time": "2022-07-07T06:00:22.772972",
     "status": "completed"
    },
    "tags": []
   },
   "source": [
    "- sklearn에서는 여러 머신러닝 알고리즘을 지원해줍니다.열거하기엔 너무 많으므로, 직접 documentation에 들어가 보시길 추천합니다.\n",
    "- 본 튜토리얼에서는 랜덤포레스트 모델을 사용하도록 하겠습니다.\n",
    "- 랜덤포레스트는 결정트리기반 모델이며, 여러 결정 트리들을 앙상블한 모델입니다. 더 구체적인 모델 설명은 여러 블로그들 참고하시면 될 것이고, 저도 한번 추후 다뤄보겠습니다.\n",
    "- 각 머신러닝 알고리즘에는 여러 파라미터들이 있습니다. 랜덤포레스트분류기도 n_estimators, max_features,max_depth, min_samples_split, min_samples_leaf등 여러 파라미터들이 존재합니다.이것들이 어떻게 세팅되냐에 따라 같은 데이터셋이라 하더라도 모델의 성능이 달라집니다.\n",
    "- 파라미터 튜닝은 시간, 경험, 알고리즘에 대한 이해등이 필요합니다. 결국 많이 써봐야 모델도 잘 세울 수 있는 것이죠. 그래서 캐글을 추천합니다. 여러 데이터셋을 가지고 모델을 이리저리 써봐야 튜닝하는 감이 생길테니까요!\n",
    "- 일단 지금은 튜토리얼이니 파라미터 튜닝은 잠시 제쳐두기로하고, 기본 default세팅으로 진행하겠습니다.\n",
    "- 모델객체를 만들고, fit메소드로 학습시킵니다.\n",
    "- 그런후 valid set input을 넣어주어 예측값(X_vld sample(탑승객)의 생존여부)를 얻습니다.\n",
    "\n",
    "# 4.2 Model generation and prediction"
   ]
  },
  {
   "cell_type": "code",
   "execution_count": 28,
   "id": "35ef410c",
   "metadata": {
    "execution": {
     "iopub.execute_input": "2022-07-07T06:00:22.858687Z",
     "iopub.status.busy": "2022-07-07T06:00:22.857452Z",
     "iopub.status.idle": "2022-07-07T06:00:23.092543Z",
     "shell.execute_reply": "2022-07-07T06:00:23.090498Z"
    },
    "papermill": {
     "duration": 0.268778,
     "end_time": "2022-07-07T06:00:23.096269",
     "exception": false,
     "start_time": "2022-07-07T06:00:22.827491",
     "status": "completed"
    },
    "tags": []
   },
   "outputs": [],
   "source": [
    "model = RandomForestClassifier()\n",
    "model.fit(X_tr, y_tr)\n",
    "prediction = model.predict(X_vld)"
   ]
  },
  {
   "cell_type": "markdown",
   "id": "b827825f",
   "metadata": {
    "papermill": {
     "duration": 0.016169,
     "end_time": "2022-07-07T06:00:23.135869",
     "exception": false,
     "start_time": "2022-07-07T06:00:23.119700",
     "status": "completed"
    },
    "tags": []
   },
   "source": [
    "- 단 세줄만으로 여러분은 모델을 세우고, 예측까지 해봤습니다.\n",
    "- 자, 이제 모델의 성능을 한번 살펴보겠습니다."
   ]
  },
  {
   "cell_type": "code",
   "execution_count": 29,
   "id": "90fd06ec",
   "metadata": {
    "execution": {
     "iopub.execute_input": "2022-07-07T06:00:23.175585Z",
     "iopub.status.busy": "2022-07-07T06:00:23.173881Z",
     "iopub.status.idle": "2022-07-07T06:00:23.183601Z",
     "shell.execute_reply": "2022-07-07T06:00:23.182600Z"
    },
    "papermill": {
     "duration": 0.034527,
     "end_time": "2022-07-07T06:00:23.188936",
     "exception": false,
     "start_time": "2022-07-07T06:00:23.154409",
     "status": "completed"
    },
    "tags": []
   },
   "outputs": [
    {
     "name": "stdout",
     "output_type": "stream",
     "text": [
      "총 268명 중 82.09% 정확도로 생존을 맞춤\n"
     ]
    }
   ],
   "source": [
    "print('총 {}명 중 {:.2f}% 정확도로 생존을 맞춤'.format(y_vld.shape[0], 100*metrics.accuracy_score(prediction, y_vld)))"
   ]
  },
  {
   "cell_type": "markdown",
   "id": "cd244d7b",
   "metadata": {
    "papermill": {
     "duration": 0.026108,
     "end_time": "2022-07-07T06:00:23.241556",
     "exception": false,
     "start_time": "2022-07-07T06:00:23.215448",
     "status": "completed"
    },
    "tags": []
   },
   "source": [
    "- 아무런 파라미터 튜닝도 하지 않았는데 82%의 정확도가 나왔습니다. 고생하셨습니다!\n",
    "\n",
    "# 4.3 Feature importance\n",
    "- 학습된 모델은 feature importance를 가지게 되는데, 우리는 이것을 확인하여 지금 만든 모델이 어떤 feature에 영향을 많이 받았는지 확인할 수 있습니다.\n",
    "- 쉽게말해, 10=4*1 + 2*2 + 1*3을 생각하면, 우리는 *1이 결과값(10)에 큰 영향을 준다고 생각 할 수 있습니다. feature importance는 4, 2, 1을 야기하며, *1이 가장 큰 값(4)를 가지므로, 이 모델에 가장 큰 영향을 미친다고 말할 수 있습니다.\n",
    "- 학습된 모델은 기본적으로 featureimportances를 가지고 있어서 쉽게 그 수치를 얻을 수있습니다.\n",
    "- pandas series를 이용하면 쉽게 sorting을 하여 그래프를 그릴 수 있습니다."
   ]
  },
  {
   "cell_type": "code",
   "execution_count": 30,
   "id": "5b91f7d4",
   "metadata": {
    "execution": {
     "iopub.execute_input": "2022-07-07T06:00:23.290422Z",
     "iopub.status.busy": "2022-07-07T06:00:23.289060Z",
     "iopub.status.idle": "2022-07-07T06:00:23.577598Z",
     "shell.execute_reply": "2022-07-07T06:00:23.576718Z"
    },
    "papermill": {
     "duration": 0.310112,
     "end_time": "2022-07-07T06:00:23.580960",
     "exception": false,
     "start_time": "2022-07-07T06:00:23.270848",
     "status": "completed"
    },
    "tags": []
   },
   "outputs": [
    {
     "data": {
      "image/png": "[encoded data removed]",
      "text/plain": [
       "<Figure size 576x576 with 1 Axes>"
      ]
     },
     "metadata": {
      "needs_background": "light"
     },
     "output_type": "display_data"
    }
   ],
   "source": [
    "from pandas import Series\n",
    "feature_importance = model.feature_importances_\n",
    "Series_feat_imp = Series(feature_importance, index=df_test.columns)\n",
    "plt.figure(figsize=(8,8))\n",
    "Series_feat_imp.sort_values(ascending=True).plot.barh()\n",
    "plt.xlabel('Feature importance')\n",
    "plt.ylabel('Feature')\n",
    "plt.show()"
   ]
  },
  {
   "cell_type": "markdown",
   "id": "4dbec5db",
   "metadata": {
    "papermill": {
     "duration": 0.019943,
     "end_time": "2022-07-07T06:00:23.618952",
     "exception": false,
     "start_time": "2022-07-07T06:00:23.599009",
     "status": "completed"
    },
    "tags": []
   },
   "source": [
    "- 우리가 얻은 모델에서는 Fare가 가장 큰 영향력을 가지며, 그뒤로 Initial_2, Age_cat, Pclass가 차례로 중요도를 가집니다.\n",
    "- 사실 feature importances는 지금 모델에서의 importance를 나타냅니다. 만약 다른 모델을 사용하게 된다면 feature importance가 다르게 나올 수 있습니다.\n",
    "- 이 feature importance를 보고 실제로 Fare가 중요한 feature일 수 있다고 판단을 내릴 수는 있지만, 이것은 결국 모델에 귀속되는 하나의 결론이므로 통계적으로 좀 더 살펴보긴 해야합니다.\n",
    "- feature importance를 가지고 좀 더 정확도가 높은 모델을 얻기 위해 feature selection 을 할 수도 있고, 좀 더 빠른 모델을 위해 feature제거를 할 수 있습니다.\n",
    "\n",
    "# 4.4 Prediction on Test set\n",
    "- 이제 모델이 학습하지 않았던 테스트셋을 모델에 주어서, 생존여부를 예측해보겠습니다.\n",
    "- 이 결과는 실제로 submission(제출용)이므로 결과는 leaderboard에서 확인 할 수 있습니다.\n",
    "- 캐글에서 준 파일, gender_submission.csv파일을 읽어서 제출 준비를 하겠습니다."
   ]
  },
  {
   "cell_type": "code",
   "execution_count": 31,
   "id": "d25de66d",
   "metadata": {
    "execution": {
     "iopub.execute_input": "2022-07-07T06:00:23.657147Z",
     "iopub.status.busy": "2022-07-07T06:00:23.656542Z",
     "iopub.status.idle": "2022-07-07T06:00:23.674985Z",
     "shell.execute_reply": "2022-07-07T06:00:23.672957Z"
    },
    "papermill": {
     "duration": 0.040236,
     "end_time": "2022-07-07T06:00:23.677821",
     "exception": false,
     "start_time": "2022-07-07T06:00:23.637585",
     "status": "completed"
    },
    "tags": []
   },
   "outputs": [
    {
     "data": {
      "text/html": [
       "<div>\n",
       "<style scoped>\n",
       "    .dataframe tbody tr th:only-of-type {\n",
       "        vertical-align: middle;\n",
       "    }\n",
       "\n",
       "    .dataframe tbody tr th {\n",
       "        vertical-align: top;\n",
       "    }\n",
       "\n",
       "    .dataframe thead th {\n",
       "        text-align: right;\n",
       "    }\n",
       "</style>\n",
       "<table border=\"1\" class=\"dataframe\">\n",
       "  <thead>\n",
       "    <tr style=\"text-align: right;\">\n",
       "      <th></th>\n",
       "      <th>PassengerId</th>\n",
       "      <th>Survived</th>\n",
       "    </tr>\n",
       "  </thead>\n",
       "  <tbody>\n",
       "    <tr>\n",
       "      <th>0</th>\n",
       "      <td>892</td>\n",
       "      <td>0</td>\n",
       "    </tr>\n",
       "    <tr>\n",
       "      <th>1</th>\n",
       "      <td>893</td>\n",
       "      <td>1</td>\n",
       "    </tr>\n",
       "    <tr>\n",
       "      <th>2</th>\n",
       "      <td>894</td>\n",
       "      <td>0</td>\n",
       "    </tr>\n",
       "    <tr>\n",
       "      <th>3</th>\n",
       "      <td>895</td>\n",
       "      <td>0</td>\n",
       "    </tr>\n",
       "    <tr>\n",
       "      <th>4</th>\n",
       "      <td>896</td>\n",
       "      <td>1</td>\n",
       "    </tr>\n",
       "  </tbody>\n",
       "</table>\n",
       "</div>"
      ],
      "text/plain": [
       "   PassengerId  Survived\n",
       "0          892         0\n",
       "1          893         1\n",
       "2          894         0\n",
       "3          895         0\n",
       "4          896         1"
      ]
     },
     "execution_count": 31,
     "metadata": {},
     "output_type": "execute_result"
    }
   ],
   "source": [
    "submission = pd.read_csv('../input/titanic/gender_submission.csv')\n",
    "submission.head()"
   ]
  },
  {
   "cell_type": "markdown",
   "id": "51c09739",
   "metadata": {
    "papermill": {
     "duration": 0.024165,
     "end_time": "2022-07-07T06:00:23.728610",
     "exception": false,
     "start_time": "2022-07-07T06:00:23.704445",
     "status": "completed"
    },
    "tags": []
   },
   "source": [
    "- 이제 testset에 대하여 예측을 하고, 결과를 csv파일로 저장해보겠습니다."
   ]
  },
  {
   "cell_type": "code",
   "execution_count": 32,
   "id": "80dce3c4",
   "metadata": {
    "execution": {
     "iopub.execute_input": "2022-07-07T06:00:23.785152Z",
     "iopub.status.busy": "2022-07-07T06:00:23.784210Z",
     "iopub.status.idle": "2022-07-07T06:00:23.821742Z",
     "shell.execute_reply": "2022-07-07T06:00:23.820451Z"
    },
    "papermill": {
     "duration": 0.069375,
     "end_time": "2022-07-07T06:00:23.824171",
     "exception": false,
     "start_time": "2022-07-07T06:00:23.754796",
     "status": "completed"
    },
    "tags": []
   },
   "outputs": [],
   "source": [
    "prediction = model.predict(X_test)\n",
    "submission['Survived'] = prediction\n",
    "submission.to_csv('./my_first_submission.csv', index=False)"
   ]
  },
  {
   "cell_type": "markdown",
   "id": "5ca05dc2",
   "metadata": {
    "papermill": {
     "duration": 0.017165,
     "end_time": "2022-07-07T06:00:23.858203",
     "exception": false,
     "start_time": "2022-07-07T06:00:23.841038",
     "status": "completed"
    },
    "tags": []
   },
   "source": [
    "- 이제 캐글에 제출해보도록 합시다.\n",
    "\n",
    "# 5 Conclusion\n",
    "- 정말 수고하셨습니다. 여러분은 titanic dataset을 가지고 data science를 경험해보셨습니다.\n",
    "- 이걸로 끝이 아닙니다. 앞으로 배울것이 너무나 무궁무진합니다.\n",
    "- 좀 더 참신한 feature engineering, 머신러닝모델 hyperparameter tunning, ensembling등, 무궁무진합니다...\n",
    "- 꾸준히 커널 공부를 하시면 실력이 꾸준히 늘겁니다.\n",
    "- 포기하지마시고 재밌게 하시면됩니다.\n",
    "- 본 튜토리얼을 따라해주셔서 감사하며, 제유튜브 채널에 강의도 올려놨으니 한번 보시면 됩니다."
   ]
  }
 ],
 "metadata": {
  "kernelspec": {
   "display_name": "Python 3",
   "language": "python",
   "name": "python3"
  },
  "language_info": {
   "codemirror_mode": {
    "name": "ipython",
    "version": 3
   },
   "file_extension": ".py",
   "mimetype": "text/x-python",
   "name": "python",
   "nbconvert_exporter": "python",
   "pygments_lexer": "ipython3",
   "version": "3.7.12"
  },
  "papermill": {
   "default_parameters": {},
   "duration": 17.90331,
   "end_time": "2022-07-07T06:00:25.004322",
   "environment_variables": {},
   "exception": null,
   "input_path": "__notebook__.ipynb",
   "output_path": "__notebook__.ipynb",
   "parameters": {},
   "start_time": "2022-07-07T06:00:07.101012",
   "version": "2.3.4"
  }
 },
 "nbformat": 4,
 "nbformat_minor": 5
}
